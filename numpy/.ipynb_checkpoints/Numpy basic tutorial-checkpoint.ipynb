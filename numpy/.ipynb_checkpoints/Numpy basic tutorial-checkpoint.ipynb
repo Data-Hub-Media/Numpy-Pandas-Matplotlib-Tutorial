{
 "cells": [
  {
   "cell_type": "markdown",
   "metadata": {
    "toc": true
   },
   "source": [
    "<h1>Table of Contents<span class=\"tocSkip\"></span></h1>\n",
    "<div class=\"toc\"><ul class=\"toc-item\"><li><span><a href=\"#Numpy-Tutorial\" data-toc-modified-id=\"Numpy-Tutorial-1\"><span class=\"toc-item-num\">1&nbsp;&nbsp;</span>Numpy Tutorial</a></span><ul class=\"toc-item\"><li><span><a href=\"#BASICS\" data-toc-modified-id=\"BASICS-1.1\"><span class=\"toc-item-num\">1.1&nbsp;&nbsp;</span>BASICS</a></span></li><li><span><a href=\"#Accessing/Changing-specific-elements,-rows,-columns,-etc\" data-toc-modified-id=\"Accessing/Changing-specific-elements,-rows,-columns,-etc-1.2\"><span class=\"toc-item-num\">1.2&nbsp;&nbsp;</span>Accessing/Changing specific elements, rows, columns, etc</a></span></li><li><span><a href=\"#Initializing-different-type-of-arrays\" data-toc-modified-id=\"Initializing-different-type-of-arrays-1.3\"><span class=\"toc-item-num\">1.3&nbsp;&nbsp;</span>Initializing different type of arrays</a></span></li><li><span><a href=\"#Mathematics\" data-toc-modified-id=\"Mathematics-1.4\"><span class=\"toc-item-num\">1.4&nbsp;&nbsp;</span>Mathematics</a></span><ul class=\"toc-item\"><li><span><a href=\"#linear-algebra\" data-toc-modified-id=\"linear-algebra-1.4.1\"><span class=\"toc-item-num\">1.4.1&nbsp;&nbsp;</span>linear algebra</a></span></li><li><span><a href=\"#statistics\" data-toc-modified-id=\"statistics-1.4.2\"><span class=\"toc-item-num\">1.4.2&nbsp;&nbsp;</span>statistics</a></span></li></ul></li><li><span><a href=\"#Reoraganizing-arrays\" data-toc-modified-id=\"Reoraganizing-arrays-1.5\"><span class=\"toc-item-num\">1.5&nbsp;&nbsp;</span>Reoraganizing arrays</a></span></li><li><span><a href=\"#Miscellaneous---loading-data\" data-toc-modified-id=\"Miscellaneous---loading-data-1.6\"><span class=\"toc-item-num\">1.6&nbsp;&nbsp;</span>Miscellaneous - loading data</a></span><ul class=\"toc-item\"><li><span><a href=\"#load-data-from-file\" data-toc-modified-id=\"load-data-from-file-1.6.1\"><span class=\"toc-item-num\">1.6.1&nbsp;&nbsp;</span>load data from file</a></span></li><li><span><a href=\"#boolean-masking-and-advanced-indexing\" data-toc-modified-id=\"boolean-masking-and-advanced-indexing-1.6.2\"><span class=\"toc-item-num\">1.6.2&nbsp;&nbsp;</span>boolean masking and advanced indexing</a></span></li><li><span><a href=\"#Return-evenly-spaced-numbers-over-a-specified-interval.\" data-toc-modified-id=\"Return-evenly-spaced-numbers-over-a-specified-interval.-1.6.3\"><span class=\"toc-item-num\">1.6.3&nbsp;&nbsp;</span>Return evenly spaced numbers over a specified interval.</a></span></li></ul></li></ul></li></ul></div>"
   ]
  },
  {
   "cell_type": "markdown",
   "metadata": {},
   "source": [
    "# Numpy Tutorial"
   ]
  },
  {
   "cell_type": "code",
   "execution_count": 1,
   "metadata": {
    "ExecuteTime": {
     "end_time": "2019-12-20T16:08:24.252673Z",
     "start_time": "2019-12-20T16:08:24.070271Z"
    }
   },
   "outputs": [],
   "source": [
    "import numpy as np"
   ]
  },
  {
   "cell_type": "markdown",
   "metadata": {},
   "source": [
    "## BASICS"
   ]
  },
  {
   "cell_type": "code",
   "execution_count": 2,
   "metadata": {
    "ExecuteTime": {
     "end_time": "2019-12-20T16:08:24.261831Z",
     "start_time": "2019-12-20T16:08:24.255341Z"
    }
   },
   "outputs": [],
   "source": [
    "a = np.array([1, 2, 3])\n",
    "\n",
    "b = np.array([\n",
    "    [1., 1.],\n",
    "    [1., 1.]\n",
    "])\n",
    "\n",
    "c = np.array([1,2, 3], dtype=\"int16\")\n",
    "d = np.array([14, -3.54, 5 + 7j]) "
   ]
  },
  {
   "cell_type": "code",
   "execution_count": 3,
   "metadata": {
    "ExecuteTime": {
     "end_time": "2019-12-20T16:08:24.415419Z",
     "start_time": "2019-12-20T16:08:24.264895Z"
    }
   },
   "outputs": [
    {
     "name": "stdout",
     "output_type": "stream",
     "text": [
      "[1 2 3]\n",
      "[[1. 1.]\n",
      " [1. 1.]]\n",
      "[1 2 3]\n",
      "[14.  +0.j -3.54+0.j  5.  +7.j]\n",
      "-------\n",
      "1\n",
      "2\n",
      "1\n",
      "-------\n",
      "(3,)\n",
      "(2, 2)\n",
      "(3,)\n"
     ]
    }
   ],
   "source": [
    "print(a)\n",
    "print(b)\n",
    "print(c)\n",
    "print(d)\n",
    "print('-------')\n",
    "print(a.ndim)\n",
    "print(b.ndim)\n",
    "print(c.ndim)\n",
    "print('-------')\n",
    "print(a.shape)\n",
    "print(b.shape)\n",
    "print(c.shape)"
   ]
  },
  {
   "cell_type": "markdown",
   "metadata": {},
   "source": [
    "* **Numpy Benefits**\n",
    "\n",
    "    1) Fixed Type\n",
    "    \n",
    "    2) Contigious memory\n"
   ]
  },
  {
   "cell_type": "code",
   "execution_count": 4,
   "metadata": {
    "ExecuteTime": {
     "end_time": "2019-12-20T16:08:24.546019Z",
     "start_time": "2019-12-20T16:08:24.419182Z"
    }
   },
   "outputs": [
    {
     "name": "stdout",
     "output_type": "stream",
     "text": [
      "int32\n",
      "float64\n",
      "int16\n"
     ]
    }
   ],
   "source": [
    "# get type\n",
    "print(a.dtype)\n",
    "print(b.dtype)\n",
    "print(c.dtype)"
   ]
  },
  {
   "cell_type": "code",
   "execution_count": 5,
   "metadata": {
    "ExecuteTime": {
     "end_time": "2019-12-20T16:08:24.683554Z",
     "start_time": "2019-12-20T16:08:24.548014Z"
    }
   },
   "outputs": [
    {
     "name": "stdout",
     "output_type": "stream",
     "text": [
      "4\n",
      "8\n",
      "2\n"
     ]
    }
   ],
   "source": [
    "# get size - size of each item (B)\n",
    "print(a.itemsize)\n",
    "print(b.itemsize)\n",
    "print(c.itemsize)"
   ]
  },
  {
   "cell_type": "code",
   "execution_count": 6,
   "metadata": {
    "ExecuteTime": {
     "end_time": "2019-12-20T16:08:24.856337Z",
     "start_time": "2019-12-20T16:08:24.685846Z"
    }
   },
   "outputs": [
    {
     "name": "stdout",
     "output_type": "stream",
     "text": [
      "12\n",
      "12\n",
      "32\n",
      "6\n"
     ]
    }
   ],
   "source": [
    "# get total size - total space used (B )\n",
    "print(a.size * a.itemsize)\n",
    "print(a.nbytes)\n",
    "print(b.nbytes)\n",
    "print(c.nbytes)"
   ]
  },
  {
   "cell_type": "markdown",
   "metadata": {},
   "source": [
    "## Accessing/Changing specific elements, rows, columns, etc"
   ]
  },
  {
   "cell_type": "code",
   "execution_count": 7,
   "metadata": {
    "ExecuteTime": {
     "end_time": "2019-12-20T16:08:24.986650Z",
     "start_time": "2019-12-20T16:08:24.864841Z"
    }
   },
   "outputs": [
    {
     "name": "stdout",
     "output_type": "stream",
     "text": [
      "[[ 1  2  3  4  5  6  7]\n",
      " [ 8  9 10 11 12 13 14]]\n",
      "(2, 7)\n"
     ]
    }
   ],
   "source": [
    "a = np.array([[1,2, 3, 4, 5, 6, 7], [8, 9, 10, 11, 12, 13, 14]])\n",
    "print(a)\n",
    "print(a.shape)"
   ]
  },
  {
   "cell_type": "code",
   "execution_count": 8,
   "metadata": {
    "ExecuteTime": {
     "end_time": "2019-12-20T16:08:25.148829Z",
     "start_time": "2019-12-20T16:08:24.992952Z"
    }
   },
   "outputs": [
    {
     "name": "stdout",
     "output_type": "stream",
     "text": [
      "13\n",
      "13\n",
      "13\n"
     ]
    }
   ],
   "source": [
    "# get a specific element [r, c]\n",
    "print(a[1, 5])\n",
    "print(a[1][5])\n",
    "print(a[1][-2])"
   ]
  },
  {
   "cell_type": "code",
   "execution_count": 9,
   "metadata": {
    "ExecuteTime": {
     "end_time": "2019-12-20T16:08:25.303812Z",
     "start_time": "2019-12-20T16:08:25.150566Z"
    }
   },
   "outputs": [
    {
     "data": {
      "text/plain": [
       "array([1, 2, 3, 4, 5, 6, 7])"
      ]
     },
     "execution_count": 9,
     "metadata": {},
     "output_type": "execute_result"
    }
   ],
   "source": [
    "#  get a specific row\n",
    "a[0, :]"
   ]
  },
  {
   "cell_type": "code",
   "execution_count": 10,
   "metadata": {
    "ExecuteTime": {
     "end_time": "2019-12-20T16:08:25.438045Z",
     "start_time": "2019-12-20T16:08:25.307904Z"
    }
   },
   "outputs": [
    {
     "data": {
      "text/plain": [
       "array([ 3, 10])"
      ]
     },
     "execution_count": 10,
     "metadata": {},
     "output_type": "execute_result"
    }
   ],
   "source": [
    "# get a specific col\n",
    "a[:, 2]"
   ]
  },
  {
   "cell_type": "code",
   "execution_count": 11,
   "metadata": {
    "ExecuteTime": {
     "end_time": "2019-12-20T16:08:25.645551Z",
     "start_time": "2019-12-20T16:08:25.441888Z"
    }
   },
   "outputs": [
    {
     "name": "stdout",
     "output_type": "stream",
     "text": [
      "[2 4 6]\n"
     ]
    }
   ],
   "source": [
    "# getting fancy [startindex: endindex: stepsize]\n",
    "print(a[0, 1:6:2])"
   ]
  },
  {
   "cell_type": "code",
   "execution_count": 12,
   "metadata": {
    "ExecuteTime": {
     "end_time": "2019-12-20T16:08:25.817375Z",
     "start_time": "2019-12-20T16:08:25.646910Z"
    }
   },
   "outputs": [
    {
     "name": "stdout",
     "output_type": "stream",
     "text": [
      "[[ 1  2  3  4  5  6  7]\n",
      " [ 8  9 10 11 12 20 14]]\n",
      "-----\n",
      "[[ 1  2  5  4  5  6  7]\n",
      " [ 8  9  5 11 12 20 14]]\n",
      "-----\n",
      "[[ 1  2  1  4  5  6  7]\n",
      " [ 8  9  2 11 12 20 14]]\n"
     ]
    }
   ],
   "source": [
    "# changing element(s)\n",
    "a [1, 5] = 20\n",
    "print(a)\n",
    "print('-----')\n",
    "a[:, 2] = 5\n",
    "print(a)\n",
    "print('-----')\n",
    "a[:, 2] = [1, 2]\n",
    "print(a)"
   ]
  },
  {
   "cell_type": "code",
   "execution_count": 13,
   "metadata": {
    "ExecuteTime": {
     "end_time": "2019-12-20T16:08:25.994361Z",
     "start_time": "2019-12-20T16:08:25.821573Z"
    }
   },
   "outputs": [
    {
     "name": "stdout",
     "output_type": "stream",
     "text": [
      "[[[1 2]\n",
      "  [3 4]]\n",
      "\n",
      " [[5 6]\n",
      "  [7 8]]]\n",
      "------\n",
      "(2, 2, 2)\n"
     ]
    }
   ],
   "source": [
    "# 3-d\n",
    "a = np.array([[[1, 2], [3, 4]], [[5, 6], [7, 8]]])\n",
    "print(a)\n",
    "print('------')\n",
    "print(a.shape)\n",
    "\n",
    "# think of number of rows as original number of rows\n",
    "# inside each box columns become rows and depth becomes columns\n",
    "# think of it as [1, 2] at at position a[0, 0]\n",
    "\n",
    "# NumPy’s order for printing n-dimensional arrays is that the last axis\n",
    "# is looped over the fastest, while the first is the slowest"
   ]
  },
  {
   "cell_type": "code",
   "execution_count": 14,
   "metadata": {
    "ExecuteTime": {
     "end_time": "2019-12-20T16:08:26.148187Z",
     "start_time": "2019-12-20T16:08:25.996354Z"
    }
   },
   "outputs": [
    {
     "name": "stdout",
     "output_type": "stream",
     "text": [
      "[1 2]\n",
      "[3 4]\n",
      "[5 6]\n",
      "[7 8]\n",
      "4\n"
     ]
    }
   ],
   "source": [
    "print(a[0, 0])\n",
    "print(a[0, 1])\n",
    "print(a[1, 0])\n",
    "print(a[1, 1])\n",
    "\n",
    "# get specific element\n",
    "print(a[0,1,1])"
   ]
  },
  {
   "cell_type": "code",
   "execution_count": 15,
   "metadata": {
    "ExecuteTime": {
     "end_time": "2019-12-20T16:08:26.302806Z",
     "start_time": "2019-12-20T16:08:26.153263Z"
    }
   },
   "outputs": [
    {
     "name": "stdout",
     "output_type": "stream",
     "text": [
      "[[[ 1  2]\n",
      "  [10 11]]\n",
      "\n",
      " [[ 5  6]\n",
      "  [12 13]]]\n",
      "-----\n",
      "[[[ 1  2]\n",
      "  [99 98]]\n",
      "\n",
      " [[ 5  6]\n",
      "  [12 13]]]\n"
     ]
    }
   ],
   "source": [
    "# replace\n",
    "\n",
    "a[:, 1, :] = [[10, 11], [12, 13]]\n",
    "print(a)\n",
    "print('-----')\n",
    "\n",
    "a[0, 1, :] = [99, 98]\n",
    "print(a)"
   ]
  },
  {
   "cell_type": "markdown",
   "metadata": {
    "ExecuteTime": {
     "end_time": "2019-12-20T14:39:58.976557Z",
     "start_time": "2019-12-20T14:39:58.971570Z"
    }
   },
   "source": [
    "## Initializing different type of arrays"
   ]
  },
  {
   "cell_type": "code",
   "execution_count": 16,
   "metadata": {
    "ExecuteTime": {
     "end_time": "2019-12-20T16:08:26.464679Z",
     "start_time": "2019-12-20T16:08:26.303809Z"
    }
   },
   "outputs": [
    {
     "data": {
      "text/plain": [
       "array([[0., 0., 0.],\n",
       "       [0., 0., 0.]])"
      ]
     },
     "execution_count": 16,
     "metadata": {},
     "output_type": "execute_result"
    }
   ],
   "source": [
    "# all 0's matrix\n",
    "np.zeros(shape=(2, 3))"
   ]
  },
  {
   "cell_type": "code",
   "execution_count": 17,
   "metadata": {
    "ExecuteTime": {
     "end_time": "2019-12-20T16:08:26.605757Z",
     "start_time": "2019-12-20T16:08:26.468966Z"
    }
   },
   "outputs": [
    {
     "data": {
      "text/plain": [
       "array([[[1, 1],\n",
       "        [1, 1]],\n",
       "\n",
       "       [[1, 1],\n",
       "        [1, 1]],\n",
       "\n",
       "       [[1, 1],\n",
       "        [1, 1]],\n",
       "\n",
       "       [[1, 1],\n",
       "        [1, 1]]])"
      ]
     },
     "execution_count": 17,
     "metadata": {},
     "output_type": "execute_result"
    }
   ],
   "source": [
    "# all 1's matrix\n",
    "np.ones((4, 2, 2), dtype='int32')"
   ]
  },
  {
   "cell_type": "code",
   "execution_count": 18,
   "metadata": {
    "ExecuteTime": {
     "end_time": "2019-12-20T16:08:26.744903Z",
     "start_time": "2019-12-20T16:08:26.607750Z"
    }
   },
   "outputs": [
    {
     "data": {
      "text/plain": [
       "array([[99, 99],\n",
       "       [99, 99]])"
      ]
     },
     "execution_count": 18,
     "metadata": {},
     "output_type": "execute_result"
    }
   ],
   "source": [
    "# any other number\n",
    "np.full((2, 2), 99)"
   ]
  },
  {
   "cell_type": "code",
   "execution_count": 19,
   "metadata": {
    "ExecuteTime": {
     "end_time": "2019-12-20T16:08:26.908268Z",
     "start_time": "2019-12-20T16:08:26.747853Z"
    }
   },
   "outputs": [
    {
     "data": {
      "text/plain": [
       "array([[8, 8, 8, 8, 8, 8, 8],\n",
       "       [8, 8, 8, 8, 8, 8, 8]])"
      ]
     },
     "execution_count": 19,
     "metadata": {},
     "output_type": "execute_result"
    }
   ],
   "source": [
    "# any other number (full_like)\n",
    "a = np.array([[1,2, 3, 4, 5, 6, 7], [8, 9, 10, 11, 12, 13, 14]])\n",
    "np.full_like(a, 8)"
   ]
  },
  {
   "cell_type": "code",
   "execution_count": 20,
   "metadata": {
    "ExecuteTime": {
     "end_time": "2019-12-20T16:08:27.072309Z",
     "start_time": "2019-12-20T16:08:26.912527Z"
    }
   },
   "outputs": [
    {
     "data": {
      "text/plain": [
       "array([[[0.6514823 , 0.12591564, 0.24994712],\n",
       "        [0.65340368, 0.2395623 , 0.06370817]],\n",
       "\n",
       "       [[0.54895028, 0.28991765, 0.94820664],\n",
       "        [0.97250621, 0.19732559, 0.28331786]],\n",
       "\n",
       "       [[0.27042123, 0.87149952, 0.55373447],\n",
       "        [0.59224658, 0.82404393, 0.81577785]],\n",
       "\n",
       "       [[0.10883364, 0.46947112, 0.22182338],\n",
       "        [0.69554583, 0.42758903, 0.75567745]]])"
      ]
     },
     "execution_count": 20,
     "metadata": {},
     "output_type": "execute_result"
    }
   ],
   "source": [
    "# random decimal numbers\n",
    "np.random.rand(4, 2, 3)"
   ]
  },
  {
   "cell_type": "code",
   "execution_count": 21,
   "metadata": {
    "ExecuteTime": {
     "end_time": "2019-12-20T16:08:27.208720Z",
     "start_time": "2019-12-20T16:08:27.079455Z"
    }
   },
   "outputs": [
    {
     "data": {
      "text/plain": [
       "array([[0.70437495, 0.2216569 , 0.16502283, 0.23879313, 0.02727932,\n",
       "        0.75904027, 0.21983311],\n",
       "       [0.75986234, 0.54779256, 0.81850619, 0.80287975, 0.19509036,\n",
       "        0.66145109, 0.1659985 ]])"
      ]
     },
     "execution_count": 21,
     "metadata": {},
     "output_type": "execute_result"
    }
   ],
   "source": [
    "np.random.random_sample(a.shape)"
   ]
  },
  {
   "cell_type": "code",
   "execution_count": 22,
   "metadata": {
    "ExecuteTime": {
     "end_time": "2019-12-20T16:08:27.365905Z",
     "start_time": "2019-12-20T16:08:27.223175Z"
    }
   },
   "outputs": [
    {
     "name": "stdout",
     "output_type": "stream",
     "text": [
      "4\n",
      "[[5 4 2]\n",
      " [5 1 6]\n",
      " [0 1 3]]\n"
     ]
    }
   ],
   "source": [
    "# random integer values\n",
    "print(np.random.randint(7))\n",
    "print(np.random.randint(7, size=(3, 3)))"
   ]
  },
  {
   "cell_type": "code",
   "execution_count": 23,
   "metadata": {
    "ExecuteTime": {
     "end_time": "2019-12-20T16:08:27.520756Z",
     "start_time": "2019-12-20T16:08:27.379198Z"
    }
   },
   "outputs": [
    {
     "data": {
      "text/plain": [
       "array([[1., 0., 0.],\n",
       "       [0., 1., 0.],\n",
       "       [0., 0., 1.]])"
      ]
     },
     "execution_count": 23,
     "metadata": {},
     "output_type": "execute_result"
    }
   ],
   "source": [
    "# identity matrix\n",
    "np.identity(3)"
   ]
  },
  {
   "cell_type": "code",
   "execution_count": 24,
   "metadata": {
    "ExecuteTime": {
     "end_time": "2019-12-20T16:08:27.668986Z",
     "start_time": "2019-12-20T16:08:27.527000Z"
    }
   },
   "outputs": [
    {
     "name": "stdout",
     "output_type": "stream",
     "text": [
      "[[1 2 3]\n",
      " [1 2 3]\n",
      " [1 2 3]]\n",
      "-----\n",
      "[[1 1 1 2 2 2 3 3 3]]\n"
     ]
    }
   ],
   "source": [
    "# repeat an array\n",
    "\n",
    "arr = np.array([[1, 2, 3]])\n",
    "r1 = np.repeat(arr, 3, axis=0)\n",
    "print(r1)\n",
    "print('-----')\n",
    "r2 = np.repeat(arr, 3, axis=1)\n",
    "print(r2)"
   ]
  },
  {
   "cell_type": "code",
   "execution_count": 25,
   "metadata": {
    "ExecuteTime": {
     "end_time": "2019-12-20T16:08:27.815927Z",
     "start_time": "2019-12-20T16:08:27.669988Z"
    }
   },
   "outputs": [
    {
     "name": "stdout",
     "output_type": "stream",
     "text": [
      "[[1. 1. 1. 1. 1.]\n",
      " [1. 1. 1. 1. 1.]\n",
      " [1. 1. 1. 1. 1.]\n",
      " [1. 1. 1. 1. 1.]\n",
      " [1. 1. 1. 1. 1.]]\n",
      "-----\n",
      "[[0. 0. 0.]\n",
      " [0. 9. 0.]\n",
      " [0. 0. 0.]]\n",
      "-----\n",
      "[[1. 1. 1. 1. 1.]\n",
      " [1. 0. 0. 0. 1.]\n",
      " [1. 0. 9. 0. 1.]\n",
      " [1. 0. 0. 0. 1.]\n",
      " [1. 1. 1. 1. 1.]]\n"
     ]
    }
   ],
   "source": [
    "#  creating a customized matrix\n",
    "output = np.ones((5, 5))\n",
    "print(output)\n",
    "print('-----')\n",
    "\n",
    "z = np.zeros((3, 3))\n",
    "z[1, 1] = 9\n",
    "print(z)\n",
    "print('-----')\n",
    "\n",
    "output[1:4, 1: 4] = z\n",
    "print(output)"
   ]
  },
  {
   "cell_type": "code",
   "execution_count": 26,
   "metadata": {
    "ExecuteTime": {
     "end_time": "2019-12-20T16:08:27.986376Z",
     "start_time": "2019-12-20T16:08:27.816956Z"
    }
   },
   "outputs": [
    {
     "name": "stdout",
     "output_type": "stream",
     "text": [
      "[100   2   3]\n",
      "[100   2   3]\n",
      "-----\n",
      "[1 2 3]\n",
      "[100   2   3]\n"
     ]
    }
   ],
   "source": [
    "# careful while copying\n",
    "a = np.array([1, 2, 3])\n",
    "b = a # just points\n",
    "b [0]= 100\n",
    "print(a)\n",
    "print(b)\n",
    "print('-----')\n",
    "\n",
    "a = np.array([1, 2, 3])\n",
    "b = a.copy()\n",
    "b [0]= 100\n",
    "print(a)\n",
    "print(b)\n"
   ]
  },
  {
   "cell_type": "markdown",
   "metadata": {
    "ExecuteTime": {
     "end_time": "2019-12-20T14:54:07.778468Z",
     "start_time": "2019-12-20T14:54:07.773481Z"
    }
   },
   "source": [
    "## Mathematics"
   ]
  },
  {
   "cell_type": "code",
   "execution_count": 27,
   "metadata": {
    "ExecuteTime": {
     "end_time": "2019-12-20T16:08:28.124374Z",
     "start_time": "2019-12-20T16:08:27.991465Z"
    }
   },
   "outputs": [
    {
     "name": "stdout",
     "output_type": "stream",
     "text": [
      "[1 2 3 4]\n"
     ]
    }
   ],
   "source": [
    "a = np.array([1, 2, 3, 4])\n",
    "print(a)"
   ]
  },
  {
   "cell_type": "code",
   "execution_count": 28,
   "metadata": {
    "ExecuteTime": {
     "end_time": "2019-12-20T16:08:28.266657Z",
     "start_time": "2019-12-20T16:08:28.127282Z"
    }
   },
   "outputs": [
    {
     "data": {
      "text/plain": [
       "array([3, 4, 5, 6])"
      ]
     },
     "execution_count": 28,
     "metadata": {},
     "output_type": "execute_result"
    }
   ],
   "source": [
    "a + 2"
   ]
  },
  {
   "cell_type": "code",
   "execution_count": 29,
   "metadata": {
    "ExecuteTime": {
     "end_time": "2019-12-20T16:08:28.420525Z",
     "start_time": "2019-12-20T16:08:28.267659Z"
    }
   },
   "outputs": [
    {
     "data": {
      "text/plain": [
       "array([-1,  0,  1,  2])"
      ]
     },
     "execution_count": 29,
     "metadata": {},
     "output_type": "execute_result"
    }
   ],
   "source": [
    "a - 2"
   ]
  },
  {
   "cell_type": "code",
   "execution_count": 30,
   "metadata": {
    "ExecuteTime": {
     "end_time": "2019-12-20T16:08:28.568151Z",
     "start_time": "2019-12-20T16:08:28.427768Z"
    }
   },
   "outputs": [
    {
     "data": {
      "text/plain": [
       "array([0.5, 1. , 1.5, 2. ])"
      ]
     },
     "execution_count": 30,
     "metadata": {},
     "output_type": "execute_result"
    }
   ],
   "source": [
    "a / 2"
   ]
  },
  {
   "cell_type": "code",
   "execution_count": 31,
   "metadata": {
    "ExecuteTime": {
     "end_time": "2019-12-20T16:08:28.702242Z",
     "start_time": "2019-12-20T16:08:28.570191Z"
    }
   },
   "outputs": [],
   "source": [
    "b = np.array([1, 0, 1, 0])"
   ]
  },
  {
   "cell_type": "code",
   "execution_count": 32,
   "metadata": {
    "ExecuteTime": {
     "end_time": "2019-12-20T16:08:28.847959Z",
     "start_time": "2019-12-20T16:08:28.703243Z"
    }
   },
   "outputs": [
    {
     "data": {
      "text/plain": [
       "array([2, 2, 4, 4])"
      ]
     },
     "execution_count": 32,
     "metadata": {},
     "output_type": "execute_result"
    }
   ],
   "source": [
    "a + b\n"
   ]
  },
  {
   "cell_type": "code",
   "execution_count": 33,
   "metadata": {
    "ExecuteTime": {
     "end_time": "2019-12-20T16:08:29.009019Z",
     "start_time": "2019-12-20T16:08:28.853565Z"
    }
   },
   "outputs": [
    {
     "data": {
      "text/plain": [
       "array([ 0.84147098,  0.90929743,  0.14112001, -0.7568025 ])"
      ]
     },
     "execution_count": 33,
     "metadata": {},
     "output_type": "execute_result"
    }
   ],
   "source": [
    "np.sin(a) "
   ]
  },
  {
   "cell_type": "markdown",
   "metadata": {
    "ExecuteTime": {
     "end_time": "2019-12-20T14:56:32.438765Z",
     "start_time": "2019-12-20T14:56:32.434790Z"
    }
   },
   "source": [
    "### linear algebra\n"
   ]
  },
  {
   "cell_type": "code",
   "execution_count": 34,
   "metadata": {
    "ExecuteTime": {
     "end_time": "2019-12-20T16:08:29.148938Z",
     "start_time": "2019-12-20T16:08:29.015170Z"
    }
   },
   "outputs": [
    {
     "name": "stdout",
     "output_type": "stream",
     "text": [
      "[[1. 1. 1.]\n",
      " [1. 1. 1.]]\n",
      "[[2 2]\n",
      " [2 2]\n",
      " [2 2]]\n"
     ]
    }
   ],
   "source": [
    "a = np.ones((2, 3))\n",
    "print(a)\n",
    "\n",
    "b = np.full((3, 2), 2)\n",
    "print(b)"
   ]
  },
  {
   "cell_type": "code",
   "execution_count": 35,
   "metadata": {
    "ExecuteTime": {
     "end_time": "2019-12-20T16:08:29.285940Z",
     "start_time": "2019-12-20T16:08:29.153030Z"
    }
   },
   "outputs": [
    {
     "name": "stdout",
     "output_type": "stream",
     "text": [
      "1.0\n"
     ]
    }
   ],
   "source": [
    "c = np.identity(4)\n",
    "print(np.linalg.det(c))"
   ]
  },
  {
   "cell_type": "markdown",
   "metadata": {
    "ExecuteTime": {
     "end_time": "2019-12-20T14:59:04.931064Z",
     "start_time": "2019-12-20T14:59:04.925082Z"
    }
   },
   "source": [
    "### statistics"
   ]
  },
  {
   "cell_type": "code",
   "execution_count": 36,
   "metadata": {
    "ExecuteTime": {
     "end_time": "2019-12-20T16:08:29.449967Z",
     "start_time": "2019-12-20T16:08:29.292861Z"
    }
   },
   "outputs": [
    {
     "data": {
      "text/plain": [
       "array([[1, 2, 3],\n",
       "       [4, 5, 6]])"
      ]
     },
     "execution_count": 36,
     "metadata": {},
     "output_type": "execute_result"
    }
   ],
   "source": [
    "stats = np.array([[1, 2, 3], [4, 5,6]])\n",
    "stats"
   ]
  },
  {
   "cell_type": "code",
   "execution_count": 37,
   "metadata": {
    "ExecuteTime": {
     "end_time": "2019-12-20T16:08:29.595632Z",
     "start_time": "2019-12-20T16:08:29.454050Z"
    }
   },
   "outputs": [
    {
     "name": "stdout",
     "output_type": "stream",
     "text": [
      "[1 2 3]\n",
      "[1 4]\n",
      "[4 5 6]\n",
      "[3 6]\n"
     ]
    }
   ],
   "source": [
    "print(np.min(stats, axis=0))\n",
    "print(np.min(stats, axis=1))\n",
    "\n",
    "print(np.max(stats, axis=0))\n",
    "print(np.max(stats, axis=1))"
   ]
  },
  {
   "cell_type": "code",
   "execution_count": 38,
   "metadata": {
    "ExecuteTime": {
     "end_time": "2019-12-20T16:08:29.748820Z",
     "start_time": "2019-12-20T16:08:29.599695Z"
    }
   },
   "outputs": [
    {
     "data": {
      "text/plain": [
       "array([5, 7, 9])"
      ]
     },
     "execution_count": 38,
     "metadata": {},
     "output_type": "execute_result"
    }
   ],
   "source": [
    "np.sum(stats, axis=0)"
   ]
  },
  {
   "cell_type": "markdown",
   "metadata": {
    "ExecuteTime": {
     "end_time": "2019-12-20T15:01:53.739375Z",
     "start_time": "2019-12-20T15:01:53.733395Z"
    }
   },
   "source": [
    "## Reoraganizing arrays"
   ]
  },
  {
   "cell_type": "code",
   "execution_count": 39,
   "metadata": {
    "ExecuteTime": {
     "end_time": "2019-12-20T16:08:29.896767Z",
     "start_time": "2019-12-20T16:08:29.754895Z"
    }
   },
   "outputs": [
    {
     "name": "stdout",
     "output_type": "stream",
     "text": [
      "[[1 2 3 4]\n",
      " [5 6 7 8]]\n",
      "[[1]\n",
      " [2]\n",
      " [3]\n",
      " [4]\n",
      " [5]\n",
      " [6]\n",
      " [7]\n",
      " [8]]\n"
     ]
    }
   ],
   "source": [
    "before = np.array([[1, 2, 3 , 4], [5, 6, 7, 8]])\n",
    "print(before)\n",
    "\n",
    "print(before.reshape(8,1))"
   ]
  },
  {
   "cell_type": "code",
   "execution_count": 40,
   "metadata": {
    "ExecuteTime": {
     "end_time": "2019-12-20T16:08:30.033954Z",
     "start_time": "2019-12-20T16:08:29.900592Z"
    }
   },
   "outputs": [
    {
     "data": {
      "text/plain": [
       "array([[ 1,  2,  3,  4],\n",
       "       [11, 22, 33, 44],\n",
       "       [11, 22, 33, 44]])"
      ]
     },
     "execution_count": 40,
     "metadata": {},
     "output_type": "execute_result"
    }
   ],
   "source": [
    "# vertically stacking arrays\n",
    "v1 = np.array([1, 2, 3, 4])\n",
    "v2 = np.array([11, 22, 33, 44])\n",
    "\n",
    "np.vstack((v1, v2, v2))"
   ]
  },
  {
   "cell_type": "code",
   "execution_count": 41,
   "metadata": {
    "ExecuteTime": {
     "end_time": "2019-12-20T16:08:30.189565Z",
     "start_time": "2019-12-20T16:08:30.034953Z"
    }
   },
   "outputs": [
    {
     "data": {
      "text/plain": [
       "array([[1., 1., 1., 1., 0., 0.],\n",
       "       [1., 1., 1., 1., 0., 0.]])"
      ]
     },
     "execution_count": 41,
     "metadata": {},
     "output_type": "execute_result"
    }
   ],
   "source": [
    "# horizontal stacking \n",
    "h1 = np.ones((2, 4))\n",
    "h2 = np.zeros((2, 2))\n",
    "np.hstack([h1, h2])"
   ]
  },
  {
   "cell_type": "markdown",
   "metadata": {},
   "source": [
    "## Miscellaneous - loading data"
   ]
  },
  {
   "cell_type": "markdown",
   "metadata": {},
   "source": [
    "### load data from file\n"
   ]
  },
  {
   "cell_type": "code",
   "execution_count": 42,
   "metadata": {
    "ExecuteTime": {
     "end_time": "2019-12-20T16:08:30.354543Z",
     "start_time": "2019-12-20T16:08:30.194360Z"
    }
   },
   "outputs": [
    {
     "name": "stdout",
     "output_type": "stream",
     "text": [
      "[[  1  13  21  11 196  75   4   3  34   6   7   8   0   1   2   3   4   5]\n",
      " [  3  42  12  33 766  75   4  55   6   4   3   4   5   6   7   0  11  12]\n",
      " [  1  22  33  11 999  11   2   1  78   0   1   2   9   8   7   1  76  88]]\n"
     ]
    }
   ],
   "source": [
    "filedata = np.genfromtxt('data.txt', delimiter=',')\n",
    "filedata = filedata.astype('int32')\n",
    "print(filedata)"
   ]
  },
  {
   "cell_type": "markdown",
   "metadata": {
    "ExecuteTime": {
     "end_time": "2019-12-20T16:00:31.937871Z",
     "start_time": "2019-12-20T16:00:31.928976Z"
    }
   },
   "source": [
    "### boolean masking and advanced indexing"
   ]
  },
  {
   "cell_type": "code",
   "execution_count": 43,
   "metadata": {
    "ExecuteTime": {
     "end_time": "2019-12-20T16:08:30.592310Z",
     "start_time": "2019-12-20T16:08:30.361400Z"
    }
   },
   "outputs": [
    {
     "data": {
      "text/plain": [
       "array([[False, False, False, False,  True,  True, False, False, False,\n",
       "        False, False, False, False, False, False, False, False, False],\n",
       "       [False, False, False, False,  True,  True, False,  True, False,\n",
       "        False, False, False, False, False, False, False, False, False],\n",
       "       [False, False, False, False,  True, False, False, False,  True,\n",
       "        False, False, False, False, False, False, False,  True,  True]])"
      ]
     },
     "execution_count": 43,
     "metadata": {},
     "output_type": "execute_result"
    }
   ],
   "source": [
    "filedata > 50"
   ]
  },
  {
   "cell_type": "code",
   "execution_count": 44,
   "metadata": {
    "ExecuteTime": {
     "end_time": "2019-12-20T16:08:30.823542Z",
     "start_time": "2019-12-20T16:08:30.600482Z"
    }
   },
   "outputs": [
    {
     "data": {
      "text/plain": [
       "array([196,  75, 766,  75,  55, 999,  78,  76,  88])"
      ]
     },
     "execution_count": 44,
     "metadata": {},
     "output_type": "execute_result"
    }
   ],
   "source": [
    "filedata[filedata > 50]"
   ]
  },
  {
   "cell_type": "code",
   "execution_count": 45,
   "metadata": {
    "ExecuteTime": {
     "end_time": "2019-12-20T16:08:31.077468Z",
     "start_time": "2019-12-20T16:08:30.828637Z"
    }
   },
   "outputs": [
    {
     "data": {
      "text/plain": [
       "array([2, 3, 9])"
      ]
     },
     "execution_count": 45,
     "metadata": {},
     "output_type": "execute_result"
    }
   ],
   "source": [
    "# we can index using a list\n",
    "a = np.array([1, 2, 3, 4,5, 6, 7,8,9])\n",
    "a[[1, 2, 8]]"
   ]
  },
  {
   "cell_type": "code",
   "execution_count": 46,
   "metadata": {
    "ExecuteTime": {
     "end_time": "2019-12-20T16:08:31.348091Z",
     "start_time": "2019-12-20T16:08:31.084726Z"
    }
   },
   "outputs": [
    {
     "data": {
      "text/plain": [
       "array([False, False, False, False,  True,  True, False,  True,  True,\n",
       "       False, False, False, False, False, False, False,  True,  True])"
      ]
     },
     "execution_count": 46,
     "metadata": {},
     "output_type": "execute_result"
    }
   ],
   "source": [
    "np.any(filedata > 50, axis= 0)"
   ]
  },
  {
   "cell_type": "code",
   "execution_count": 47,
   "metadata": {
    "ExecuteTime": {
     "end_time": "2019-12-20T16:08:31.518442Z",
     "start_time": "2019-12-20T16:08:31.355464Z"
    }
   },
   "outputs": [
    {
     "data": {
      "text/plain": [
       "array([False, False, False, False,  True, False, False, False, False,\n",
       "       False, False, False, False, False, False, False, False, False])"
      ]
     },
     "execution_count": 47,
     "metadata": {},
     "output_type": "execute_result"
    }
   ],
   "source": [
    "np.all(filedata > 50, axis= 0)   "
   ]
  },
  {
   "cell_type": "code",
   "execution_count": 48,
   "metadata": {
    "ExecuteTime": {
     "end_time": "2019-12-20T16:08:31.668836Z",
     "start_time": "2019-12-20T16:08:31.524552Z"
    }
   },
   "outputs": [
    {
     "data": {
      "text/plain": [
       "array([[False, False, False, False, False,  True, False, False, False,\n",
       "        False, False, False, False, False, False, False, False, False],\n",
       "       [False, False, False, False, False,  True, False,  True, False,\n",
       "        False, False, False, False, False, False, False, False, False],\n",
       "       [False, False, False, False, False, False, False, False,  True,\n",
       "        False, False, False, False, False, False, False,  True,  True]])"
      ]
     },
     "execution_count": 48,
     "metadata": {},
     "output_type": "execute_result"
    }
   ],
   "source": [
    "((filedata > 50) & (filedata < 100))"
   ]
  },
  {
   "cell_type": "code",
   "execution_count": 49,
   "metadata": {
    "ExecuteTime": {
     "end_time": "2019-12-20T16:08:31.874635Z",
     "start_time": "2019-12-20T16:08:31.676037Z"
    }
   },
   "outputs": [
    {
     "data": {
      "text/plain": [
       "array([[ True,  True,  True,  True, False, False,  True,  True,  True,\n",
       "         True,  True,  True,  True,  True,  True,  True,  True,  True],\n",
       "       [ True,  True,  True,  True, False, False,  True, False,  True,\n",
       "         True,  True,  True,  True,  True,  True,  True,  True,  True],\n",
       "       [ True,  True,  True,  True, False,  True,  True,  True, False,\n",
       "         True,  True,  True,  True,  True,  True,  True, False, False]])"
      ]
     },
     "execution_count": 49,
     "metadata": {},
     "output_type": "execute_result"
    }
   ],
   "source": [
    "(~(filedata > 50) & (filedata < 100))"
   ]
  },
  {
   "cell_type": "code",
   "execution_count": 50,
   "metadata": {
    "ExecuteTime": {
     "end_time": "2019-12-20T16:08:32.023051Z",
     "start_time": "2019-12-20T16:08:31.877140Z"
    }
   },
   "outputs": [
    {
     "data": {
      "text/plain": [
       "array([75, 75, 55, 78, 76, 88])"
      ]
     },
     "execution_count": 50,
     "metadata": {},
     "output_type": "execute_result"
    }
   ],
   "source": [
    "filedata[((filedata > 50) & (filedata < 100))]"
   ]
  },
  {
   "cell_type": "code",
   "execution_count": 51,
   "metadata": {
    "ExecuteTime": {
     "end_time": "2019-12-20T16:08:32.171072Z",
     "start_time": "2019-12-20T16:08:32.028804Z"
    }
   },
   "outputs": [
    {
     "name": "stdout",
     "output_type": "stream",
     "text": [
      "[False False  True False  True False  True]\n"
     ]
    }
   ],
   "source": [
    "my_vector = np.array([-17, -4, 0, 2, 21, 37, 105])\n",
    "zero_mod_7_mask = 0 == (my_vector % 7)\n",
    "print(zero_mod_7_mask)"
   ]
  },
  {
   "cell_type": "code",
   "execution_count": 52,
   "metadata": {
    "ExecuteTime": {
     "end_time": "2019-12-20T16:08:32.322902Z",
     "start_time": "2019-12-20T16:08:32.176858Z"
    }
   },
   "outputs": [
    {
     "data": {
      "text/plain": [
       "array([  0,  21, 105])"
      ]
     },
     "execution_count": 52,
     "metadata": {},
     "output_type": "execute_result"
    }
   ],
   "source": [
    "my_vector[zero_mod_7_mask]"
   ]
  },
  {
   "cell_type": "code",
   "execution_count": 53,
   "metadata": {
    "ExecuteTime": {
     "end_time": "2019-12-20T16:08:32.471560Z",
     "start_time": "2019-12-20T16:08:32.328084Z"
    }
   },
   "outputs": [
    {
     "name": "stdout",
     "output_type": "stream",
     "text": [
      "[ 21 105]\n"
     ]
    }
   ],
   "source": [
    "mod_test = 0 == (my_vector % 7)\n",
    "posmask = my_vector > 0\n",
    "combined_mask = np.logical_and(mod_test, posmask)\n",
    "# combined_mask\n",
    "print(my_vector[combined_mask])"
   ]
  },
  {
   "cell_type": "code",
   "execution_count": 54,
   "metadata": {
    "ExecuteTime": {
     "end_time": "2019-12-20T16:08:32.623730Z",
     "start_time": "2019-12-20T16:08:32.477081Z"
    }
   },
   "outputs": [],
   "source": [
    "#  example indexing\n",
    "a = np.arange(1, 11).reshape(2, 5)\n",
    "b = np.arange(11, 21).reshape(2, 5)\n",
    "c = np.arange(21, 31).reshape(2, 5)"
   ]
  },
  {
   "cell_type": "code",
   "execution_count": 55,
   "metadata": {
    "ExecuteTime": {
     "end_time": "2019-12-20T16:08:32.797434Z",
     "start_time": "2019-12-20T16:08:32.631234Z"
    }
   },
   "outputs": [
    {
     "name": "stdout",
     "output_type": "stream",
     "text": [
      "[[ 1  2  3  4  5]\n",
      " [ 6  7  8  9 10]\n",
      " [11 12 13 14 15]\n",
      " [16 17 18 19 20]\n",
      " [21 22 23 24 25]\n",
      " [26 27 28 29 30]]\n"
     ]
    }
   ],
   "source": [
    "final = np.vstack([a, b, c])\n",
    "print(final)"
   ]
  },
  {
   "cell_type": "code",
   "execution_count": 56,
   "metadata": {
    "ExecuteTime": {
     "end_time": "2019-12-20T16:08:32.973176Z",
     "start_time": "2019-12-20T16:08:32.800876Z"
    }
   },
   "outputs": [
    {
     "data": {
      "text/plain": [
       "array([[11, 12],\n",
       "       [16, 17]])"
      ]
     },
     "execution_count": 56,
     "metadata": {},
     "output_type": "execute_result"
    }
   ],
   "source": [
    "final[2:4, :2]"
   ]
  },
  {
   "cell_type": "code",
   "execution_count": 57,
   "metadata": {
    "ExecuteTime": {
     "end_time": "2019-12-20T16:08:33.167796Z",
     "start_time": "2019-12-20T16:08:32.978093Z"
    }
   },
   "outputs": [
    {
     "data": {
      "text/plain": [
       "array([ 2,  8, 14, 20])"
      ]
     },
     "execution_count": 57,
     "metadata": {},
     "output_type": "execute_result"
    }
   ],
   "source": [
    "final[[0, 1, 2, 3], [1, 2, 3, 4]]"
   ]
  },
  {
   "cell_type": "code",
   "execution_count": 58,
   "metadata": {
    "ExecuteTime": {
     "end_time": "2019-12-20T16:08:33.373482Z",
     "start_time": "2019-12-20T16:08:33.175880Z"
    }
   },
   "outputs": [
    {
     "data": {
      "text/plain": [
       "array([[ 4,  5],\n",
       "       [24, 25],\n",
       "       [29, 30]])"
      ]
     },
     "execution_count": 58,
     "metadata": {},
     "output_type": "execute_result"
    }
   ],
   "source": [
    "final[[0, 4, 5], 3:]"
   ]
  },
  {
   "cell_type": "markdown",
   "metadata": {
    "ExecuteTime": {
     "end_time": "2019-12-20T15:43:47.098022Z",
     "start_time": "2019-12-20T15:43:47.088394Z"
    }
   },
   "source": [
    "### Return evenly spaced numbers over a specified interval.\n"
   ]
  },
  {
   "cell_type": "code",
   "execution_count": 59,
   "metadata": {
    "ExecuteTime": {
     "end_time": "2019-12-20T16:08:33.538800Z",
     "start_time": "2019-12-20T16:08:33.382267Z"
    }
   },
   "outputs": [
    {
     "data": {
      "text/plain": [
       "array([ 0.        ,  5.55555556, 11.11111111, 16.66666667, 22.22222222,\n",
       "       27.77777778, 33.33333333, 38.88888889, 44.44444444, 50.        ])"
      ]
     },
     "execution_count": 59,
     "metadata": {},
     "output_type": "execute_result"
    }
   ],
   "source": [
    "np.linspace(start = 0, stop=50, num=10)"
   ]
  },
  {
   "cell_type": "code",
   "execution_count": 60,
   "metadata": {
    "ExecuteTime": {
     "end_time": "2019-12-20T16:08:33.687412Z",
     "start_time": "2019-12-20T16:08:33.548256Z"
    }
   },
   "outputs": [
    {
     "data": {
      "text/plain": [
       "array([ 5.        ,  6.11111111,  7.22222222,  8.33333333,  9.44444444,\n",
       "       10.55555556, 11.66666667, 12.77777778, 13.88888889, 15.        ])"
      ]
     },
     "execution_count": 60,
     "metadata": {},
     "output_type": "execute_result"
    }
   ],
   "source": [
    "np.linspace(5, 15, 10)"
   ]
  },
  {
   "cell_type": "code",
   "execution_count": 61,
   "metadata": {
    "ExecuteTime": {
     "end_time": "2019-12-20T16:08:33.835269Z",
     "start_time": "2019-12-20T16:08:33.700036Z"
    }
   },
   "outputs": [],
   "source": [
    "mylinspace = np.linspace(5, 15, 9, retstep=True)"
   ]
  },
  {
   "cell_type": "code",
   "execution_count": 62,
   "metadata": {
    "ExecuteTime": {
     "end_time": "2019-12-20T16:08:33.987210Z",
     "start_time": "2019-12-20T16:08:33.843934Z"
    }
   },
   "outputs": [
    {
     "data": {
      "text/plain": [
       "(array([ 5.  ,  6.25,  7.5 ,  8.75, 10.  , 11.25, 12.5 , 13.75, 15.  ]), 1.25)"
      ]
     },
     "execution_count": 62,
     "metadata": {},
     "output_type": "execute_result"
    }
   ],
   "source": [
    "mylinspace"
   ]
  },
  {
   "cell_type": "code",
   "execution_count": null,
   "metadata": {},
   "outputs": [],
   "source": [
    " "
   ]
  }
 ],
 "metadata": {
  "kernelspec": {
   "display_name": "Python 3",
   "language": "python",
   "name": "python3"
  },
  "language_info": {
   "codemirror_mode": {
    "name": "ipython",
    "version": 3
   },
   "file_extension": ".py",
   "mimetype": "text/x-python",
   "name": "python",
   "nbconvert_exporter": "python",
   "pygments_lexer": "ipython3",
   "version": "3.7.4"
  },
  "toc": {
   "base_numbering": 1,
   "nav_menu": {},
   "number_sections": true,
   "sideBar": true,
   "skip_h1_title": false,
   "title_cell": "Table of Contents",
   "title_sidebar": "Contents",
   "toc_cell": true,
   "toc_position": {
    "height": "calc(100% - 180px)",
    "left": "10px",
    "top": "150px",
    "width": "165px"
   },
   "toc_section_display": true,
   "toc_window_display": false
  },
  "varInspector": {
   "cols": {
    "lenName": 16,
    "lenType": 16,
    "lenVar": 40
   },
   "kernels_config": {
    "python": {
     "delete_cmd_postfix": "",
     "delete_cmd_prefix": "del ",
     "library": "var_list.py",
     "varRefreshCmd": "print(var_dic_list())"
    },
    "r": {
     "delete_cmd_postfix": ") ",
     "delete_cmd_prefix": "rm(",
     "library": "var_list.r",
     "varRefreshCmd": "cat(var_dic_list()) "
    }
   },
   "types_to_exclude": [
    "module",
    "function",
    "builtin_function_or_method",
    "instance",
    "_Feature"
   ],
   "window_display": false
  }
 },
 "nbformat": 4,
 "nbformat_minor": 2
}
