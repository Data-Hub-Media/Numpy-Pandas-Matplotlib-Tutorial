{
 "cells": [
  {
   "cell_type": "markdown",
   "metadata": {
    "toc": true
   },
   "source": [
    "<h1>Table of Contents<span class=\"tocSkip\"></span></h1>\n",
    "<div class=\"toc\"><ul class=\"toc-item\"><li><span><a href=\"#Numpy-Tutorial\" data-toc-modified-id=\"Numpy-Tutorial-1\"><span class=\"toc-item-num\">1&nbsp;&nbsp;</span>Numpy Tutorial</a></span><ul class=\"toc-item\"><li><span><a href=\"#BASICS\" data-toc-modified-id=\"BASICS-1.1\"><span class=\"toc-item-num\">1.1&nbsp;&nbsp;</span>BASICS</a></span></li><li><span><a href=\"#Adding-and-removing-elements-from-numpy-arrays\" data-toc-modified-id=\"Adding-and-removing-elements-from-numpy-arrays-1.2\"><span class=\"toc-item-num\">1.2&nbsp;&nbsp;</span>Adding and removing elements from numpy arrays</a></span></li><li><span><a href=\"#Accessing/Changing-specific-elements,-rows,-columns,-etc\" data-toc-modified-id=\"Accessing/Changing-specific-elements,-rows,-columns,-etc-1.3\"><span class=\"toc-item-num\">1.3&nbsp;&nbsp;</span>Accessing/Changing specific elements, rows, columns, etc</a></span></li><li><span><a href=\"#Initializing-different-type-of-arrays\" data-toc-modified-id=\"Initializing-different-type-of-arrays-1.4\"><span class=\"toc-item-num\">1.4&nbsp;&nbsp;</span>Initializing different type of arrays</a></span></li><li><span><a href=\"#Mathematics\" data-toc-modified-id=\"Mathematics-1.5\"><span class=\"toc-item-num\">1.5&nbsp;&nbsp;</span>Mathematics</a></span><ul class=\"toc-item\"><li><span><a href=\"#linear-algebra\" data-toc-modified-id=\"linear-algebra-1.5.1\"><span class=\"toc-item-num\">1.5.1&nbsp;&nbsp;</span>linear algebra</a></span></li><li><span><a href=\"#statistics\" data-toc-modified-id=\"statistics-1.5.2\"><span class=\"toc-item-num\">1.5.2&nbsp;&nbsp;</span>statistics</a></span></li></ul></li><li><span><a href=\"#Reoraganizing-arrays\" data-toc-modified-id=\"Reoraganizing-arrays-1.6\"><span class=\"toc-item-num\">1.6&nbsp;&nbsp;</span>Reoraganizing arrays</a></span></li><li><span><a href=\"#Miscellaneous---loading-data\" data-toc-modified-id=\"Miscellaneous---loading-data-1.7\"><span class=\"toc-item-num\">1.7&nbsp;&nbsp;</span>Miscellaneous - loading data</a></span><ul class=\"toc-item\"><li><span><a href=\"#load-data-from-file\" data-toc-modified-id=\"load-data-from-file-1.7.1\"><span class=\"toc-item-num\">1.7.1&nbsp;&nbsp;</span>load data from file</a></span></li><li><span><a href=\"#boolean-masking-and-advanced-indexing\" data-toc-modified-id=\"boolean-masking-and-advanced-indexing-1.7.2\"><span class=\"toc-item-num\">1.7.2&nbsp;&nbsp;</span>boolean masking and advanced indexing</a></span></li><li><span><a href=\"#Return-evenly-spaced-numbers-over-a-specified-interval.\" data-toc-modified-id=\"Return-evenly-spaced-numbers-over-a-specified-interval.-1.7.3\"><span class=\"toc-item-num\">1.7.3&nbsp;&nbsp;</span>Return evenly spaced numbers over a specified interval.</a></span></li></ul></li><li><span><a href=\"#Creating-Structured-array\" data-toc-modified-id=\"Creating-Structured-array-1.8\"><span class=\"toc-item-num\">1.8&nbsp;&nbsp;</span>Creating Structured array</a></span></li></ul></li></ul></div>"
   ]
  },
  {
   "cell_type": "markdown",
   "metadata": {},
   "source": [
    "# Numpy Tutorial"
   ]
  },
  {
   "cell_type": "code",
   "execution_count": 1,
   "metadata": {
    "ExecuteTime": {
     "end_time": "2019-12-20T18:24:52.156728Z",
     "start_time": "2019-12-20T18:24:52.143712Z"
    }
   },
   "outputs": [],
   "source": [
    "import numpy as np"
   ]
  },
  {
   "cell_type": "markdown",
   "metadata": {},
   "source": [
    "## BASICS"
   ]
  },
  {
   "cell_type": "code",
   "execution_count": 2,
   "metadata": {
    "ExecuteTime": {
     "end_time": "2019-12-20T18:24:52.389311Z",
     "start_time": "2019-12-20T18:24:52.162289Z"
    }
   },
   "outputs": [],
   "source": [
    "a = np.array([1, 2, 3])\n",
    "\n",
    "b = np.array([\n",
    "    [1., 1.],\n",
    "    [1., 1.]\n",
    "])\n",
    "\n",
    "c = np.array([1,2, 3], dtype=\"int16\")\n",
    "d = np.array([14, -3.54, 5 + 7j]) "
   ]
  },
  {
   "cell_type": "code",
   "execution_count": 3,
   "metadata": {
    "ExecuteTime": {
     "end_time": "2019-12-20T18:24:52.532193Z",
     "start_time": "2019-12-20T18:24:52.391470Z"
    }
   },
   "outputs": [
    {
     "name": "stdout",
     "output_type": "stream",
     "text": [
      "[1 2 3]\n",
      "[[1. 1.]\n",
      " [1. 1.]]\n",
      "[1 2 3]\n",
      "[14.  +0.j -3.54+0.j  5.  +7.j]\n",
      "-------\n",
      "1\n",
      "2\n",
      "1\n",
      "-------\n",
      "(3,)\n",
      "(2, 2)\n",
      "(3,)\n"
     ]
    }
   ],
   "source": [
    "print(a)\n",
    "print(b)\n",
    "print(c)\n",
    "print(d)\n",
    "print('-------')\n",
    "print(a.ndim)\n",
    "print(b.ndim)\n",
    "print(c.ndim)\n",
    "print('-------')\n",
    "print(a.shape)\n",
    "print(b.shape)\n",
    "print(c.shape)"
   ]
  },
  {
   "cell_type": "markdown",
   "metadata": {},
   "source": [
    "* **Numpy Benefits**\n",
    "\n",
    "    1) Fixed Type\n",
    "    \n",
    "    2) Contigious memory\n"
   ]
  },
  {
   "cell_type": "code",
   "execution_count": 4,
   "metadata": {
    "ExecuteTime": {
     "end_time": "2019-12-20T18:24:52.668611Z",
     "start_time": "2019-12-20T18:24:52.532193Z"
    }
   },
   "outputs": [
    {
     "name": "stdout",
     "output_type": "stream",
     "text": [
      "int32\n",
      "float64\n",
      "int16\n"
     ]
    }
   ],
   "source": [
    "# get type\n",
    "print(a.dtype)\n",
    "print(b.dtype)\n",
    "print(c.dtype)"
   ]
  },
  {
   "cell_type": "code",
   "execution_count": 5,
   "metadata": {
    "ExecuteTime": {
     "end_time": "2019-12-20T18:24:52.841102Z",
     "start_time": "2019-12-20T18:24:52.671862Z"
    }
   },
   "outputs": [
    {
     "name": "stdout",
     "output_type": "stream",
     "text": [
      "4\n",
      "8\n",
      "2\n"
     ]
    }
   ],
   "source": [
    "# get size - size of each item (B)\n",
    "print(a.itemsize)\n",
    "print(b.itemsize)\n",
    "print(c.itemsize)"
   ]
  },
  {
   "cell_type": "code",
   "execution_count": 6,
   "metadata": {
    "ExecuteTime": {
     "end_time": "2019-12-20T18:24:52.986848Z",
     "start_time": "2019-12-20T18:24:52.843447Z"
    }
   },
   "outputs": [
    {
     "name": "stdout",
     "output_type": "stream",
     "text": [
      "12\n",
      "12\n",
      "32\n",
      "6\n"
     ]
    }
   ],
   "source": [
    "# get total size - total space used (B )\n",
    "print(a.size * a.itemsize)\n",
    "print(a.nbytes)\n",
    "print(b.nbytes)\n",
    "print(c.nbytes)"
   ]
  },
  {
   "cell_type": "markdown",
   "metadata": {
    "ExecuteTime": {
     "end_time": "2019-12-20T20:21:51.591844Z",
     "start_time": "2019-12-20T20:21:51.586531Z"
    }
   },
   "source": [
    "## Adding and removing elements from numpy arrays"
   ]
  },
  {
   "cell_type": "code",
   "execution_count": 109,
   "metadata": {
    "ExecuteTime": {
     "end_time": "2019-12-20T20:23:30.711593Z",
     "start_time": "2019-12-20T20:23:30.700242Z"
    }
   },
   "outputs": [
    {
     "data": {
      "text/plain": [
       "array([[[ 0,  1,  2,  3],\n",
       "        [ 4,  5,  6,  7],\n",
       "        [ 8,  9, 10, 11]],\n",
       "\n",
       "       [[12, 13, 14, 15],\n",
       "        [16, 17, 18, 19],\n",
       "        [20, 21, 22, 23]]])"
      ]
     },
     "execution_count": 109,
     "metadata": {},
     "output_type": "execute_result"
    }
   ],
   "source": [
    "a = np.array(np.arange(24)).reshape((2, 3, 4))\n",
    "a"
   ]
  },
  {
   "cell_type": "code",
   "execution_count": 110,
   "metadata": {
    "ExecuteTime": {
     "end_time": "2019-12-20T20:23:31.537402Z",
     "start_time": "2019-12-20T20:23:31.529329Z"
    }
   },
   "outputs": [
    {
     "data": {
      "text/plain": [
       "array([ 0,  1,  2,  3,  4,  5,  6,  7,  8,  9, 10, 11, 12, 13, 14, 15, 16,\n",
       "       17, 18, 19, 20, 21, 22, 23,  5,  6,  7,  8])"
      ]
     },
     "execution_count": 110,
     "metadata": {},
     "output_type": "execute_result"
    }
   ],
   "source": [
    "b = np.append(a, [5, 6, 7, 8])\n",
    "b"
   ]
  },
  {
   "cell_type": "code",
   "execution_count": 111,
   "metadata": {
    "ExecuteTime": {
     "end_time": "2019-12-20T20:23:32.129858Z",
     "start_time": "2019-12-20T20:23:32.117621Z"
    }
   },
   "outputs": [
    {
     "data": {
      "text/plain": [
       "(28,)"
      ]
     },
     "execution_count": 111,
     "metadata": {},
     "output_type": "execute_result"
    }
   ],
   "source": [
    "b.shape"
   ]
  },
  {
   "cell_type": "code",
   "execution_count": 112,
   "metadata": {
    "ExecuteTime": {
     "end_time": "2019-12-20T20:23:43.042778Z",
     "start_time": "2019-12-20T20:23:43.030193Z"
    }
   },
   "outputs": [
    {
     "data": {
      "text/plain": [
       "array([[ 0,  1,  2,  3],\n",
       "       [ 4,  5,  6,  7],\n",
       "       [ 8,  9, 10, 11],\n",
       "       [12, 13, 14, 15],\n",
       "       [16, 17, 18, 19],\n",
       "       [20, 21, 22, 23],\n",
       "       [ 5,  6,  7,  8]])"
      ]
     },
     "execution_count": 112,
     "metadata": {},
     "output_type": "execute_result"
    }
   ],
   "source": [
    "b.reshape((7, 4))"
   ]
  },
  {
   "cell_type": "code",
   "execution_count": 113,
   "metadata": {
    "ExecuteTime": {
     "end_time": "2019-12-20T20:23:57.713505Z",
     "start_time": "2019-12-20T20:23:57.704342Z"
    }
   },
   "outputs": [
    {
     "data": {
      "text/plain": [
       "array([[[ 0,  1,  2,  3],\n",
       "        [ 4,  5,  6,  7],\n",
       "        [ 8,  9, 10, 11]],\n",
       "\n",
       "       [[12, 13, 14, 15],\n",
       "        [16, 17, 18, 19],\n",
       "        [20, 21, 22, 23]]])"
      ]
     },
     "execution_count": 113,
     "metadata": {},
     "output_type": "execute_result"
    }
   ],
   "source": [
    "a"
   ]
  },
  {
   "cell_type": "code",
   "execution_count": 114,
   "metadata": {
    "ExecuteTime": {
     "end_time": "2019-12-20T20:24:37.070393Z",
     "start_time": "2019-12-20T20:24:37.054355Z"
    }
   },
   "outputs": [
    {
     "data": {
      "text/plain": [
       "array([[[  3,  13,  23,  33],\n",
       "        [ 43,  53,  63,  73],\n",
       "        [ 83,  93, 103, 113]],\n",
       "\n",
       "       [[123, 133, 143, 153],\n",
       "        [163, 173, 183, 193],\n",
       "        [203, 213, 223, 233]]])"
      ]
     },
     "execution_count": 114,
     "metadata": {},
     "output_type": "execute_result"
    }
   ],
   "source": [
    "c = np.array(np.arange(24)).reshape((2, 3, 4)) * 10 + 3\n",
    "c"
   ]
  },
  {
   "cell_type": "code",
   "execution_count": 115,
   "metadata": {
    "ExecuteTime": {
     "end_time": "2019-12-20T20:25:06.872837Z",
     "start_time": "2019-12-20T20:25:06.862517Z"
    }
   },
   "outputs": [
    {
     "data": {
      "text/plain": [
       "array([[[  0,   1,   2,   3],\n",
       "        [  4,   5,   6,   7],\n",
       "        [  8,   9,  10,  11]],\n",
       "\n",
       "       [[ 12,  13,  14,  15],\n",
       "        [ 16,  17,  18,  19],\n",
       "        [ 20,  21,  22,  23]],\n",
       "\n",
       "       [[  3,  13,  23,  33],\n",
       "        [ 43,  53,  63,  73],\n",
       "        [ 83,  93, 103, 113]],\n",
       "\n",
       "       [[123, 133, 143, 153],\n",
       "        [163, 173, 183, 193],\n",
       "        [203, 213, 223, 233]]])"
      ]
     },
     "execution_count": 115,
     "metadata": {},
     "output_type": "execute_result"
    }
   ],
   "source": [
    "np.append(a, c, axis=0)"
   ]
  },
  {
   "cell_type": "code",
   "execution_count": 116,
   "metadata": {
    "ExecuteTime": {
     "end_time": "2019-12-20T20:27:13.041501Z",
     "start_time": "2019-12-20T20:27:13.032198Z"
    }
   },
   "outputs": [
    {
     "data": {
      "text/plain": [
       "(4, 3, 4)"
      ]
     },
     "execution_count": 116,
     "metadata": {},
     "output_type": "execute_result"
    }
   ],
   "source": [
    "np.append(a, c, axis=0).shape"
   ]
  },
  {
   "cell_type": "code",
   "execution_count": 117,
   "metadata": {
    "ExecuteTime": {
     "end_time": "2019-12-20T20:27:30.550919Z",
     "start_time": "2019-12-20T20:27:30.541786Z"
    }
   },
   "outputs": [
    {
     "data": {
      "text/plain": [
       "array([[[  0,   1,   2,   3],\n",
       "        [  4,   5,   6,   7],\n",
       "        [  8,   9,  10,  11],\n",
       "        [  3,  13,  23,  33],\n",
       "        [ 43,  53,  63,  73],\n",
       "        [ 83,  93, 103, 113]],\n",
       "\n",
       "       [[ 12,  13,  14,  15],\n",
       "        [ 16,  17,  18,  19],\n",
       "        [ 20,  21,  22,  23],\n",
       "        [123, 133, 143, 153],\n",
       "        [163, 173, 183, 193],\n",
       "        [203, 213, 223, 233]]])"
      ]
     },
     "execution_count": 117,
     "metadata": {},
     "output_type": "execute_result"
    }
   ],
   "source": [
    "np.append(a, c, axis=1)"
   ]
  },
  {
   "cell_type": "code",
   "execution_count": 119,
   "metadata": {
    "ExecuteTime": {
     "end_time": "2019-12-20T20:28:33.066394Z",
     "start_time": "2019-12-20T20:28:33.055927Z"
    }
   },
   "outputs": [
    {
     "data": {
      "text/plain": [
       "(2, 6, 4)"
      ]
     },
     "execution_count": 119,
     "metadata": {},
     "output_type": "execute_result"
    }
   ],
   "source": [
    "np.append(a, c, axis=1).shape"
   ]
  },
  {
   "cell_type": "code",
   "execution_count": 120,
   "metadata": {
    "ExecuteTime": {
     "end_time": "2019-12-20T20:29:02.258043Z",
     "start_time": "2019-12-20T20:29:02.248248Z"
    }
   },
   "outputs": [
    {
     "data": {
      "text/plain": [
       "array([[[  0,   1,   2,   3,   3,  13,  23,  33],\n",
       "        [  4,   5,   6,   7,  43,  53,  63,  73],\n",
       "        [  8,   9,  10,  11,  83,  93, 103, 113]],\n",
       "\n",
       "       [[ 12,  13,  14,  15, 123, 133, 143, 153],\n",
       "        [ 16,  17,  18,  19, 163, 173, 183, 193],\n",
       "        [ 20,  21,  22,  23, 203, 213, 223, 233]]])"
      ]
     },
     "execution_count": 120,
     "metadata": {},
     "output_type": "execute_result"
    }
   ],
   "source": [
    "np.append(a, c, axis=2)"
   ]
  },
  {
   "cell_type": "code",
   "execution_count": 121,
   "metadata": {
    "ExecuteTime": {
     "end_time": "2019-12-20T20:29:13.653550Z",
     "start_time": "2019-12-20T20:29:13.642253Z"
    }
   },
   "outputs": [
    {
     "data": {
      "text/plain": [
       "(2, 3, 8)"
      ]
     },
     "execution_count": 121,
     "metadata": {},
     "output_type": "execute_result"
    }
   ],
   "source": [
    "np.append(a, c, axis=2).shape"
   ]
  },
  {
   "cell_type": "code",
   "execution_count": 124,
   "metadata": {
    "ExecuteTime": {
     "end_time": "2019-12-20T20:35:11.912879Z",
     "start_time": "2019-12-20T20:35:11.902277Z"
    }
   },
   "outputs": [
    {
     "data": {
      "text/plain": [
       "array([[[  3,  13,  23,  33],\n",
       "        [ 43,  53,  63,  73],\n",
       "        [ 83,  93, 103, 113]],\n",
       "\n",
       "       [[444, 444, 444, 444],\n",
       "        [444, 444, 444, 444],\n",
       "        [444, 444, 444, 444]],\n",
       "\n",
       "       [[123, 133, 143, 153],\n",
       "        [163, 173, 183, 193],\n",
       "        [203, 213, 223, 233]]])"
      ]
     },
     "execution_count": 124,
     "metadata": {},
     "output_type": "execute_result"
    }
   ],
   "source": [
    "after_insert_array = np.insert(c, 1, 444, axis=0)\n",
    "after_insert_array"
   ]
  },
  {
   "cell_type": "code",
   "execution_count": 125,
   "metadata": {
    "ExecuteTime": {
     "end_time": "2019-12-20T20:35:22.242648Z",
     "start_time": "2019-12-20T20:35:22.233855Z"
    }
   },
   "outputs": [
    {
     "data": {
      "text/plain": [
       "array([[[  3,  13,  23,  33],\n",
       "        [444, 444, 444, 444],\n",
       "        [ 43,  53,  63,  73],\n",
       "        [ 83,  93, 103, 113]],\n",
       "\n",
       "       [[123, 133, 143, 153],\n",
       "        [444, 444, 444, 444],\n",
       "        [163, 173, 183, 193],\n",
       "        [203, 213, 223, 233]]])"
      ]
     },
     "execution_count": 125,
     "metadata": {},
     "output_type": "execute_result"
    }
   ],
   "source": [
    "after_insert_array = np.insert(c, 1, 444, axis=1)\n",
    "after_insert_array"
   ]
  },
  {
   "cell_type": "code",
   "execution_count": 126,
   "metadata": {
    "ExecuteTime": {
     "end_time": "2019-12-20T20:35:30.089965Z",
     "start_time": "2019-12-20T20:35:30.075666Z"
    }
   },
   "outputs": [
    {
     "data": {
      "text/plain": [
       "array([[[  3, 444,  13,  23,  33],\n",
       "        [ 43, 444,  53,  63,  73],\n",
       "        [ 83, 444,  93, 103, 113]],\n",
       "\n",
       "       [[123, 444, 133, 143, 153],\n",
       "        [163, 444, 173, 183, 193],\n",
       "        [203, 444, 213, 223, 233]]])"
      ]
     },
     "execution_count": 126,
     "metadata": {},
     "output_type": "execute_result"
    }
   ],
   "source": [
    "after_insert_array = np.insert(c, 1, 444, axis=2)\n",
    "after_insert_array"
   ]
  },
  {
   "cell_type": "code",
   "execution_count": 129,
   "metadata": {
    "ExecuteTime": {
     "end_time": "2019-12-20T20:36:54.421890Z",
     "start_time": "2019-12-20T20:36:54.410933Z"
    }
   },
   "outputs": [
    {
     "data": {
      "text/plain": [
       "array([[[  3.,  13.,  23.,  33.],\n",
       "        [ 43.,  53.,  63.,  73.],\n",
       "        [ 83.,  93., 103., 113.]],\n",
       "\n",
       "       [[123., 133., 143., 153.],\n",
       "        [163., 173., 183., 193.],\n",
       "        [203., 213., 223., 233.]]])"
      ]
     },
     "execution_count": 129,
     "metadata": {},
     "output_type": "execute_result"
    }
   ],
   "source": [
    "d = np.empty(c.shape)\n",
    "np.copyto(d, c)\n",
    "d"
   ]
  },
  {
   "cell_type": "code",
   "execution_count": 130,
   "metadata": {
    "ExecuteTime": {
     "end_time": "2019-12-20T20:37:12.556207Z",
     "start_time": "2019-12-20T20:37:12.544282Z"
    }
   },
   "outputs": [
    {
     "data": {
      "text/plain": [
       "array([[[  3.,  13.,  23.,  33.],\n",
       "        [ 43.,  53.,  63.,  73.],\n",
       "        [ 83.,  93., 103., 113.]]])"
      ]
     },
     "execution_count": 130,
     "metadata": {},
     "output_type": "execute_result"
    }
   ],
   "source": [
    "np.delete(d, 1, axis=0)"
   ]
  },
  {
   "cell_type": "code",
   "execution_count": 131,
   "metadata": {
    "ExecuteTime": {
     "end_time": "2019-12-20T20:37:34.128298Z",
     "start_time": "2019-12-20T20:37:34.117445Z"
    }
   },
   "outputs": [
    {
     "data": {
      "text/plain": [
       "array([[[  3.,  13.,  23.,  33.],\n",
       "        [ 83.,  93., 103., 113.]],\n",
       "\n",
       "       [[123., 133., 143., 153.],\n",
       "        [203., 213., 223., 233.]]])"
      ]
     },
     "execution_count": 131,
     "metadata": {},
     "output_type": "execute_result"
    }
   ],
   "source": [
    "np.delete(d, 1, axis=1)"
   ]
  },
  {
   "cell_type": "code",
   "execution_count": 132,
   "metadata": {
    "ExecuteTime": {
     "end_time": "2019-12-20T20:37:39.350871Z",
     "start_time": "2019-12-20T20:37:39.339635Z"
    }
   },
   "outputs": [
    {
     "data": {
      "text/plain": [
       "array([[[  3.,  23.,  33.],\n",
       "        [ 43.,  63.,  73.],\n",
       "        [ 83., 103., 113.]],\n",
       "\n",
       "       [[123., 143., 153.],\n",
       "        [163., 183., 193.],\n",
       "        [203., 223., 233.]]])"
      ]
     },
     "execution_count": 132,
     "metadata": {},
     "output_type": "execute_result"
    }
   ],
   "source": [
    "np.delete(d, 1, axis=2)"
   ]
  },
  {
   "cell_type": "code",
   "execution_count": null,
   "metadata": {},
   "outputs": [],
   "source": []
  },
  {
   "cell_type": "code",
   "execution_count": null,
   "metadata": {},
   "outputs": [],
   "source": []
  },
  {
   "cell_type": "markdown",
   "metadata": {},
   "source": [
    "## Accessing/Changing specific elements, rows, columns, etc"
   ]
  },
  {
   "cell_type": "code",
   "execution_count": 7,
   "metadata": {
    "ExecuteTime": {
     "end_time": "2019-12-20T18:24:53.129404Z",
     "start_time": "2019-12-20T18:24:52.998053Z"
    }
   },
   "outputs": [
    {
     "name": "stdout",
     "output_type": "stream",
     "text": [
      "[[ 1  2  3  4  5  6  7]\n",
      " [ 8  9 10 11 12 13 14]]\n",
      "(2, 7)\n"
     ]
    }
   ],
   "source": [
    "a = np.array([[1,2, 3, 4, 5, 6, 7], [8, 9, 10, 11, 12, 13, 14]])\n",
    "print(a)\n",
    "print(a.shape)"
   ]
  },
  {
   "cell_type": "code",
   "execution_count": 8,
   "metadata": {
    "ExecuteTime": {
     "end_time": "2019-12-20T18:24:53.286546Z",
     "start_time": "2019-12-20T18:24:53.131401Z"
    }
   },
   "outputs": [
    {
     "name": "stdout",
     "output_type": "stream",
     "text": [
      "13\n",
      "13\n",
      "13\n"
     ]
    }
   ],
   "source": [
    "# get a specific element [r, c]\n",
    "print(a[1, 5])\n",
    "print(a[1][5])\n",
    "print(a[1][-2])"
   ]
  },
  {
   "cell_type": "code",
   "execution_count": 9,
   "metadata": {
    "ExecuteTime": {
     "end_time": "2019-12-20T18:24:53.447310Z",
     "start_time": "2019-12-20T18:24:53.288542Z"
    }
   },
   "outputs": [
    {
     "data": {
      "text/plain": [
       "array([1, 2, 3, 4, 5, 6, 7])"
      ]
     },
     "execution_count": 9,
     "metadata": {},
     "output_type": "execute_result"
    }
   ],
   "source": [
    "#  get a specific row\n",
    "a[0, :]"
   ]
  },
  {
   "cell_type": "code",
   "execution_count": 10,
   "metadata": {
    "ExecuteTime": {
     "end_time": "2019-12-20T18:24:53.606618Z",
     "start_time": "2019-12-20T18:24:53.449303Z"
    }
   },
   "outputs": [
    {
     "data": {
      "text/plain": [
       "array([ 3, 10])"
      ]
     },
     "execution_count": 10,
     "metadata": {},
     "output_type": "execute_result"
    }
   ],
   "source": [
    "# get a specific col\n",
    "a[:, 2]"
   ]
  },
  {
   "cell_type": "code",
   "execution_count": 11,
   "metadata": {
    "ExecuteTime": {
     "end_time": "2019-12-20T18:24:53.742866Z",
     "start_time": "2019-12-20T18:24:53.611652Z"
    }
   },
   "outputs": [
    {
     "name": "stdout",
     "output_type": "stream",
     "text": [
      "[2 4 6]\n"
     ]
    }
   ],
   "source": [
    "# getting fancy [startindex: endindex: stepsize]\n",
    "print(a[0, 1:6:2])"
   ]
  },
  {
   "cell_type": "code",
   "execution_count": 12,
   "metadata": {
    "ExecuteTime": {
     "end_time": "2019-12-20T18:24:53.926440Z",
     "start_time": "2019-12-20T18:24:53.745915Z"
    }
   },
   "outputs": [
    {
     "name": "stdout",
     "output_type": "stream",
     "text": [
      "[[ 1  2  3  4  5  6  7]\n",
      " [ 8  9 10 11 12 20 14]]\n",
      "-----\n",
      "[[ 1  2  5  4  5  6  7]\n",
      " [ 8  9  5 11 12 20 14]]\n",
      "-----\n",
      "[[ 1  2  1  4  5  6  7]\n",
      " [ 8  9  2 11 12 20 14]]\n"
     ]
    }
   ],
   "source": [
    "# changing element(s)\n",
    "a [1, 5] = 20\n",
    "print(a)\n",
    "print('-----')\n",
    "a[:, 2] = 5\n",
    "print(a)\n",
    "print('-----')\n",
    "a[:, 2] = [1, 2]\n",
    "print(a)"
   ]
  },
  {
   "cell_type": "code",
   "execution_count": 13,
   "metadata": {
    "ExecuteTime": {
     "end_time": "2019-12-20T18:24:54.105203Z",
     "start_time": "2019-12-20T18:24:53.933952Z"
    }
   },
   "outputs": [
    {
     "name": "stdout",
     "output_type": "stream",
     "text": [
      "[[[1 2]\n",
      "  [3 4]]\n",
      "\n",
      " [[5 6]\n",
      "  [7 8]]]\n",
      "------\n",
      "(2, 2, 2)\n"
     ]
    }
   ],
   "source": [
    "# 3-d\n",
    "a = np.array([[[1, 2], [3, 4]], [[5, 6], [7, 8]]])\n",
    "print(a)\n",
    "print('------')\n",
    "print(a.shape)\n",
    "\n",
    "# think of number of rows as original number of rows\n",
    "# inside each box columns become rows and depth becomes columns\n",
    "# think of it as [1, 2] at at position a[0, 0]\n",
    "\n",
    "# NumPy’s order for printing n-dimensional arrays is that the last axis\n",
    "# is looped over the fastest, while the first is the slowest"
   ]
  },
  {
   "cell_type": "code",
   "execution_count": 14,
   "metadata": {
    "ExecuteTime": {
     "end_time": "2019-12-20T18:24:54.267781Z",
     "start_time": "2019-12-20T18:24:54.108936Z"
    }
   },
   "outputs": [
    {
     "name": "stdout",
     "output_type": "stream",
     "text": [
      "[1 2]\n",
      "[3 4]\n",
      "[5 6]\n",
      "[7 8]\n",
      "4\n"
     ]
    }
   ],
   "source": [
    "print(a[0, 0])\n",
    "print(a[0, 1])\n",
    "print(a[1, 0])\n",
    "print(a[1, 1])\n",
    "\n",
    "# get specific element\n",
    "print(a[0,1,1])"
   ]
  },
  {
   "cell_type": "code",
   "execution_count": 15,
   "metadata": {
    "ExecuteTime": {
     "end_time": "2019-12-20T18:24:54.409370Z",
     "start_time": "2019-12-20T18:24:54.269626Z"
    }
   },
   "outputs": [
    {
     "name": "stdout",
     "output_type": "stream",
     "text": [
      "[[[ 1  2]\n",
      "  [10 11]]\n",
      "\n",
      " [[ 5  6]\n",
      "  [12 13]]]\n",
      "-----\n",
      "[[[ 1  2]\n",
      "  [99 98]]\n",
      "\n",
      " [[ 5  6]\n",
      "  [12 13]]]\n"
     ]
    }
   ],
   "source": [
    "# replace\n",
    "\n",
    "a[:, 1, :] = [[10, 11], [12, 13]]\n",
    "print(a)\n",
    "print('-----')\n",
    "\n",
    "a[0, 1, :] = [99, 98]\n",
    "print(a)"
   ]
  },
  {
   "cell_type": "markdown",
   "metadata": {
    "ExecuteTime": {
     "end_time": "2019-12-20T14:39:58.976557Z",
     "start_time": "2019-12-20T14:39:58.971570Z"
    }
   },
   "source": [
    "## Initializing different type of arrays"
   ]
  },
  {
   "cell_type": "code",
   "execution_count": 16,
   "metadata": {
    "ExecuteTime": {
     "end_time": "2019-12-20T18:24:54.595845Z",
     "start_time": "2019-12-20T18:24:54.412362Z"
    }
   },
   "outputs": [
    {
     "data": {
      "text/plain": [
       "array([[0., 0., 0.],\n",
       "       [0., 0., 0.]])"
      ]
     },
     "execution_count": 16,
     "metadata": {},
     "output_type": "execute_result"
    }
   ],
   "source": [
    "# all 0's matrix\n",
    "np.zeros(shape=(2, 3))"
   ]
  },
  {
   "cell_type": "code",
   "execution_count": 17,
   "metadata": {
    "ExecuteTime": {
     "end_time": "2019-12-20T18:24:54.791280Z",
     "start_time": "2019-12-20T18:24:54.604010Z"
    }
   },
   "outputs": [
    {
     "data": {
      "text/plain": [
       "array([[[1, 1],\n",
       "        [1, 1]],\n",
       "\n",
       "       [[1, 1],\n",
       "        [1, 1]],\n",
       "\n",
       "       [[1, 1],\n",
       "        [1, 1]],\n",
       "\n",
       "       [[1, 1],\n",
       "        [1, 1]]])"
      ]
     },
     "execution_count": 17,
     "metadata": {},
     "output_type": "execute_result"
    }
   ],
   "source": [
    "# all 1's matrix\n",
    "np.ones((4, 2, 2), dtype='int32')"
   ]
  },
  {
   "cell_type": "code",
   "execution_count": 18,
   "metadata": {
    "ExecuteTime": {
     "end_time": "2019-12-20T18:24:54.936605Z",
     "start_time": "2019-12-20T18:24:54.796414Z"
    }
   },
   "outputs": [
    {
     "data": {
      "text/plain": [
       "array([[99, 99],\n",
       "       [99, 99]])"
      ]
     },
     "execution_count": 18,
     "metadata": {},
     "output_type": "execute_result"
    }
   ],
   "source": [
    "# any other number\n",
    "np.full((2, 2), 99)"
   ]
  },
  {
   "cell_type": "code",
   "execution_count": 19,
   "metadata": {
    "ExecuteTime": {
     "end_time": "2019-12-20T18:24:55.187723Z",
     "start_time": "2019-12-20T18:24:54.949734Z"
    }
   },
   "outputs": [
    {
     "data": {
      "text/plain": [
       "array([[8, 8, 8, 8, 8, 8, 8],\n",
       "       [8, 8, 8, 8, 8, 8, 8]])"
      ]
     },
     "execution_count": 19,
     "metadata": {},
     "output_type": "execute_result"
    }
   ],
   "source": [
    "# any other number (full_like)\n",
    "a = np.array([[1,2, 3, 4, 5, 6, 7], [8, 9, 10, 11, 12, 13, 14]])\n",
    "np.full_like(a, 8)"
   ]
  },
  {
   "cell_type": "code",
   "execution_count": 20,
   "metadata": {
    "ExecuteTime": {
     "end_time": "2019-12-20T18:24:55.432173Z",
     "start_time": "2019-12-20T18:24:55.198339Z"
    }
   },
   "outputs": [
    {
     "data": {
      "text/plain": [
       "array([[[0.39762993, 0.18471751, 0.60292941],\n",
       "        [0.7384049 , 0.71513838, 0.13293033]],\n",
       "\n",
       "       [[0.66437931, 0.41990615, 0.14797439],\n",
       "        [0.37565847, 0.31028675, 0.11151781]],\n",
       "\n",
       "       [[0.89727508, 0.60441978, 0.29895929],\n",
       "        [0.51896344, 0.47295493, 0.88399113]],\n",
       "\n",
       "       [[0.36512802, 0.45457062, 0.35650587],\n",
       "        [0.44115913, 0.82149181, 0.68192521]]])"
      ]
     },
     "execution_count": 20,
     "metadata": {},
     "output_type": "execute_result"
    }
   ],
   "source": [
    "# random decimal numbers\n",
    "np.random.rand(4, 2, 3)"
   ]
  },
  {
   "cell_type": "code",
   "execution_count": 21,
   "metadata": {
    "ExecuteTime": {
     "end_time": "2019-12-20T18:24:55.622493Z",
     "start_time": "2019-12-20T18:24:55.434883Z"
    }
   },
   "outputs": [
    {
     "data": {
      "text/plain": [
       "array([[0.37778597, 0.66486607, 0.95132052, 0.16313824, 0.62657458,\n",
       "        0.58519895, 0.8936332 ],\n",
       "       [0.5817247 , 0.0191759 , 0.4309047 , 0.72101614, 0.53519335,\n",
       "        0.62338523, 0.31024564]])"
      ]
     },
     "execution_count": 21,
     "metadata": {},
     "output_type": "execute_result"
    }
   ],
   "source": [
    "np.random.random_sample(a.shape)"
   ]
  },
  {
   "cell_type": "code",
   "execution_count": 22,
   "metadata": {
    "ExecuteTime": {
     "end_time": "2019-12-20T18:24:55.933311Z",
     "start_time": "2019-12-20T18:24:55.629812Z"
    }
   },
   "outputs": [
    {
     "name": "stdout",
     "output_type": "stream",
     "text": [
      "1\n",
      "[[0 3 5]\n",
      " [2 4 6]\n",
      " [4 2 2]]\n"
     ]
    }
   ],
   "source": [
    "# random integer values\n",
    "print(np.random.randint(7))\n",
    "print(np.random.randint(7, size=(3, 3)))"
   ]
  },
  {
   "cell_type": "code",
   "execution_count": 23,
   "metadata": {
    "ExecuteTime": {
     "end_time": "2019-12-20T18:24:56.129106Z",
     "start_time": "2019-12-20T18:24:55.939001Z"
    }
   },
   "outputs": [
    {
     "data": {
      "text/plain": [
       "array([[1., 0., 0.],\n",
       "       [0., 1., 0.],\n",
       "       [0., 0., 1.]])"
      ]
     },
     "execution_count": 23,
     "metadata": {},
     "output_type": "execute_result"
    }
   ],
   "source": [
    "# identity matrix\n",
    "np.identity(3)"
   ]
  },
  {
   "cell_type": "code",
   "execution_count": 24,
   "metadata": {
    "ExecuteTime": {
     "end_time": "2019-12-20T18:24:56.283265Z",
     "start_time": "2019-12-20T18:24:56.135599Z"
    }
   },
   "outputs": [
    {
     "name": "stdout",
     "output_type": "stream",
     "text": [
      "[[1 2 3]\n",
      " [1 2 3]\n",
      " [1 2 3]]\n",
      "-----\n",
      "[[1 1 1 2 2 2 3 3 3]]\n"
     ]
    }
   ],
   "source": [
    "# repeat an array\n",
    "\n",
    "arr = np.array([[1, 2, 3]])\n",
    "r1 = np.repeat(arr, 3, axis=0)\n",
    "print(r1)\n",
    "print('-----')\n",
    "r2 = np.repeat(arr, 3, axis=1)\n",
    "print(r2)"
   ]
  },
  {
   "cell_type": "code",
   "execution_count": 25,
   "metadata": {
    "ExecuteTime": {
     "end_time": "2019-12-20T18:24:56.434688Z",
     "start_time": "2019-12-20T18:24:56.286913Z"
    }
   },
   "outputs": [
    {
     "name": "stdout",
     "output_type": "stream",
     "text": [
      "[[1. 1. 1. 1. 1.]\n",
      " [1. 1. 1. 1. 1.]\n",
      " [1. 1. 1. 1. 1.]\n",
      " [1. 1. 1. 1. 1.]\n",
      " [1. 1. 1. 1. 1.]]\n",
      "-----\n",
      "[[0. 0. 0.]\n",
      " [0. 9. 0.]\n",
      " [0. 0. 0.]]\n",
      "-----\n",
      "[[1. 1. 1. 1. 1.]\n",
      " [1. 0. 0. 0. 1.]\n",
      " [1. 0. 9. 0. 1.]\n",
      " [1. 0. 0. 0. 1.]\n",
      " [1. 1. 1. 1. 1.]]\n"
     ]
    }
   ],
   "source": [
    "#  creating a customized matrix\n",
    "output = np.ones((5, 5))\n",
    "print(output)\n",
    "print('-----')\n",
    "\n",
    "z = np.zeros((3, 3))\n",
    "z[1, 1] = 9\n",
    "print(z)\n",
    "print('-----')\n",
    "\n",
    "output[1:4, 1: 4] = z\n",
    "print(output)"
   ]
  },
  {
   "cell_type": "code",
   "execution_count": 26,
   "metadata": {
    "ExecuteTime": {
     "end_time": "2019-12-20T18:24:56.591783Z",
     "start_time": "2019-12-20T18:24:56.437715Z"
    }
   },
   "outputs": [
    {
     "name": "stdout",
     "output_type": "stream",
     "text": [
      "[100   2   3]\n",
      "[100   2   3]\n",
      "-----\n",
      "[1 2 3]\n",
      "[100   2   3]\n"
     ]
    }
   ],
   "source": [
    "# careful while copying\n",
    "a = np.array([1, 2, 3])\n",
    "b = a # just points\n",
    "b [0]= 100\n",
    "print(a)\n",
    "print(b)\n",
    "print('-----')\n",
    "\n",
    "a = np.array([1, 2, 3])\n",
    "b = a.copy()\n",
    "b [0]= 100\n",
    "print(a)\n",
    "print(b)\n"
   ]
  },
  {
   "cell_type": "markdown",
   "metadata": {
    "ExecuteTime": {
     "end_time": "2019-12-20T14:54:07.778468Z",
     "start_time": "2019-12-20T14:54:07.773481Z"
    }
   },
   "source": [
    "## Mathematics"
   ]
  },
  {
   "cell_type": "code",
   "execution_count": 27,
   "metadata": {
    "ExecuteTime": {
     "end_time": "2019-12-20T18:24:56.718620Z",
     "start_time": "2019-12-20T18:24:56.599918Z"
    }
   },
   "outputs": [
    {
     "name": "stdout",
     "output_type": "stream",
     "text": [
      "[1 2 3 4]\n"
     ]
    }
   ],
   "source": [
    "a = np.array([1, 2, 3, 4])\n",
    "print(a)"
   ]
  },
  {
   "cell_type": "code",
   "execution_count": 28,
   "metadata": {
    "ExecuteTime": {
     "end_time": "2019-12-20T18:24:56.862363Z",
     "start_time": "2019-12-20T18:24:56.721128Z"
    }
   },
   "outputs": [
    {
     "data": {
      "text/plain": [
       "array([3, 4, 5, 6])"
      ]
     },
     "execution_count": 28,
     "metadata": {},
     "output_type": "execute_result"
    }
   ],
   "source": [
    "a + 2"
   ]
  },
  {
   "cell_type": "code",
   "execution_count": 29,
   "metadata": {
    "ExecuteTime": {
     "end_time": "2019-12-20T18:24:57.011739Z",
     "start_time": "2019-12-20T18:24:56.862363Z"
    }
   },
   "outputs": [
    {
     "data": {
      "text/plain": [
       "array([-1,  0,  1,  2])"
      ]
     },
     "execution_count": 29,
     "metadata": {},
     "output_type": "execute_result"
    }
   ],
   "source": [
    "a - 2"
   ]
  },
  {
   "cell_type": "code",
   "execution_count": 30,
   "metadata": {
    "ExecuteTime": {
     "end_time": "2019-12-20T18:24:57.156652Z",
     "start_time": "2019-12-20T18:24:57.014907Z"
    }
   },
   "outputs": [
    {
     "data": {
      "text/plain": [
       "array([0.5, 1. , 1.5, 2. ])"
      ]
     },
     "execution_count": 30,
     "metadata": {},
     "output_type": "execute_result"
    }
   ],
   "source": [
    "a / 2"
   ]
  },
  {
   "cell_type": "code",
   "execution_count": 31,
   "metadata": {
    "ExecuteTime": {
     "end_time": "2019-12-20T18:24:57.310770Z",
     "start_time": "2019-12-20T18:24:57.160769Z"
    }
   },
   "outputs": [],
   "source": [
    "b = np.array([1, 0, 1, 0])"
   ]
  },
  {
   "cell_type": "code",
   "execution_count": 32,
   "metadata": {
    "ExecuteTime": {
     "end_time": "2019-12-20T18:24:57.448910Z",
     "start_time": "2019-12-20T18:24:57.314819Z"
    }
   },
   "outputs": [
    {
     "data": {
      "text/plain": [
       "array([2, 2, 4, 4])"
      ]
     },
     "execution_count": 32,
     "metadata": {},
     "output_type": "execute_result"
    }
   ],
   "source": [
    "a + b\n"
   ]
  },
  {
   "cell_type": "code",
   "execution_count": 33,
   "metadata": {
    "ExecuteTime": {
     "end_time": "2019-12-20T18:24:57.596799Z",
     "start_time": "2019-12-20T18:24:57.451472Z"
    }
   },
   "outputs": [
    {
     "data": {
      "text/plain": [
       "array([ 0.84147098,  0.90929743,  0.14112001, -0.7568025 ])"
      ]
     },
     "execution_count": 33,
     "metadata": {},
     "output_type": "execute_result"
    }
   ],
   "source": [
    "np.sin(a) "
   ]
  },
  {
   "cell_type": "markdown",
   "metadata": {
    "ExecuteTime": {
     "end_time": "2019-12-20T14:56:32.438765Z",
     "start_time": "2019-12-20T14:56:32.434790Z"
    }
   },
   "source": [
    "### linear algebra\n"
   ]
  },
  {
   "cell_type": "code",
   "execution_count": 34,
   "metadata": {
    "ExecuteTime": {
     "end_time": "2019-12-20T18:24:57.797585Z",
     "start_time": "2019-12-20T18:24:57.603203Z"
    }
   },
   "outputs": [
    {
     "name": "stdout",
     "output_type": "stream",
     "text": [
      "[[1. 1. 1.]\n",
      " [1. 1. 1.]]\n",
      "[[2 2]\n",
      " [2 2]\n",
      " [2 2]]\n"
     ]
    }
   ],
   "source": [
    "a = np.ones((2, 3))\n",
    "print(a)\n",
    "\n",
    "b = np.full((3, 2), 2)\n",
    "print(b)"
   ]
  },
  {
   "cell_type": "code",
   "execution_count": 35,
   "metadata": {
    "ExecuteTime": {
     "end_time": "2019-12-20T18:24:58.112565Z",
     "start_time": "2019-12-20T18:24:57.804512Z"
    }
   },
   "outputs": [
    {
     "name": "stdout",
     "output_type": "stream",
     "text": [
      "1.0\n"
     ]
    }
   ],
   "source": [
    "c = np.identity(4)\n",
    "print(np.linalg.det(c))"
   ]
  },
  {
   "cell_type": "markdown",
   "metadata": {
    "ExecuteTime": {
     "end_time": "2019-12-20T14:59:04.931064Z",
     "start_time": "2019-12-20T14:59:04.925082Z"
    }
   },
   "source": [
    "### statistics"
   ]
  },
  {
   "cell_type": "code",
   "execution_count": 36,
   "metadata": {
    "ExecuteTime": {
     "end_time": "2019-12-20T18:24:58.269125Z",
     "start_time": "2019-12-20T18:24:58.118415Z"
    }
   },
   "outputs": [
    {
     "data": {
      "text/plain": [
       "array([[1, 2, 3],\n",
       "       [4, 5, 6]])"
      ]
     },
     "execution_count": 36,
     "metadata": {},
     "output_type": "execute_result"
    }
   ],
   "source": [
    "stats = np.array([[1, 2, 3], [4, 5,6]])\n",
    "stats"
   ]
  },
  {
   "cell_type": "code",
   "execution_count": 37,
   "metadata": {
    "ExecuteTime": {
     "end_time": "2019-12-20T18:24:58.461933Z",
     "start_time": "2019-12-20T18:24:58.276923Z"
    }
   },
   "outputs": [
    {
     "name": "stdout",
     "output_type": "stream",
     "text": [
      "[1 2 3]\n",
      "[1 4]\n",
      "[4 5 6]\n",
      "[3 6]\n"
     ]
    }
   ],
   "source": [
    "print(np.min(stats, axis=0))\n",
    "print(np.min(stats, axis=1))\n",
    "\n",
    "print(np.max(stats, axis=0))\n",
    "print(np.max(stats, axis=1))"
   ]
  },
  {
   "cell_type": "code",
   "execution_count": 38,
   "metadata": {
    "ExecuteTime": {
     "end_time": "2019-12-20T18:24:58.605564Z",
     "start_time": "2019-12-20T18:24:58.467531Z"
    }
   },
   "outputs": [
    {
     "data": {
      "text/plain": [
       "array([5, 7, 9])"
      ]
     },
     "execution_count": 38,
     "metadata": {},
     "output_type": "execute_result"
    }
   ],
   "source": [
    "np.sum(stats, axis=0)"
   ]
  },
  {
   "cell_type": "markdown",
   "metadata": {
    "ExecuteTime": {
     "end_time": "2019-12-20T15:01:53.739375Z",
     "start_time": "2019-12-20T15:01:53.733395Z"
    }
   },
   "source": [
    "## Reoraganizing arrays"
   ]
  },
  {
   "cell_type": "code",
   "execution_count": 39,
   "metadata": {
    "ExecuteTime": {
     "end_time": "2019-12-20T18:24:58.761340Z",
     "start_time": "2019-12-20T18:24:58.611882Z"
    }
   },
   "outputs": [
    {
     "name": "stdout",
     "output_type": "stream",
     "text": [
      "[[1 2 3 4]\n",
      " [5 6 7 8]]\n",
      "[[1]\n",
      " [2]\n",
      " [3]\n",
      " [4]\n",
      " [5]\n",
      " [6]\n",
      " [7]\n",
      " [8]]\n"
     ]
    }
   ],
   "source": [
    "before = np.array([[1, 2, 3 , 4], [5, 6, 7, 8]])\n",
    "print(before)\n",
    "\n",
    "print(before.reshape(8,1))"
   ]
  },
  {
   "cell_type": "code",
   "execution_count": 40,
   "metadata": {
    "ExecuteTime": {
     "end_time": "2019-12-20T18:24:58.918019Z",
     "start_time": "2019-12-20T18:24:58.765693Z"
    }
   },
   "outputs": [
    {
     "data": {
      "text/plain": [
       "array([[ 1,  2,  3,  4],\n",
       "       [11, 22, 33, 44],\n",
       "       [11, 22, 33, 44]])"
      ]
     },
     "execution_count": 40,
     "metadata": {},
     "output_type": "execute_result"
    }
   ],
   "source": [
    "# vertically stacking arrays\n",
    "v1 = np.array([1, 2, 3, 4])\n",
    "v2 = np.array([11, 22, 33, 44])\n",
    "\n",
    "np.vstack((v1, v2, v2))"
   ]
  },
  {
   "cell_type": "code",
   "execution_count": 41,
   "metadata": {
    "ExecuteTime": {
     "end_time": "2019-12-20T18:24:59.079447Z",
     "start_time": "2019-12-20T18:24:58.925045Z"
    }
   },
   "outputs": [
    {
     "data": {
      "text/plain": [
       "array([[1., 1., 1., 1., 0., 0.],\n",
       "       [1., 1., 1., 1., 0., 0.]])"
      ]
     },
     "execution_count": 41,
     "metadata": {},
     "output_type": "execute_result"
    }
   ],
   "source": [
    "# horizontal stacking \n",
    "h1 = np.ones((2, 4))\n",
    "h2 = np.zeros((2, 2))\n",
    "np.hstack([h1, h2])"
   ]
  },
  {
   "cell_type": "markdown",
   "metadata": {},
   "source": [
    "## Miscellaneous - loading data"
   ]
  },
  {
   "cell_type": "markdown",
   "metadata": {},
   "source": [
    "### load data from file\n"
   ]
  },
  {
   "cell_type": "code",
   "execution_count": 42,
   "metadata": {
    "ExecuteTime": {
     "end_time": "2019-12-20T18:24:59.234301Z",
     "start_time": "2019-12-20T18:24:59.086637Z"
    }
   },
   "outputs": [
    {
     "name": "stdout",
     "output_type": "stream",
     "text": [
      "[[  1  13  21  11 196  75   4   3  34   6   7   8   0   1   2   3   4   5]\n",
      " [  3  42  12  33 766  75   4  55   6   4   3   4   5   6   7   0  11  12]\n",
      " [  1  22  33  11 999  11   2   1  78   0   1   2   9   8   7   1  76  88]]\n"
     ]
    }
   ],
   "source": [
    "filedata = np.genfromtxt('data.txt', delimiter=',')\n",
    "filedata = filedata.astype('int32')\n",
    "print(filedata)"
   ]
  },
  {
   "cell_type": "markdown",
   "metadata": {
    "ExecuteTime": {
     "end_time": "2019-12-20T16:00:31.937871Z",
     "start_time": "2019-12-20T16:00:31.928976Z"
    }
   },
   "source": [
    "### boolean masking and advanced indexing"
   ]
  },
  {
   "cell_type": "code",
   "execution_count": 43,
   "metadata": {
    "ExecuteTime": {
     "end_time": "2019-12-20T18:24:59.365005Z",
     "start_time": "2019-12-20T18:24:59.237824Z"
    }
   },
   "outputs": [
    {
     "data": {
      "text/plain": [
       "array([[False, False, False, False,  True,  True, False, False, False,\n",
       "        False, False, False, False, False, False, False, False, False],\n",
       "       [False, False, False, False,  True,  True, False,  True, False,\n",
       "        False, False, False, False, False, False, False, False, False],\n",
       "       [False, False, False, False,  True, False, False, False,  True,\n",
       "        False, False, False, False, False, False, False,  True,  True]])"
      ]
     },
     "execution_count": 43,
     "metadata": {},
     "output_type": "execute_result"
    }
   ],
   "source": [
    "filedata > 50"
   ]
  },
  {
   "cell_type": "code",
   "execution_count": 44,
   "metadata": {
    "ExecuteTime": {
     "end_time": "2019-12-20T18:24:59.830056Z",
     "start_time": "2019-12-20T18:24:59.371482Z"
    }
   },
   "outputs": [
    {
     "data": {
      "text/plain": [
       "array([196,  75, 766,  75,  55, 999,  78,  76,  88])"
      ]
     },
     "execution_count": 44,
     "metadata": {},
     "output_type": "execute_result"
    }
   ],
   "source": [
    "filedata[filedata > 50]"
   ]
  },
  {
   "cell_type": "code",
   "execution_count": 45,
   "metadata": {
    "ExecuteTime": {
     "end_time": "2019-12-20T18:25:00.058640Z",
     "start_time": "2019-12-20T18:24:59.837596Z"
    }
   },
   "outputs": [
    {
     "data": {
      "text/plain": [
       "array([2, 3, 9])"
      ]
     },
     "execution_count": 45,
     "metadata": {},
     "output_type": "execute_result"
    }
   ],
   "source": [
    "# we can index using a list\n",
    "a = np.array([1, 2, 3, 4,5, 6, 7,8,9])\n",
    "a[[1, 2, 8]]"
   ]
  },
  {
   "cell_type": "code",
   "execution_count": 46,
   "metadata": {
    "ExecuteTime": {
     "end_time": "2019-12-20T18:25:00.202180Z",
     "start_time": "2019-12-20T18:25:00.061817Z"
    }
   },
   "outputs": [
    {
     "data": {
      "text/plain": [
       "array([False, False, False, False,  True,  True, False,  True,  True,\n",
       "       False, False, False, False, False, False, False,  True,  True])"
      ]
     },
     "execution_count": 46,
     "metadata": {},
     "output_type": "execute_result"
    }
   ],
   "source": [
    "np.any(filedata > 50, axis= 0)"
   ]
  },
  {
   "cell_type": "code",
   "execution_count": 47,
   "metadata": {
    "ExecuteTime": {
     "end_time": "2019-12-20T18:25:00.352459Z",
     "start_time": "2019-12-20T18:25:00.207283Z"
    }
   },
   "outputs": [
    {
     "data": {
      "text/plain": [
       "array([False, False, False, False,  True, False, False, False, False,\n",
       "       False, False, False, False, False, False, False, False, False])"
      ]
     },
     "execution_count": 47,
     "metadata": {},
     "output_type": "execute_result"
    }
   ],
   "source": [
    "np.all(filedata > 50, axis= 0)   "
   ]
  },
  {
   "cell_type": "code",
   "execution_count": 48,
   "metadata": {
    "ExecuteTime": {
     "end_time": "2019-12-20T18:25:00.508946Z",
     "start_time": "2019-12-20T18:25:00.356331Z"
    }
   },
   "outputs": [
    {
     "data": {
      "text/plain": [
       "array([[False, False, False, False, False,  True, False, False, False,\n",
       "        False, False, False, False, False, False, False, False, False],\n",
       "       [False, False, False, False, False,  True, False,  True, False,\n",
       "        False, False, False, False, False, False, False, False, False],\n",
       "       [False, False, False, False, False, False, False, False,  True,\n",
       "        False, False, False, False, False, False, False,  True,  True]])"
      ]
     },
     "execution_count": 48,
     "metadata": {},
     "output_type": "execute_result"
    }
   ],
   "source": [
    "((filedata > 50) & (filedata < 100))"
   ]
  },
  {
   "cell_type": "code",
   "execution_count": 49,
   "metadata": {
    "ExecuteTime": {
     "end_time": "2019-12-20T18:25:00.654479Z",
     "start_time": "2019-12-20T18:25:00.515647Z"
    }
   },
   "outputs": [
    {
     "data": {
      "text/plain": [
       "array([[ True,  True,  True,  True, False, False,  True,  True,  True,\n",
       "         True,  True,  True,  True,  True,  True,  True,  True,  True],\n",
       "       [ True,  True,  True,  True, False, False,  True, False,  True,\n",
       "         True,  True,  True,  True,  True,  True,  True,  True,  True],\n",
       "       [ True,  True,  True,  True, False,  True,  True,  True, False,\n",
       "         True,  True,  True,  True,  True,  True,  True, False, False]])"
      ]
     },
     "execution_count": 49,
     "metadata": {},
     "output_type": "execute_result"
    }
   ],
   "source": [
    "(~(filedata > 50) & (filedata < 100))"
   ]
  },
  {
   "cell_type": "code",
   "execution_count": 50,
   "metadata": {
    "ExecuteTime": {
     "end_time": "2019-12-20T18:25:00.870656Z",
     "start_time": "2019-12-20T18:25:00.658228Z"
    }
   },
   "outputs": [
    {
     "data": {
      "text/plain": [
       "array([75, 75, 55, 78, 76, 88])"
      ]
     },
     "execution_count": 50,
     "metadata": {},
     "output_type": "execute_result"
    }
   ],
   "source": [
    "filedata[((filedata > 50) & (filedata < 100))]"
   ]
  },
  {
   "cell_type": "code",
   "execution_count": 51,
   "metadata": {
    "ExecuteTime": {
     "end_time": "2019-12-20T18:25:01.019680Z",
     "start_time": "2019-12-20T18:25:00.876558Z"
    }
   },
   "outputs": [
    {
     "name": "stdout",
     "output_type": "stream",
     "text": [
      "[False False  True False  True False  True]\n"
     ]
    }
   ],
   "source": [
    "my_vector = np.array([-17, -4, 0, 2, 21, 37, 105])\n",
    "zero_mod_7_mask = 0 == (my_vector % 7)\n",
    "print(zero_mod_7_mask)"
   ]
  },
  {
   "cell_type": "code",
   "execution_count": 52,
   "metadata": {
    "ExecuteTime": {
     "end_time": "2019-12-20T18:25:01.169232Z",
     "start_time": "2019-12-20T18:25:01.026479Z"
    }
   },
   "outputs": [
    {
     "data": {
      "text/plain": [
       "array([  0,  21, 105])"
      ]
     },
     "execution_count": 52,
     "metadata": {},
     "output_type": "execute_result"
    }
   ],
   "source": [
    "my_vector[zero_mod_7_mask]"
   ]
  },
  {
   "cell_type": "code",
   "execution_count": 53,
   "metadata": {
    "ExecuteTime": {
     "end_time": "2019-12-20T18:25:01.330076Z",
     "start_time": "2019-12-20T18:25:01.175926Z"
    }
   },
   "outputs": [
    {
     "name": "stdout",
     "output_type": "stream",
     "text": [
      "[ 21 105]\n"
     ]
    }
   ],
   "source": [
    "mod_test = 0 == (my_vector % 7)\n",
    "posmask = my_vector > 0\n",
    "combined_mask = np.logical_and(mod_test, posmask)\n",
    "# combined_mask\n",
    "print(my_vector[combined_mask])"
   ]
  },
  {
   "cell_type": "code",
   "execution_count": 65,
   "metadata": {
    "ExecuteTime": {
     "end_time": "2019-12-20T18:27:02.144536Z",
     "start_time": "2019-12-20T18:27:02.136480Z"
    }
   },
   "outputs": [],
   "source": [
    "#  example indexing\n",
    "a = np.arange(1, 11).reshape((2, 5))\n",
    "b = np.arange(11, 21).reshape((2, 5))\n",
    "c = np.arange(21, 31).reshape((2, 5))"
   ]
  },
  {
   "cell_type": "code",
   "execution_count": 66,
   "metadata": {
    "ExecuteTime": {
     "end_time": "2019-12-20T18:27:02.804310Z",
     "start_time": "2019-12-20T18:27:02.795987Z"
    }
   },
   "outputs": [
    {
     "name": "stdout",
     "output_type": "stream",
     "text": [
      "[[ 1  2  3  4  5]\n",
      " [ 6  7  8  9 10]\n",
      " [11 12 13 14 15]\n",
      " [16 17 18 19 20]\n",
      " [21 22 23 24 25]\n",
      " [26 27 28 29 30]]\n"
     ]
    }
   ],
   "source": [
    "final = np.vstack([a, b, c])\n",
    "print(final)"
   ]
  },
  {
   "cell_type": "code",
   "execution_count": 67,
   "metadata": {
    "ExecuteTime": {
     "end_time": "2019-12-20T18:27:03.287233Z",
     "start_time": "2019-12-20T18:27:03.278207Z"
    }
   },
   "outputs": [
    {
     "data": {
      "text/plain": [
       "array([[11, 12],\n",
       "       [16, 17]])"
      ]
     },
     "execution_count": 67,
     "metadata": {},
     "output_type": "execute_result"
    }
   ],
   "source": [
    "final[2:4, :2]"
   ]
  },
  {
   "cell_type": "code",
   "execution_count": 68,
   "metadata": {
    "ExecuteTime": {
     "end_time": "2019-12-20T18:27:03.932704Z",
     "start_time": "2019-12-20T18:27:03.923801Z"
    }
   },
   "outputs": [
    {
     "data": {
      "text/plain": [
       "array([ 2,  8, 14, 20])"
      ]
     },
     "execution_count": 68,
     "metadata": {},
     "output_type": "execute_result"
    }
   ],
   "source": [
    "final[[0, 1, 2, 3], [1, 2, 3, 4]]"
   ]
  },
  {
   "cell_type": "code",
   "execution_count": 69,
   "metadata": {
    "ExecuteTime": {
     "end_time": "2019-12-20T18:27:04.487629Z",
     "start_time": "2019-12-20T18:27:04.479637Z"
    }
   },
   "outputs": [
    {
     "data": {
      "text/plain": [
       "array([[ 4,  5],\n",
       "       [24, 25],\n",
       "       [29, 30]])"
      ]
     },
     "execution_count": 69,
     "metadata": {},
     "output_type": "execute_result"
    }
   ],
   "source": [
    "final[[0, 4, 5], 3:]"
   ]
  },
  {
   "cell_type": "markdown",
   "metadata": {
    "ExecuteTime": {
     "end_time": "2019-12-20T15:43:47.098022Z",
     "start_time": "2019-12-20T15:43:47.088394Z"
    }
   },
   "source": [
    "### Return evenly spaced numbers over a specified interval.\n"
   ]
  },
  {
   "cell_type": "code",
   "execution_count": 70,
   "metadata": {
    "ExecuteTime": {
     "end_time": "2019-12-20T18:27:05.609105Z",
     "start_time": "2019-12-20T18:27:05.580209Z"
    }
   },
   "outputs": [
    {
     "data": {
      "text/plain": [
       "array([ 0.        ,  5.55555556, 11.11111111, 16.66666667, 22.22222222,\n",
       "       27.77777778, 33.33333333, 38.88888889, 44.44444444, 50.        ])"
      ]
     },
     "execution_count": 70,
     "metadata": {},
     "output_type": "execute_result"
    }
   ],
   "source": [
    "np.linspace(start = 0, stop=50, num=10)"
   ]
  },
  {
   "cell_type": "code",
   "execution_count": 71,
   "metadata": {
    "ExecuteTime": {
     "end_time": "2019-12-20T18:27:06.131260Z",
     "start_time": "2019-12-20T18:27:06.123000Z"
    }
   },
   "outputs": [
    {
     "data": {
      "text/plain": [
       "array([ 5.        ,  6.11111111,  7.22222222,  8.33333333,  9.44444444,\n",
       "       10.55555556, 11.66666667, 12.77777778, 13.88888889, 15.        ])"
      ]
     },
     "execution_count": 71,
     "metadata": {},
     "output_type": "execute_result"
    }
   ],
   "source": [
    "np.linspace(5, 15, 10)"
   ]
  },
  {
   "cell_type": "code",
   "execution_count": 72,
   "metadata": {
    "ExecuteTime": {
     "end_time": "2019-12-20T18:27:06.489870Z",
     "start_time": "2019-12-20T18:27:06.480707Z"
    }
   },
   "outputs": [],
   "source": [
    "mylinspace = np.linspace(5, 15, 9, retstep=True)"
   ]
  },
  {
   "cell_type": "code",
   "execution_count": 73,
   "metadata": {
    "ExecuteTime": {
     "end_time": "2019-12-20T18:27:06.836285Z",
     "start_time": "2019-12-20T18:27:06.784945Z"
    }
   },
   "outputs": [
    {
     "data": {
      "text/plain": [
       "(array([ 5.  ,  6.25,  7.5 ,  8.75, 10.  , 11.25, 12.5 , 13.75, 15.  ]), 1.25)"
      ]
     },
     "execution_count": 73,
     "metadata": {},
     "output_type": "execute_result"
    }
   ],
   "source": [
    "mylinspace"
   ]
  },
  {
   "cell_type": "markdown",
   "metadata": {
    "ExecuteTime": {
     "end_time": "2019-12-20T19:31:11.092286Z",
     "start_time": "2019-12-20T19:31:11.085332Z"
    }
   },
   "source": [
    " ##  Creating Structured array\n",
    " \n",
    " used for heterogeneous data while maintaining numpy's requirement that every element in an array use the same amount of memory space"
   ]
  },
  {
   "cell_type": "code",
   "execution_count": 83,
   "metadata": {
    "ExecuteTime": {
     "end_time": "2019-12-20T20:04:56.594382Z",
     "start_time": "2019-12-20T20:04:56.585702Z"
    }
   },
   "outputs": [
    {
     "data": {
      "text/plain": [
       "[('name', '<U6'), ('height', 'f8'), ('weight', 'f8'), ('age', 'i8')]"
      ]
     },
     "execution_count": 83,
     "metadata": {},
     "output_type": "execute_result"
    }
   ],
   "source": [
    "person_data_def = [('name', '<U6'), ('height', 'f8'), ('weight', 'f8'), ('age', 'i8')]\n",
    "person_data_def"
   ]
  },
  {
   "cell_type": "code",
   "execution_count": 84,
   "metadata": {
    "ExecuteTime": {
     "end_time": "2019-12-20T20:04:58.259226Z",
     "start_time": "2019-12-20T20:04:58.039959Z"
    }
   },
   "outputs": [],
   "source": [
    "people_array = np.zeros((4), dtype=person_data_def)\n"
   ]
  },
  {
   "cell_type": "code",
   "execution_count": 85,
   "metadata": {
    "ExecuteTime": {
     "end_time": "2019-12-20T20:04:58.878107Z",
     "start_time": "2019-12-20T20:04:58.866183Z"
    }
   },
   "outputs": [
    {
     "data": {
      "text/plain": [
       "array([('', 0., 0., 0), ('', 0., 0., 0), ('', 0., 0., 0), ('', 0., 0., 0)],\n",
       "      dtype=[('name', '<U6'), ('height', '<f8'), ('weight', '<f8'), ('age', '<i8')])"
      ]
     },
     "execution_count": 85,
     "metadata": {},
     "output_type": "execute_result"
    }
   ],
   "source": [
    "people_array"
   ]
  },
  {
   "cell_type": "code",
   "execution_count": 86,
   "metadata": {
    "ExecuteTime": {
     "end_time": "2019-12-20T20:05:01.486281Z",
     "start_time": "2019-12-20T20:05:01.478320Z"
    }
   },
   "outputs": [],
   "source": [
    "# https://docs.scipy.org/doc/numpy/reference/arrays.dtypes.html\n",
    "# https://jakevdp.github.io/PythonDataScienceHandbook/02.09-structured-data-numpy.html\n",
    "\n",
    "# dt = np.dtype('i4')   # 32-bit signed integer\n",
    "# dt = np.dtype('f8')   # 64-bit floating-point number\n",
    "# dt = np.dtype('c16')  # 128-bit complex floating-point number\n",
    "# dt = np.dtype('a25')  # 25-length zero-terminated bytes\n",
    "# dt = np.dtype('U25')  # 25-character string"
   ]
  },
  {
   "cell_type": "code",
   "execution_count": 87,
   "metadata": {
    "ExecuteTime": {
     "end_time": "2019-12-20T20:05:02.164174Z",
     "start_time": "2019-12-20T20:05:02.155963Z"
    }
   },
   "outputs": [
    {
     "data": {
      "text/plain": [
       "array([('', 0., 0., 0), ('', 0., 0., 0), ('', 0., 0., 0), ('', 0., 0., 0)],\n",
       "      dtype=[('name', '<U6'), ('height', '<f8'), ('weight', '<f8'), ('age', '<i8')])"
      ]
     },
     "execution_count": 87,
     "metadata": {},
     "output_type": "execute_result"
    }
   ],
   "source": [
    "people_array"
   ]
  },
  {
   "cell_type": "code",
   "execution_count": 88,
   "metadata": {
    "ExecuteTime": {
     "end_time": "2019-12-20T20:05:05.004450Z",
     "start_time": "2019-12-20T20:05:04.996325Z"
    }
   },
   "outputs": [],
   "source": [
    "people_array[3] = ('delta', 73, 58, 28)"
   ]
  },
  {
   "cell_type": "code",
   "execution_count": 89,
   "metadata": {
    "ExecuteTime": {
     "end_time": "2019-12-20T20:05:08.468264Z",
     "start_time": "2019-12-20T20:05:08.460230Z"
    }
   },
   "outputs": [
    {
     "data": {
      "text/plain": [
       "('delta', 73., 58., 28)"
      ]
     },
     "execution_count": 89,
     "metadata": {},
     "output_type": "execute_result"
    }
   ],
   "source": [
    "people_array[3]"
   ]
  },
  {
   "cell_type": "code",
   "execution_count": 90,
   "metadata": {
    "ExecuteTime": {
     "end_time": "2019-12-20T20:06:13.389154Z",
     "start_time": "2019-12-20T20:06:13.382155Z"
    }
   },
   "outputs": [],
   "source": [
    "people_array[1] = ('alpha', 83, 38, 48)"
   ]
  },
  {
   "cell_type": "code",
   "execution_count": 92,
   "metadata": {
    "ExecuteTime": {
     "end_time": "2019-12-20T20:06:21.074361Z",
     "start_time": "2019-12-20T20:06:21.066127Z"
    }
   },
   "outputs": [
    {
     "data": {
      "text/plain": [
       "('alpha', 83., 38., 48)"
      ]
     },
     "execution_count": 92,
     "metadata": {},
     "output_type": "execute_result"
    }
   ],
   "source": [
    "people_array[1]"
   ]
  },
  {
   "cell_type": "code",
   "execution_count": 93,
   "metadata": {
    "ExecuteTime": {
     "end_time": "2019-12-20T20:06:26.375612Z",
     "start_time": "2019-12-20T20:06:26.363370Z"
    }
   },
   "outputs": [
    {
     "data": {
      "text/plain": [
       "array([('',  0.,  0.,  0), ('alpha', 83., 38., 48), ('',  0.,  0.,  0),\n",
       "       ('delta', 73., 58., 28)],\n",
       "      dtype=[('name', '<U6'), ('height', '<f8'), ('weight', '<f8'), ('age', '<i8')])"
      ]
     },
     "execution_count": 93,
     "metadata": {},
     "output_type": "execute_result"
    }
   ],
   "source": [
    "people_array"
   ]
  },
  {
   "cell_type": "code",
   "execution_count": 95,
   "metadata": {
    "ExecuteTime": {
     "end_time": "2019-12-20T20:06:42.306466Z",
     "start_time": "2019-12-20T20:06:42.293510Z"
    }
   },
   "outputs": [
    {
     "data": {
      "text/plain": [
       "array([ 0, 48,  0, 28], dtype=int64)"
      ]
     },
     "execution_count": 95,
     "metadata": {},
     "output_type": "execute_result"
    }
   ],
   "source": [
    "people_array['age']"
   ]
  },
  {
   "cell_type": "code",
   "execution_count": 96,
   "metadata": {
    "ExecuteTime": {
     "end_time": "2019-12-20T20:11:57.769309Z",
     "start_time": "2019-12-20T20:11:57.756356Z"
    }
   },
   "outputs": [
    {
     "data": {
      "text/plain": [
       "array([[[('', 0., 0., 0), ('', 0., 0., 0)],\n",
       "        [('', 0., 0., 0), ('', 0., 0., 0)],\n",
       "        [('', 0., 0., 0), ('', 0., 0., 0)]],\n",
       "\n",
       "       [[('', 0., 0., 0), ('', 0., 0., 0)],\n",
       "        [('', 0., 0., 0), ('', 0., 0., 0)],\n",
       "        [('', 0., 0., 0), ('', 0., 0., 0)]],\n",
       "\n",
       "       [[('', 0., 0., 0), ('', 0., 0., 0)],\n",
       "        [('', 0., 0., 0), ('', 0., 0., 0)],\n",
       "        [('', 0., 0., 0), ('', 0., 0., 0)]],\n",
       "\n",
       "       [[('', 0., 0., 0), ('', 0., 0., 0)],\n",
       "        [('', 0., 0., 0), ('', 0., 0., 0)],\n",
       "        [('', 0., 0., 0), ('', 0., 0., 0)]]],\n",
       "      dtype=[('name', '<U6'), ('height', '<f8'), ('weight', '<f8'), ('age', '<i8')])"
      ]
     },
     "execution_count": 96,
     "metadata": {},
     "output_type": "execute_result"
    }
   ],
   "source": [
    "people_big_array = np.zeros((4, 3, 2), dtype=person_data_def)\n",
    "people_big_array"
   ]
  },
  {
   "cell_type": "code",
   "execution_count": 99,
   "metadata": {
    "ExecuteTime": {
     "end_time": "2019-12-20T20:12:37.291105Z",
     "start_time": "2019-12-20T20:12:37.282012Z"
    }
   },
   "outputs": [
    {
     "data": {
      "text/plain": [
       "array([[[('',  0.,  0.,  0), ('',  0.,  0.,  0)],\n",
       "        [('',  0.,  0.,  0), ('',  0.,  0.,  0)],\n",
       "        [('',  0.,  0.,  0), ('',  0.,  0.,  0)]],\n",
       "\n",
       "       [[('',  0.,  0.,  0), ('',  0.,  0.,  0)],\n",
       "        [('',  0.,  0.,  0), ('',  0.,  0.,  0)],\n",
       "        [('',  0.,  0.,  0), ('',  0.,  0.,  0)]],\n",
       "\n",
       "       [[('',  0.,  0.,  0), ('',  0.,  0.,  0)],\n",
       "        [('',  0.,  0.,  0), ('',  0.,  0.,  0)],\n",
       "        [('',  0.,  0.,  0), ('',  0.,  0.,  0)]],\n",
       "\n",
       "       [[('',  0.,  0.,  0), ('',  0.,  0.,  0)],\n",
       "        [('',  0.,  0.,  0), ('',  0.,  0.,  0)],\n",
       "        [('',  0.,  0.,  0), ('echo', 10., 20., 30)]]],\n",
       "      dtype=[('name', '<U6'), ('height', '<f8'), ('weight', '<f8'), ('age', '<i8')])"
      ]
     },
     "execution_count": 99,
     "metadata": {},
     "output_type": "execute_result"
    }
   ],
   "source": [
    "people_big_array[3, 2, 1] = ('echo', 10, 20, 30)\n",
    "people_big_array"
   ]
  },
  {
   "cell_type": "code",
   "execution_count": 100,
   "metadata": {
    "ExecuteTime": {
     "end_time": "2019-12-20T20:14:17.456068Z",
     "start_time": "2019-12-20T20:14:17.449480Z"
    }
   },
   "outputs": [],
   "source": [
    "# creating Record arrays"
   ]
  },
  {
   "cell_type": "code",
   "execution_count": 102,
   "metadata": {
    "ExecuteTime": {
     "end_time": "2019-12-20T20:16:32.120467Z",
     "start_time": "2019-12-20T20:16:32.108394Z"
    }
   },
   "outputs": [
    {
     "data": {
      "text/plain": [
       "rec.array([('Delta', 73., 205., 34), ('alpha', 83.,  38., 48)],\n",
       "          dtype=[('name', '<U6'), ('height', '<f8'), ('weight', '<f8'), ('age', '<i8')])"
      ]
     },
     "execution_count": 102,
     "metadata": {},
     "output_type": "execute_result"
    }
   ],
   "source": [
    "person_record_array = np.rec.array([('Delta', 73, 205, 34), ('alpha', 83, 38, 48)], dtype=person_data_def)\n",
    "person_record_array"
   ]
  },
  {
   "cell_type": "code",
   "execution_count": 104,
   "metadata": {
    "ExecuteTime": {
     "end_time": "2019-12-20T20:19:21.798735Z",
     "start_time": "2019-12-20T20:19:21.787326Z"
    }
   },
   "outputs": [
    {
     "data": {
      "text/plain": [
       "34"
      ]
     },
     "execution_count": 104,
     "metadata": {},
     "output_type": "execute_result"
    }
   ],
   "source": [
    "person_record_array[0].age \n",
    "# using attributes instead of index"
   ]
  },
  {
   "cell_type": "code",
   "execution_count": null,
   "metadata": {},
   "outputs": [],
   "source": []
  }
 ],
 "metadata": {
  "kernelspec": {
   "display_name": "Python 3",
   "language": "python",
   "name": "python3"
  },
  "language_info": {
   "codemirror_mode": {
    "name": "ipython",
    "version": 3
   },
   "file_extension": ".py",
   "mimetype": "text/x-python",
   "name": "python",
   "nbconvert_exporter": "python",
   "pygments_lexer": "ipython3",
   "version": "3.7.4"
  },
  "toc": {
   "base_numbering": 1,
   "nav_menu": {},
   "number_sections": true,
   "sideBar": true,
   "skip_h1_title": false,
   "title_cell": "Table of Contents",
   "title_sidebar": "Contents",
   "toc_cell": true,
   "toc_position": {
    "height": "calc(100% - 180px)",
    "left": "10px",
    "top": "150px",
    "width": "165px"
   },
   "toc_section_display": true,
   "toc_window_display": false
  },
  "varInspector": {
   "cols": {
    "lenName": 16,
    "lenType": 16,
    "lenVar": 40
   },
   "kernels_config": {
    "python": {
     "delete_cmd_postfix": "",
     "delete_cmd_prefix": "del ",
     "library": "var_list.py",
     "varRefreshCmd": "print(var_dic_list())"
    },
    "r": {
     "delete_cmd_postfix": ") ",
     "delete_cmd_prefix": "rm(",
     "library": "var_list.r",
     "varRefreshCmd": "cat(var_dic_list()) "
    }
   },
   "types_to_exclude": [
    "module",
    "function",
    "builtin_function_or_method",
    "instance",
    "_Feature"
   ],
   "window_display": false
  }
 },
 "nbformat": 4,
 "nbformat_minor": 2
}
