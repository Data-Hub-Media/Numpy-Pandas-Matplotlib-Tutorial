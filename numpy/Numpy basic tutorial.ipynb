{
 "cells": [
  {
   "cell_type": "markdown",
   "metadata": {
    "toc": true
   },
   "source": [
    "<h1>Table of Contents<span class=\"tocSkip\"></span></h1>\n",
    "<div class=\"toc\"><ul class=\"toc-item\"><li><span><a href=\"#Numpy-Tutorial\" data-toc-modified-id=\"Numpy-Tutorial-1\"><span class=\"toc-item-num\">1&nbsp;&nbsp;</span>Numpy Tutorial</a></span><ul class=\"toc-item\"><li><span><a href=\"#BASICS\" data-toc-modified-id=\"BASICS-1.1\"><span class=\"toc-item-num\">1.1&nbsp;&nbsp;</span>BASICS</a></span></li><li><span><a href=\"#Adding-and-removing-elements-from-numpy-arrays\" data-toc-modified-id=\"Adding-and-removing-elements-from-numpy-arrays-1.2\"><span class=\"toc-item-num\">1.2&nbsp;&nbsp;</span>Adding and removing elements from numpy arrays</a></span></li><li><span><a href=\"#Accessing/Changing-specific-elements,-rows,-columns,-etc\" data-toc-modified-id=\"Accessing/Changing-specific-elements,-rows,-columns,-etc-1.3\"><span class=\"toc-item-num\">1.3&nbsp;&nbsp;</span>Accessing/Changing specific elements, rows, columns, etc</a></span></li><li><span><a href=\"#Initializing-different-type-of-arrays\" data-toc-modified-id=\"Initializing-different-type-of-arrays-1.4\"><span class=\"toc-item-num\">1.4&nbsp;&nbsp;</span>Initializing different type of arrays</a></span></li><li><span><a href=\"#Mathematics\" data-toc-modified-id=\"Mathematics-1.5\"><span class=\"toc-item-num\">1.5&nbsp;&nbsp;</span>Mathematics</a></span><ul class=\"toc-item\"><li><span><a href=\"#linear-algebra\" data-toc-modified-id=\"linear-algebra-1.5.1\"><span class=\"toc-item-num\">1.5.1&nbsp;&nbsp;</span>linear algebra</a></span></li><li><span><a href=\"#statistics\" data-toc-modified-id=\"statistics-1.5.2\"><span class=\"toc-item-num\">1.5.2&nbsp;&nbsp;</span>statistics</a></span></li></ul></li><li><span><a href=\"#Miscellaneous---loading-data\" data-toc-modified-id=\"Miscellaneous---loading-data-1.6\"><span class=\"toc-item-num\">1.6&nbsp;&nbsp;</span>Miscellaneous - loading data</a></span><ul class=\"toc-item\"><li><span><a href=\"#load-data-from-file\" data-toc-modified-id=\"load-data-from-file-1.6.1\"><span class=\"toc-item-num\">1.6.1&nbsp;&nbsp;</span>load data from file</a></span></li><li><span><a href=\"#boolean-masking-and-advanced-indexing\" data-toc-modified-id=\"boolean-masking-and-advanced-indexing-1.6.2\"><span class=\"toc-item-num\">1.6.2&nbsp;&nbsp;</span>boolean masking and advanced indexing</a></span></li><li><span><a href=\"#Return-evenly-spaced-numbers-over-a-specified-interval.\" data-toc-modified-id=\"Return-evenly-spaced-numbers-over-a-specified-interval.-1.6.3\"><span class=\"toc-item-num\">1.6.3&nbsp;&nbsp;</span>Return evenly spaced numbers over a specified interval.</a></span></li></ul></li><li><span><a href=\"#Creating-Structured-array\" data-toc-modified-id=\"Creating-Structured-array-1.7\"><span class=\"toc-item-num\">1.7&nbsp;&nbsp;</span>Creating Structured array</a></span></li><li><span><a href=\"#Rearranging-array-elements\" data-toc-modified-id=\"Rearranging-array-elements-1.8\"><span class=\"toc-item-num\">1.8&nbsp;&nbsp;</span>Rearranging array elements</a></span></li><li><span><a href=\"#Transpose-like-operations\" data-toc-modified-id=\"Transpose-like-operations-1.9\"><span class=\"toc-item-num\">1.9&nbsp;&nbsp;</span>Transpose-like operations</a></span></li><li><span><a href=\"#Universal-Functions\" data-toc-modified-id=\"Universal-Functions-1.10\"><span class=\"toc-item-num\">1.10&nbsp;&nbsp;</span>Universal Functions</a></span></li></ul></li></ul></div>"
   ]
  },
  {
   "cell_type": "markdown",
   "metadata": {},
   "source": [
    "# Numpy Tutorial\n",
    "\n",
    "* links\n",
    "    * [A Visual Intro to NumPy and Data Representation](http://jalammar.github.io/visual-numpy/)\n",
    "    * [Python NumPy Tutorial for Beginners](https://www.youtube.com/watch?v=QUT1VHiLmmI)\n",
    "    * [NumPy Data Science Essential Training With Python 3](https://www.youtube.com/playlist?list=PLZ7s-Z1aAtmIRpnGQGMTvV3AGdDK37d2b) \n"
   ]
  },
  {
   "cell_type": "code",
   "execution_count": 1,
   "metadata": {
    "ExecuteTime": {
     "end_time": "2019-12-21T14:21:54.434688Z",
     "start_time": "2019-12-21T14:21:54.278538Z"
    }
   },
   "outputs": [],
   "source": [
    "import numpy as np"
   ]
  },
  {
   "cell_type": "markdown",
   "metadata": {},
   "source": [
    "## BASICS"
   ]
  },
  {
   "cell_type": "code",
   "execution_count": 2,
   "metadata": {
    "ExecuteTime": {
     "end_time": "2019-12-21T14:21:54.442967Z",
     "start_time": "2019-12-21T14:21:54.437593Z"
    }
   },
   "outputs": [],
   "source": [
    "a = np.array([1, 2, 3])\n",
    "\n",
    "b = np.array([\n",
    "    [1., 1.],\n",
    "    [1., 1.]\n",
    "])\n",
    "\n",
    "c = np.array([1,2, 3], dtype=\"int16\")\n",
    "d = np.array([14, -3.54, 5 + 7j]) "
   ]
  },
  {
   "cell_type": "code",
   "execution_count": 3,
   "metadata": {
    "ExecuteTime": {
     "end_time": "2019-12-21T14:21:54.598912Z",
     "start_time": "2019-12-21T14:21:54.445543Z"
    }
   },
   "outputs": [
    {
     "name": "stdout",
     "output_type": "stream",
     "text": [
      "[1 2 3]\n",
      "[[1. 1.]\n",
      " [1. 1.]]\n",
      "[1 2 3]\n",
      "[14.  +0.j -3.54+0.j  5.  +7.j]\n",
      "-------\n",
      "1\n",
      "2\n",
      "1\n",
      "-------\n",
      "(3,)\n",
      "(2, 2)\n",
      "(3,)\n"
     ]
    }
   ],
   "source": [
    "print(a)\n",
    "print(b)\n",
    "print(c)\n",
    "print(d)\n",
    "print('-------')\n",
    "print(a.ndim)\n",
    "print(b.ndim)\n",
    "print(c.ndim)\n",
    "print('-------')\n",
    "print(a.shape)\n",
    "print(b.shape)\n",
    "print(c.shape)"
   ]
  },
  {
   "cell_type": "markdown",
   "metadata": {},
   "source": [
    "* **Numpy Benefits**\n",
    "\n",
    "    1) Fixed Type\n",
    "    \n",
    "    2) Contigious memory\n"
   ]
  },
  {
   "cell_type": "code",
   "execution_count": 4,
   "metadata": {
    "ExecuteTime": {
     "end_time": "2019-12-21T14:21:54.789010Z",
     "start_time": "2019-12-21T14:21:54.600908Z"
    }
   },
   "outputs": [
    {
     "name": "stdout",
     "output_type": "stream",
     "text": [
      "int32\n",
      "float64\n",
      "int16\n"
     ]
    }
   ],
   "source": [
    "# get type\n",
    "print(a.dtype)\n",
    "print(b.dtype)\n",
    "print(c.dtype)"
   ]
  },
  {
   "cell_type": "code",
   "execution_count": 5,
   "metadata": {
    "ExecuteTime": {
     "end_time": "2019-12-21T14:21:54.913721Z",
     "start_time": "2019-12-21T14:21:54.790230Z"
    }
   },
   "outputs": [
    {
     "name": "stdout",
     "output_type": "stream",
     "text": [
      "4\n",
      "8\n",
      "2\n"
     ]
    }
   ],
   "source": [
    "# get size - size of each item (B)\n",
    "print(a.itemsize)\n",
    "print(b.itemsize)\n",
    "print(c.itemsize)"
   ]
  },
  {
   "cell_type": "code",
   "execution_count": 6,
   "metadata": {
    "ExecuteTime": {
     "end_time": "2019-12-21T14:21:55.053992Z",
     "start_time": "2019-12-21T14:21:54.914756Z"
    }
   },
   "outputs": [
    {
     "name": "stdout",
     "output_type": "stream",
     "text": [
      "12\n",
      "12\n",
      "32\n",
      "6\n"
     ]
    }
   ],
   "source": [
    "# get total size - total space used (B )\n",
    "print(a.size * a.itemsize)\n",
    "print(a.nbytes)\n",
    "print(b.nbytes)\n",
    "print(c.nbytes)"
   ]
  },
  {
   "cell_type": "markdown",
   "metadata": {
    "ExecuteTime": {
     "end_time": "2019-12-20T20:21:51.591844Z",
     "start_time": "2019-12-20T20:21:51.586531Z"
    }
   },
   "source": [
    "## Adding and removing elements from numpy arrays"
   ]
  },
  {
   "cell_type": "code",
   "execution_count": 7,
   "metadata": {
    "ExecuteTime": {
     "end_time": "2019-12-21T14:21:55.205569Z",
     "start_time": "2019-12-21T14:21:55.056970Z"
    }
   },
   "outputs": [
    {
     "data": {
      "text/plain": [
       "array([[[ 0,  1,  2,  3],\n",
       "        [ 4,  5,  6,  7],\n",
       "        [ 8,  9, 10, 11]],\n",
       "\n",
       "       [[12, 13, 14, 15],\n",
       "        [16, 17, 18, 19],\n",
       "        [20, 21, 22, 23]]])"
      ]
     },
     "execution_count": 7,
     "metadata": {},
     "output_type": "execute_result"
    }
   ],
   "source": [
    "a = np.array(np.arange(24)).reshape((2, 3, 4))\n",
    "a"
   ]
  },
  {
   "cell_type": "code",
   "execution_count": 8,
   "metadata": {
    "ExecuteTime": {
     "end_time": "2019-12-21T14:21:55.343468Z",
     "start_time": "2019-12-21T14:21:55.205569Z"
    }
   },
   "outputs": [
    {
     "data": {
      "text/plain": [
       "array([ 0,  1,  2,  3,  4,  5,  6,  7,  8,  9, 10, 11, 12, 13, 14, 15, 16,\n",
       "       17, 18, 19, 20, 21, 22, 23,  5,  6,  7,  8])"
      ]
     },
     "execution_count": 8,
     "metadata": {},
     "output_type": "execute_result"
    }
   ],
   "source": [
    "b = np.append(a, [5, 6, 7, 8])\n",
    "b"
   ]
  },
  {
   "cell_type": "code",
   "execution_count": 9,
   "metadata": {
    "ExecuteTime": {
     "end_time": "2019-12-21T14:21:55.483226Z",
     "start_time": "2019-12-21T14:21:55.344499Z"
    }
   },
   "outputs": [
    {
     "data": {
      "text/plain": [
       "(28,)"
      ]
     },
     "execution_count": 9,
     "metadata": {},
     "output_type": "execute_result"
    }
   ],
   "source": [
    "b.shape"
   ]
  },
  {
   "cell_type": "code",
   "execution_count": 10,
   "metadata": {
    "ExecuteTime": {
     "end_time": "2019-12-21T14:21:55.621875Z",
     "start_time": "2019-12-21T14:21:55.484223Z"
    }
   },
   "outputs": [
    {
     "data": {
      "text/plain": [
       "array([[ 0,  1,  2,  3],\n",
       "       [ 4,  5,  6,  7],\n",
       "       [ 8,  9, 10, 11],\n",
       "       [12, 13, 14, 15],\n",
       "       [16, 17, 18, 19],\n",
       "       [20, 21, 22, 23],\n",
       "       [ 5,  6,  7,  8]])"
      ]
     },
     "execution_count": 10,
     "metadata": {},
     "output_type": "execute_result"
    }
   ],
   "source": [
    "b.reshape((7, 4))"
   ]
  },
  {
   "cell_type": "code",
   "execution_count": 11,
   "metadata": {
    "ExecuteTime": {
     "end_time": "2019-12-21T14:21:56.063593Z",
     "start_time": "2019-12-21T14:21:55.622910Z"
    }
   },
   "outputs": [
    {
     "data": {
      "text/plain": [
       "array([[[ 0,  1,  2,  3],\n",
       "        [ 4,  5,  6,  7],\n",
       "        [ 8,  9, 10, 11]],\n",
       "\n",
       "       [[12, 13, 14, 15],\n",
       "        [16, 17, 18, 19],\n",
       "        [20, 21, 22, 23]]])"
      ]
     },
     "execution_count": 11,
     "metadata": {},
     "output_type": "execute_result"
    }
   ],
   "source": [
    "a"
   ]
  },
  {
   "cell_type": "code",
   "execution_count": 12,
   "metadata": {
    "ExecuteTime": {
     "end_time": "2019-12-21T14:21:56.208138Z",
     "start_time": "2019-12-21T14:21:56.063593Z"
    }
   },
   "outputs": [
    {
     "data": {
      "text/plain": [
       "array([[[  3,  13,  23,  33],\n",
       "        [ 43,  53,  63,  73],\n",
       "        [ 83,  93, 103, 113]],\n",
       "\n",
       "       [[123, 133, 143, 153],\n",
       "        [163, 173, 183, 193],\n",
       "        [203, 213, 223, 233]]])"
      ]
     },
     "execution_count": 12,
     "metadata": {},
     "output_type": "execute_result"
    }
   ],
   "source": [
    "c = np.array(np.arange(24)).reshape((2, 3, 4)) * 10 + 3\n",
    "c"
   ]
  },
  {
   "cell_type": "code",
   "execution_count": 13,
   "metadata": {
    "ExecuteTime": {
     "end_time": "2019-12-21T14:21:56.383549Z",
     "start_time": "2019-12-21T14:21:56.208138Z"
    }
   },
   "outputs": [
    {
     "data": {
      "text/plain": [
       "array([[[  0,   1,   2,   3],\n",
       "        [  4,   5,   6,   7],\n",
       "        [  8,   9,  10,  11]],\n",
       "\n",
       "       [[ 12,  13,  14,  15],\n",
       "        [ 16,  17,  18,  19],\n",
       "        [ 20,  21,  22,  23]],\n",
       "\n",
       "       [[  3,  13,  23,  33],\n",
       "        [ 43,  53,  63,  73],\n",
       "        [ 83,  93, 103, 113]],\n",
       "\n",
       "       [[123, 133, 143, 153],\n",
       "        [163, 173, 183, 193],\n",
       "        [203, 213, 223, 233]]])"
      ]
     },
     "execution_count": 13,
     "metadata": {},
     "output_type": "execute_result"
    }
   ],
   "source": [
    "np.append(a, c, axis=0)"
   ]
  },
  {
   "cell_type": "code",
   "execution_count": 14,
   "metadata": {
    "ExecuteTime": {
     "end_time": "2019-12-21T14:21:56.520735Z",
     "start_time": "2019-12-21T14:21:56.386509Z"
    }
   },
   "outputs": [
    {
     "data": {
      "text/plain": [
       "(4, 3, 4)"
      ]
     },
     "execution_count": 14,
     "metadata": {},
     "output_type": "execute_result"
    }
   ],
   "source": [
    "np.append(a, c, axis=0).shape"
   ]
  },
  {
   "cell_type": "code",
   "execution_count": 15,
   "metadata": {
    "ExecuteTime": {
     "end_time": "2019-12-21T14:21:56.659902Z",
     "start_time": "2019-12-21T14:21:56.521727Z"
    }
   },
   "outputs": [
    {
     "data": {
      "text/plain": [
       "array([[[  0,   1,   2,   3],\n",
       "        [  4,   5,   6,   7],\n",
       "        [  8,   9,  10,  11],\n",
       "        [  3,  13,  23,  33],\n",
       "        [ 43,  53,  63,  73],\n",
       "        [ 83,  93, 103, 113]],\n",
       "\n",
       "       [[ 12,  13,  14,  15],\n",
       "        [ 16,  17,  18,  19],\n",
       "        [ 20,  21,  22,  23],\n",
       "        [123, 133, 143, 153],\n",
       "        [163, 173, 183, 193],\n",
       "        [203, 213, 223, 233]]])"
      ]
     },
     "execution_count": 15,
     "metadata": {},
     "output_type": "execute_result"
    }
   ],
   "source": [
    "np.append(a, c, axis=1)"
   ]
  },
  {
   "cell_type": "code",
   "execution_count": 16,
   "metadata": {
    "ExecuteTime": {
     "end_time": "2019-12-21T14:21:56.801482Z",
     "start_time": "2019-12-21T14:21:56.661935Z"
    }
   },
   "outputs": [
    {
     "data": {
      "text/plain": [
       "(2, 6, 4)"
      ]
     },
     "execution_count": 16,
     "metadata": {},
     "output_type": "execute_result"
    }
   ],
   "source": [
    "np.append(a, c, axis=1).shape"
   ]
  },
  {
   "cell_type": "code",
   "execution_count": 17,
   "metadata": {
    "ExecuteTime": {
     "end_time": "2019-12-21T14:21:56.959516Z",
     "start_time": "2019-12-21T14:21:56.803476Z"
    }
   },
   "outputs": [
    {
     "data": {
      "text/plain": [
       "array([[[  0,   1,   2,   3,   3,  13,  23,  33],\n",
       "        [  4,   5,   6,   7,  43,  53,  63,  73],\n",
       "        [  8,   9,  10,  11,  83,  93, 103, 113]],\n",
       "\n",
       "       [[ 12,  13,  14,  15, 123, 133, 143, 153],\n",
       "        [ 16,  17,  18,  19, 163, 173, 183, 193],\n",
       "        [ 20,  21,  22,  23, 203, 213, 223, 233]]])"
      ]
     },
     "execution_count": 17,
     "metadata": {},
     "output_type": "execute_result"
    }
   ],
   "source": [
    "np.append(a, c, axis=2)"
   ]
  },
  {
   "cell_type": "code",
   "execution_count": 18,
   "metadata": {
    "ExecuteTime": {
     "end_time": "2019-12-21T14:21:57.113865Z",
     "start_time": "2019-12-21T14:21:56.959516Z"
    }
   },
   "outputs": [
    {
     "data": {
      "text/plain": [
       "(2, 3, 8)"
      ]
     },
     "execution_count": 18,
     "metadata": {},
     "output_type": "execute_result"
    }
   ],
   "source": [
    "np.append(a, c, axis=2).shape"
   ]
  },
  {
   "cell_type": "code",
   "execution_count": 19,
   "metadata": {
    "ExecuteTime": {
     "end_time": "2019-12-21T14:21:57.259355Z",
     "start_time": "2019-12-21T14:21:57.113865Z"
    }
   },
   "outputs": [
    {
     "data": {
      "text/plain": [
       "array([[[  3,  13,  23,  33],\n",
       "        [ 43,  53,  63,  73],\n",
       "        [ 83,  93, 103, 113]],\n",
       "\n",
       "       [[444, 444, 444, 444],\n",
       "        [444, 444, 444, 444],\n",
       "        [444, 444, 444, 444]],\n",
       "\n",
       "       [[123, 133, 143, 153],\n",
       "        [163, 173, 183, 193],\n",
       "        [203, 213, 223, 233]]])"
      ]
     },
     "execution_count": 19,
     "metadata": {},
     "output_type": "execute_result"
    }
   ],
   "source": [
    "after_insert_array = np.insert(c, 1, 444, axis=0)\n",
    "after_insert_array"
   ]
  },
  {
   "cell_type": "code",
   "execution_count": 20,
   "metadata": {
    "ExecuteTime": {
     "end_time": "2019-12-21T14:21:57.426074Z",
     "start_time": "2019-12-21T14:21:57.260390Z"
    }
   },
   "outputs": [
    {
     "data": {
      "text/plain": [
       "array([[[  3,  13,  23,  33],\n",
       "        [444, 444, 444, 444],\n",
       "        [ 43,  53,  63,  73],\n",
       "        [ 83,  93, 103, 113]],\n",
       "\n",
       "       [[123, 133, 143, 153],\n",
       "        [444, 444, 444, 444],\n",
       "        [163, 173, 183, 193],\n",
       "        [203, 213, 223, 233]]])"
      ]
     },
     "execution_count": 20,
     "metadata": {},
     "output_type": "execute_result"
    }
   ],
   "source": [
    "after_insert_array = np.insert(c, 1, 444, axis=1)\n",
    "after_insert_array"
   ]
  },
  {
   "cell_type": "code",
   "execution_count": 21,
   "metadata": {
    "ExecuteTime": {
     "end_time": "2019-12-21T14:21:57.591403Z",
     "start_time": "2019-12-21T14:21:57.426074Z"
    }
   },
   "outputs": [
    {
     "data": {
      "text/plain": [
       "array([[[  3, 444,  13,  23,  33],\n",
       "        [ 43, 444,  53,  63,  73],\n",
       "        [ 83, 444,  93, 103, 113]],\n",
       "\n",
       "       [[123, 444, 133, 143, 153],\n",
       "        [163, 444, 173, 183, 193],\n",
       "        [203, 444, 213, 223, 233]]])"
      ]
     },
     "execution_count": 21,
     "metadata": {},
     "output_type": "execute_result"
    }
   ],
   "source": [
    "after_insert_array = np.insert(c, 1, 444, axis=2)\n",
    "after_insert_array"
   ]
  },
  {
   "cell_type": "code",
   "execution_count": 22,
   "metadata": {
    "ExecuteTime": {
     "end_time": "2019-12-21T14:21:57.733864Z",
     "start_time": "2019-12-21T14:21:57.598502Z"
    }
   },
   "outputs": [
    {
     "data": {
      "text/plain": [
       "array([[[  3.,  13.,  23.,  33.],\n",
       "        [ 43.,  53.,  63.,  73.],\n",
       "        [ 83.,  93., 103., 113.]],\n",
       "\n",
       "       [[123., 133., 143., 153.],\n",
       "        [163., 173., 183., 193.],\n",
       "        [203., 213., 223., 233.]]])"
      ]
     },
     "execution_count": 22,
     "metadata": {},
     "output_type": "execute_result"
    }
   ],
   "source": [
    "d = np.empty(c.shape)\n",
    "np.copyto(d, c)\n",
    "d"
   ]
  },
  {
   "cell_type": "code",
   "execution_count": 23,
   "metadata": {
    "ExecuteTime": {
     "end_time": "2019-12-21T14:21:57.871367Z",
     "start_time": "2019-12-21T14:21:57.736931Z"
    }
   },
   "outputs": [
    {
     "data": {
      "text/plain": [
       "array([[[  3.,  13.,  23.,  33.],\n",
       "        [ 43.,  53.,  63.,  73.],\n",
       "        [ 83.,  93., 103., 113.]]])"
      ]
     },
     "execution_count": 23,
     "metadata": {},
     "output_type": "execute_result"
    }
   ],
   "source": [
    "np.delete(d, 1, axis=0)"
   ]
  },
  {
   "cell_type": "code",
   "execution_count": 24,
   "metadata": {
    "ExecuteTime": {
     "end_time": "2019-12-21T14:21:58.020586Z",
     "start_time": "2019-12-21T14:21:57.872365Z"
    }
   },
   "outputs": [
    {
     "data": {
      "text/plain": [
       "array([[[  3.,  13.,  23.,  33.],\n",
       "        [ 83.,  93., 103., 113.]],\n",
       "\n",
       "       [[123., 133., 143., 153.],\n",
       "        [203., 213., 223., 233.]]])"
      ]
     },
     "execution_count": 24,
     "metadata": {},
     "output_type": "execute_result"
    }
   ],
   "source": [
    "np.delete(d, 1, axis=1)"
   ]
  },
  {
   "cell_type": "code",
   "execution_count": 25,
   "metadata": {
    "ExecuteTime": {
     "end_time": "2019-12-21T14:21:58.160134Z",
     "start_time": "2019-12-21T14:21:58.021585Z"
    }
   },
   "outputs": [
    {
     "data": {
      "text/plain": [
       "array([[[  3.,  23.,  33.],\n",
       "        [ 43.,  63.,  73.],\n",
       "        [ 83., 103., 113.]],\n",
       "\n",
       "       [[123., 143., 153.],\n",
       "        [163., 183., 193.],\n",
       "        [203., 223., 233.]]])"
      ]
     },
     "execution_count": 25,
     "metadata": {},
     "output_type": "execute_result"
    }
   ],
   "source": [
    "np.delete(d, 1, axis=2)"
   ]
  },
  {
   "cell_type": "code",
   "execution_count": null,
   "metadata": {},
   "outputs": [],
   "source": []
  },
  {
   "cell_type": "code",
   "execution_count": null,
   "metadata": {},
   "outputs": [],
   "source": []
  },
  {
   "cell_type": "markdown",
   "metadata": {},
   "source": [
    "## Accessing/Changing specific elements, rows, columns, etc"
   ]
  },
  {
   "cell_type": "code",
   "execution_count": 26,
   "metadata": {
    "ExecuteTime": {
     "end_time": "2019-12-21T14:21:58.298360Z",
     "start_time": "2019-12-21T14:21:58.161132Z"
    }
   },
   "outputs": [
    {
     "name": "stdout",
     "output_type": "stream",
     "text": [
      "[[ 1  2  3  4  5  6  7]\n",
      " [ 8  9 10 11 12 13 14]]\n",
      "(2, 7)\n"
     ]
    }
   ],
   "source": [
    "a = np.array([[1,2, 3, 4, 5, 6, 7], [8, 9, 10, 11, 12, 13, 14]])\n",
    "print(a)\n",
    "print(a.shape)"
   ]
  },
  {
   "cell_type": "code",
   "execution_count": 27,
   "metadata": {
    "ExecuteTime": {
     "end_time": "2019-12-21T14:21:58.441356Z",
     "start_time": "2019-12-21T14:21:58.299357Z"
    }
   },
   "outputs": [
    {
     "name": "stdout",
     "output_type": "stream",
     "text": [
      "13\n",
      "13\n",
      "13\n"
     ]
    }
   ],
   "source": [
    "# get a specific element [r, c]\n",
    "print(a[1, 5])\n",
    "print(a[1][5])\n",
    "print(a[1][-2])"
   ]
  },
  {
   "cell_type": "code",
   "execution_count": 28,
   "metadata": {
    "ExecuteTime": {
     "end_time": "2019-12-21T14:21:58.598250Z",
     "start_time": "2019-12-21T14:21:58.441356Z"
    }
   },
   "outputs": [
    {
     "data": {
      "text/plain": [
       "array([1, 2, 3, 4, 5, 6, 7])"
      ]
     },
     "execution_count": 28,
     "metadata": {},
     "output_type": "execute_result"
    }
   ],
   "source": [
    "#  get a specific row\n",
    "a[0, :]"
   ]
  },
  {
   "cell_type": "code",
   "execution_count": 29,
   "metadata": {
    "ExecuteTime": {
     "end_time": "2019-12-21T14:21:58.763906Z",
     "start_time": "2019-12-21T14:21:58.599248Z"
    }
   },
   "outputs": [
    {
     "data": {
      "text/plain": [
       "array([ 3, 10])"
      ]
     },
     "execution_count": 29,
     "metadata": {},
     "output_type": "execute_result"
    }
   ],
   "source": [
    "# get a specific col\n",
    "a[:, 2]"
   ]
  },
  {
   "cell_type": "code",
   "execution_count": 30,
   "metadata": {
    "ExecuteTime": {
     "end_time": "2019-12-21T14:21:58.898237Z",
     "start_time": "2019-12-21T14:21:58.766523Z"
    }
   },
   "outputs": [
    {
     "name": "stdout",
     "output_type": "stream",
     "text": [
      "[2 4 6]\n"
     ]
    }
   ],
   "source": [
    "# getting fancy [startindex: endindex: stepsize]\n",
    "print(a[0, 1:6:2])"
   ]
  },
  {
   "cell_type": "code",
   "execution_count": 31,
   "metadata": {
    "ExecuteTime": {
     "end_time": "2019-12-21T14:21:59.046794Z",
     "start_time": "2019-12-21T14:21:58.899779Z"
    }
   },
   "outputs": [
    {
     "name": "stdout",
     "output_type": "stream",
     "text": [
      "[[ 1  2  3  4  5  6  7]\n",
      " [ 8  9 10 11 12 20 14]]\n",
      "-----\n",
      "[[ 1  2  5  4  5  6  7]\n",
      " [ 8  9  5 11 12 20 14]]\n",
      "-----\n",
      "[[ 1  2  1  4  5  6  7]\n",
      " [ 8  9  2 11 12 20 14]]\n"
     ]
    }
   ],
   "source": [
    "# changing element(s)\n",
    "a [1, 5] = 20\n",
    "print(a)\n",
    "print('-----')\n",
    "a[:, 2] = 5\n",
    "print(a)\n",
    "print('-----')\n",
    "a[:, 2] = [1, 2]\n",
    "print(a)"
   ]
  },
  {
   "cell_type": "code",
   "execution_count": 32,
   "metadata": {
    "ExecuteTime": {
     "end_time": "2019-12-21T14:21:59.176991Z",
     "start_time": "2019-12-21T14:21:59.050470Z"
    }
   },
   "outputs": [
    {
     "name": "stdout",
     "output_type": "stream",
     "text": [
      "[[[1 2]\n",
      "  [3 4]]\n",
      "\n",
      " [[5 6]\n",
      "  [7 8]]]\n",
      "------\n",
      "(2, 2, 2)\n"
     ]
    }
   ],
   "source": [
    "# 3-d\n",
    "a = np.array([[[1, 2], [3, 4]], [[5, 6], [7, 8]]])\n",
    "print(a)\n",
    "print('------')\n",
    "print(a.shape)\n",
    "\n",
    "# think of number of rows as original number of rows\n",
    "# inside each box columns become rows and depth becomes columns\n",
    "# think of it as [1, 2] at at position a[0, 0]\n",
    "\n",
    "# NumPy’s order for printing n-dimensional arrays is that the last axis\n",
    "# is looped over the fastest, while the first is the slowest"
   ]
  },
  {
   "cell_type": "code",
   "execution_count": 33,
   "metadata": {
    "ExecuteTime": {
     "end_time": "2019-12-21T14:21:59.317507Z",
     "start_time": "2019-12-21T14:21:59.177989Z"
    }
   },
   "outputs": [
    {
     "name": "stdout",
     "output_type": "stream",
     "text": [
      "[1 2]\n",
      "[3 4]\n",
      "[5 6]\n",
      "[7 8]\n",
      "4\n"
     ]
    }
   ],
   "source": [
    "print(a[0, 0])\n",
    "print(a[0, 1])\n",
    "print(a[1, 0])\n",
    "print(a[1, 1])\n",
    "\n",
    "# get specific element\n",
    "print(a[0,1,1])"
   ]
  },
  {
   "cell_type": "code",
   "execution_count": 34,
   "metadata": {
    "ExecuteTime": {
     "end_time": "2019-12-21T14:21:59.455896Z",
     "start_time": "2019-12-21T14:21:59.320503Z"
    }
   },
   "outputs": [
    {
     "name": "stdout",
     "output_type": "stream",
     "text": [
      "[[[ 1  2]\n",
      "  [10 11]]\n",
      "\n",
      " [[ 5  6]\n",
      "  [12 13]]]\n",
      "-----\n",
      "[[[ 1  2]\n",
      "  [99 98]]\n",
      "\n",
      " [[ 5  6]\n",
      "  [12 13]]]\n"
     ]
    }
   ],
   "source": [
    "# replace\n",
    "\n",
    "a[:, 1, :] = [[10, 11], [12, 13]]\n",
    "print(a)\n",
    "print('-----')\n",
    "\n",
    "a[0, 1, :] = [99, 98]\n",
    "print(a)"
   ]
  },
  {
   "cell_type": "markdown",
   "metadata": {
    "ExecuteTime": {
     "end_time": "2019-12-20T14:39:58.976557Z",
     "start_time": "2019-12-20T14:39:58.971570Z"
    }
   },
   "source": [
    "## Initializing different type of arrays"
   ]
  },
  {
   "cell_type": "code",
   "execution_count": 35,
   "metadata": {
    "ExecuteTime": {
     "end_time": "2019-12-21T14:21:59.619672Z",
     "start_time": "2019-12-21T14:21:59.457416Z"
    }
   },
   "outputs": [
    {
     "data": {
      "text/plain": [
       "array([[0., 0., 0.],\n",
       "       [0., 0., 0.]])"
      ]
     },
     "execution_count": 35,
     "metadata": {},
     "output_type": "execute_result"
    }
   ],
   "source": [
    "# all 0's matrix\n",
    "np.zeros(shape=(2, 3))"
   ]
  },
  {
   "cell_type": "code",
   "execution_count": 36,
   "metadata": {
    "ExecuteTime": {
     "end_time": "2019-12-21T14:21:59.788997Z",
     "start_time": "2019-12-21T14:21:59.622905Z"
    }
   },
   "outputs": [
    {
     "data": {
      "text/plain": [
       "array([[[1, 1],\n",
       "        [1, 1]],\n",
       "\n",
       "       [[1, 1],\n",
       "        [1, 1]],\n",
       "\n",
       "       [[1, 1],\n",
       "        [1, 1]],\n",
       "\n",
       "       [[1, 1],\n",
       "        [1, 1]]])"
      ]
     },
     "execution_count": 36,
     "metadata": {},
     "output_type": "execute_result"
    }
   ],
   "source": [
    "# all 1's matrix\n",
    "np.ones((4, 2, 2), dtype='int32')"
   ]
  },
  {
   "cell_type": "code",
   "execution_count": 37,
   "metadata": {
    "ExecuteTime": {
     "end_time": "2019-12-21T14:21:59.910068Z",
     "start_time": "2019-12-21T14:21:59.788997Z"
    }
   },
   "outputs": [
    {
     "data": {
      "text/plain": [
       "array([[99, 99],\n",
       "       [99, 99]])"
      ]
     },
     "execution_count": 37,
     "metadata": {},
     "output_type": "execute_result"
    }
   ],
   "source": [
    "# any other number\n",
    "np.full((2, 2), 99)"
   ]
  },
  {
   "cell_type": "code",
   "execution_count": 38,
   "metadata": {
    "ExecuteTime": {
     "end_time": "2019-12-21T14:22:00.087137Z",
     "start_time": "2019-12-21T14:21:59.910068Z"
    }
   },
   "outputs": [
    {
     "data": {
      "text/plain": [
       "array([[8, 8, 8, 8, 8, 8, 8],\n",
       "       [8, 8, 8, 8, 8, 8, 8]])"
      ]
     },
     "execution_count": 38,
     "metadata": {},
     "output_type": "execute_result"
    }
   ],
   "source": [
    "# any other number (full_like)\n",
    "a = np.array([[1,2, 3, 4, 5, 6, 7], [8, 9, 10, 11, 12, 13, 14]])\n",
    "np.full_like(a, 8)"
   ]
  },
  {
   "cell_type": "code",
   "execution_count": 39,
   "metadata": {
    "ExecuteTime": {
     "end_time": "2019-12-21T14:22:00.268120Z",
     "start_time": "2019-12-21T14:22:00.088169Z"
    }
   },
   "outputs": [
    {
     "data": {
      "text/plain": [
       "array([[[0.98379126, 0.24059949, 0.26380381],\n",
       "        [0.58835184, 0.60950802, 0.54820071]],\n",
       "\n",
       "       [[0.01383545, 0.54027309, 0.13925974],\n",
       "        [0.92974343, 0.14453926, 0.53942136]],\n",
       "\n",
       "       [[0.39809547, 0.51569664, 0.70100188],\n",
       "        [0.4152039 , 0.30302125, 0.63206222]],\n",
       "\n",
       "       [[0.92728407, 0.25518104, 0.06874998],\n",
       "        [0.20062827, 0.72783968, 0.82587604]]])"
      ]
     },
     "execution_count": 39,
     "metadata": {},
     "output_type": "execute_result"
    }
   ],
   "source": [
    "# random decimal numbers\n",
    "np.random.rand(4, 2, 3)"
   ]
  },
  {
   "cell_type": "code",
   "execution_count": 40,
   "metadata": {
    "ExecuteTime": {
     "end_time": "2019-12-21T14:22:00.394378Z",
     "start_time": "2019-12-21T14:22:00.270114Z"
    }
   },
   "outputs": [
    {
     "data": {
      "text/plain": [
       "array([[0.10332158, 0.43694099, 0.07282959, 0.5979807 , 0.8617721 ,\n",
       "        0.82171855, 0.70161878],\n",
       "       [0.07517443, 0.38979498, 0.04896353, 0.01255029, 0.27938223,\n",
       "        0.2142678 , 0.50954251]])"
      ]
     },
     "execution_count": 40,
     "metadata": {},
     "output_type": "execute_result"
    }
   ],
   "source": [
    "np.random.random_sample(a.shape)"
   ]
  },
  {
   "cell_type": "code",
   "execution_count": 41,
   "metadata": {
    "ExecuteTime": {
     "end_time": "2019-12-21T14:22:00.543853Z",
     "start_time": "2019-12-21T14:22:00.397371Z"
    }
   },
   "outputs": [
    {
     "name": "stdout",
     "output_type": "stream",
     "text": [
      "2\n",
      "[[1 4 6]\n",
      " [5 5 2]\n",
      " [3 5 0]]\n"
     ]
    }
   ],
   "source": [
    "# random integer values\n",
    "print(np.random.randint(7))\n",
    "print(np.random.randint(7, size=(3, 3)))"
   ]
  },
  {
   "cell_type": "code",
   "execution_count": 42,
   "metadata": {
    "ExecuteTime": {
     "end_time": "2019-12-21T14:22:00.684373Z",
     "start_time": "2019-12-21T14:22:00.544897Z"
    }
   },
   "outputs": [
    {
     "data": {
      "text/plain": [
       "array([[1., 0., 0.],\n",
       "       [0., 1., 0.],\n",
       "       [0., 0., 1.]])"
      ]
     },
     "execution_count": 42,
     "metadata": {},
     "output_type": "execute_result"
    }
   ],
   "source": [
    "# identity matrix\n",
    "np.identity(3)"
   ]
  },
  {
   "cell_type": "code",
   "execution_count": 43,
   "metadata": {
    "ExecuteTime": {
     "end_time": "2019-12-21T14:22:00.810954Z",
     "start_time": "2019-12-21T14:22:00.686626Z"
    }
   },
   "outputs": [
    {
     "name": "stdout",
     "output_type": "stream",
     "text": [
      "[[1 2 3]\n",
      " [1 2 3]\n",
      " [1 2 3]]\n",
      "-----\n",
      "[[1 1 1 2 2 2 3 3 3]]\n"
     ]
    }
   ],
   "source": [
    "# repeat an array\n",
    "\n",
    "arr = np.array([[1, 2, 3]])\n",
    "r1 = np.repeat(arr, 3, axis=0)\n",
    "print(r1)\n",
    "print('-----')\n",
    "r2 = np.repeat(arr, 3, axis=1)\n",
    "print(r2)"
   ]
  },
  {
   "cell_type": "code",
   "execution_count": 44,
   "metadata": {
    "ExecuteTime": {
     "end_time": "2019-12-21T14:22:00.949895Z",
     "start_time": "2019-12-21T14:22:00.812965Z"
    }
   },
   "outputs": [
    {
     "name": "stdout",
     "output_type": "stream",
     "text": [
      "[[1. 1. 1. 1. 1.]\n",
      " [1. 1. 1. 1. 1.]\n",
      " [1. 1. 1. 1. 1.]\n",
      " [1. 1. 1. 1. 1.]\n",
      " [1. 1. 1. 1. 1.]]\n",
      "-----\n",
      "[[0. 0. 0.]\n",
      " [0. 9. 0.]\n",
      " [0. 0. 0.]]\n",
      "-----\n",
      "[[1. 1. 1. 1. 1.]\n",
      " [1. 0. 0. 0. 1.]\n",
      " [1. 0. 9. 0. 1.]\n",
      " [1. 0. 0. 0. 1.]\n",
      " [1. 1. 1. 1. 1.]]\n"
     ]
    }
   ],
   "source": [
    "#  creating a customized matrix\n",
    "output = np.ones((5, 5))\n",
    "print(output)\n",
    "print('-----')\n",
    "\n",
    "z = np.zeros((3, 3))\n",
    "z[1, 1] = 9\n",
    "print(z)\n",
    "print('-----')\n",
    "\n",
    "output[1:4, 1: 4] = z\n",
    "print(output)"
   ]
  },
  {
   "cell_type": "code",
   "execution_count": 45,
   "metadata": {
    "ExecuteTime": {
     "end_time": "2019-12-21T14:22:01.091902Z",
     "start_time": "2019-12-21T14:22:00.951889Z"
    }
   },
   "outputs": [
    {
     "name": "stdout",
     "output_type": "stream",
     "text": [
      "[100   2   3]\n",
      "[100   2   3]\n",
      "-----\n",
      "[1 2 3]\n",
      "[100   2   3]\n"
     ]
    }
   ],
   "source": [
    "# careful while copying\n",
    "a = np.array([1, 2, 3])\n",
    "b = a # just points\n",
    "b [0]= 100\n",
    "print(a)\n",
    "print(b)\n",
    "print('-----')\n",
    "\n",
    "a = np.array([1, 2, 3])\n",
    "b = a.copy()\n",
    "b [0]= 100\n",
    "print(a)\n",
    "print(b)\n"
   ]
  },
  {
   "cell_type": "markdown",
   "metadata": {
    "ExecuteTime": {
     "end_time": "2019-12-20T14:54:07.778468Z",
     "start_time": "2019-12-20T14:54:07.773481Z"
    }
   },
   "source": [
    "## Mathematics"
   ]
  },
  {
   "cell_type": "code",
   "execution_count": 46,
   "metadata": {
    "ExecuteTime": {
     "end_time": "2019-12-21T14:22:01.239526Z",
     "start_time": "2019-12-21T14:22:01.092932Z"
    }
   },
   "outputs": [
    {
     "name": "stdout",
     "output_type": "stream",
     "text": [
      "[1 2 3 4]\n"
     ]
    }
   ],
   "source": [
    "a = np.array([1, 2, 3, 4])\n",
    "print(a)"
   ]
  },
  {
   "cell_type": "code",
   "execution_count": 47,
   "metadata": {
    "ExecuteTime": {
     "end_time": "2019-12-21T14:22:01.397249Z",
     "start_time": "2019-12-21T14:22:01.241200Z"
    }
   },
   "outputs": [
    {
     "data": {
      "text/plain": [
       "array([3, 4, 5, 6])"
      ]
     },
     "execution_count": 47,
     "metadata": {},
     "output_type": "execute_result"
    }
   ],
   "source": [
    "a + 2"
   ]
  },
  {
   "cell_type": "code",
   "execution_count": 48,
   "metadata": {
    "ExecuteTime": {
     "end_time": "2019-12-21T14:22:01.549705Z",
     "start_time": "2019-12-21T14:22:01.399245Z"
    }
   },
   "outputs": [
    {
     "data": {
      "text/plain": [
       "array([-1,  0,  1,  2])"
      ]
     },
     "execution_count": 48,
     "metadata": {},
     "output_type": "execute_result"
    }
   ],
   "source": [
    "a - 2"
   ]
  },
  {
   "cell_type": "code",
   "execution_count": 49,
   "metadata": {
    "ExecuteTime": {
     "end_time": "2019-12-21T14:22:01.689012Z",
     "start_time": "2019-12-21T14:22:01.551698Z"
    }
   },
   "outputs": [
    {
     "data": {
      "text/plain": [
       "array([0.5, 1. , 1.5, 2. ])"
      ]
     },
     "execution_count": 49,
     "metadata": {},
     "output_type": "execute_result"
    }
   ],
   "source": [
    "a / 2"
   ]
  },
  {
   "cell_type": "code",
   "execution_count": 50,
   "metadata": {
    "ExecuteTime": {
     "end_time": "2019-12-21T14:22:01.842253Z",
     "start_time": "2019-12-21T14:22:01.691007Z"
    }
   },
   "outputs": [],
   "source": [
    "b = np.array([1, 0, 1, 0])"
   ]
  },
  {
   "cell_type": "code",
   "execution_count": 51,
   "metadata": {
    "ExecuteTime": {
     "end_time": "2019-12-21T14:22:01.996718Z",
     "start_time": "2019-12-21T14:22:01.844246Z"
    }
   },
   "outputs": [
    {
     "data": {
      "text/plain": [
       "array([2, 2, 4, 4])"
      ]
     },
     "execution_count": 51,
     "metadata": {},
     "output_type": "execute_result"
    }
   ],
   "source": [
    "a + b\n"
   ]
  },
  {
   "cell_type": "code",
   "execution_count": 52,
   "metadata": {
    "ExecuteTime": {
     "end_time": "2019-12-21T14:22:02.135631Z",
     "start_time": "2019-12-21T14:22:01.999408Z"
    }
   },
   "outputs": [
    {
     "data": {
      "text/plain": [
       "array([ 0.84147098,  0.90929743,  0.14112001, -0.7568025 ])"
      ]
     },
     "execution_count": 52,
     "metadata": {},
     "output_type": "execute_result"
    }
   ],
   "source": [
    "np.sin(a) "
   ]
  },
  {
   "cell_type": "markdown",
   "metadata": {
    "ExecuteTime": {
     "end_time": "2019-12-20T14:56:32.438765Z",
     "start_time": "2019-12-20T14:56:32.434790Z"
    }
   },
   "source": [
    "### linear algebra\n"
   ]
  },
  {
   "cell_type": "code",
   "execution_count": 53,
   "metadata": {
    "ExecuteTime": {
     "end_time": "2019-12-21T14:22:02.286645Z",
     "start_time": "2019-12-21T14:22:02.136631Z"
    }
   },
   "outputs": [
    {
     "data": {
      "text/plain": [
       "matrix([[3, 1, 4],\n",
       "        [1, 5, 9],\n",
       "        [2, 6, 5]])"
      ]
     },
     "execution_count": 53,
     "metadata": {},
     "output_type": "execute_result"
    }
   ],
   "source": [
    "my_first_matrix = np.matrix([[3, 1, 4], [1, 5, 9], [2, 6, 5]])\n",
    "my_first_matrix"
   ]
  },
  {
   "cell_type": "code",
   "execution_count": 54,
   "metadata": {
    "ExecuteTime": {
     "end_time": "2019-12-21T14:22:02.451435Z",
     "start_time": "2019-12-21T14:22:02.286645Z"
    }
   },
   "outputs": [
    {
     "data": {
      "text/plain": [
       "matrix([[3, 1, 2],\n",
       "        [1, 5, 6],\n",
       "        [4, 9, 5]])"
      ]
     },
     "execution_count": 54,
     "metadata": {},
     "output_type": "execute_result"
    }
   ],
   "source": [
    "my_first_matrix.T"
   ]
  },
  {
   "cell_type": "code",
   "execution_count": 55,
   "metadata": {
    "ExecuteTime": {
     "end_time": "2019-12-21T14:22:02.595351Z",
     "start_time": "2019-12-21T14:22:02.453429Z"
    }
   },
   "outputs": [
    {
     "data": {
      "text/plain": [
       "matrix([[ 0.32222222, -0.21111111,  0.12222222],\n",
       "        [-0.14444444, -0.07777778,  0.25555556],\n",
       "        [ 0.04444444,  0.17777778, -0.15555556]])"
      ]
     },
     "execution_count": 55,
     "metadata": {},
     "output_type": "execute_result"
    }
   ],
   "source": [
    "my_first_matrix.I # inverse of matrix"
   ]
  },
  {
   "cell_type": "code",
   "execution_count": 56,
   "metadata": {
    "ExecuteTime": {
     "end_time": "2019-12-21T14:22:02.730320Z",
     "start_time": "2019-12-21T14:22:02.598507Z"
    }
   },
   "outputs": [
    {
     "name": "stdout",
     "output_type": "stream",
     "text": [
      "[[1. 1. 1.]\n",
      " [1. 1. 1.]]\n",
      "[[2 2]\n",
      " [2 2]\n",
      " [2 2]]\n"
     ]
    }
   ],
   "source": [
    "a = np.ones((2, 3))\n",
    "print(a)\n",
    "\n",
    "b = np.full((3, 2), 2)\n",
    "print(b)"
   ]
  },
  {
   "cell_type": "code",
   "execution_count": 57,
   "metadata": {
    "ExecuteTime": {
     "end_time": "2019-12-21T14:22:02.869525Z",
     "start_time": "2019-12-21T14:22:02.732368Z"
    }
   },
   "outputs": [
    {
     "name": "stdout",
     "output_type": "stream",
     "text": [
      "1.0\n"
     ]
    }
   ],
   "source": [
    "c = np.identity(4) # or np.eye(5)\n",
    "print(np.linalg.det(c))"
   ]
  },
  {
   "cell_type": "code",
   "execution_count": 58,
   "metadata": {
    "ExecuteTime": {
     "end_time": "2019-12-21T14:22:03.025758Z",
     "start_time": "2019-12-21T14:22:02.872780Z"
    }
   },
   "outputs": [],
   "source": [
    "# Solve simultaneous linear equations\n",
    "right_hand_side = np.matrix([[11],\n",
    "                             [22],\n",
    "                             [33]])\n",
    "\n",
    "my_first_inverse = my_first_matrix.I"
   ]
  },
  {
   "cell_type": "code",
   "execution_count": 59,
   "metadata": {
    "ExecuteTime": {
     "end_time": "2019-12-21T14:22:03.177263Z",
     "start_time": "2019-12-21T14:22:03.028338Z"
    }
   },
   "outputs": [],
   "source": [
    "solution = my_first_inverse * right_hand_side"
   ]
  },
  {
   "cell_type": "code",
   "execution_count": 60,
   "metadata": {
    "ExecuteTime": {
     "end_time": "2019-12-21T14:22:03.315427Z",
     "start_time": "2019-12-21T14:22:03.177263Z"
    }
   },
   "outputs": [
    {
     "data": {
      "text/plain": [
       "matrix([[ 2.93333333],\n",
       "        [ 5.13333333],\n",
       "        [-0.73333333]])"
      ]
     },
     "execution_count": 60,
     "metadata": {},
     "output_type": "execute_result"
    }
   ],
   "source": [
    "solution"
   ]
  },
  {
   "cell_type": "code",
   "execution_count": 61,
   "metadata": {
    "ExecuteTime": {
     "end_time": "2019-12-21T14:22:03.465394Z",
     "start_time": "2019-12-21T14:22:03.317459Z"
    }
   },
   "outputs": [
    {
     "data": {
      "text/plain": [
       "matrix([[ 2.93333333],\n",
       "        [ 5.13333333],\n",
       "        [-0.73333333]])"
      ]
     },
     "execution_count": 61,
     "metadata": {},
     "output_type": "execute_result"
    }
   ],
   "source": [
    "# more efficient for large matrices\n",
    "from numpy.linalg import solve\n",
    "solve(my_first_matrix, right_hand_side)"
   ]
  },
  {
   "cell_type": "code",
   "execution_count": 62,
   "metadata": {
    "ExecuteTime": {
     "end_time": "2019-12-21T14:22:03.619632Z",
     "start_time": "2019-12-21T14:22:03.468388Z"
    }
   },
   "outputs": [
    {
     "data": {
      "text/plain": [
       "(array([13.08576474,  2.58000566, -2.66577041]),\n",
       " matrix([[-0.31542644, -0.95117074, -0.32372474],\n",
       "         [-0.72306109,  0.30781323, -0.70222933],\n",
       "         [-0.61456393,  0.02291827,  0.63409484]]))"
      ]
     },
     "execution_count": 62,
     "metadata": {},
     "output_type": "execute_result"
    }
   ],
   "source": [
    "# compute the eigenvalues and eigenvectors\n",
    "from numpy.linalg import eig\n",
    "eig(my_first_matrix)"
   ]
  },
  {
   "cell_type": "code",
   "execution_count": null,
   "metadata": {},
   "outputs": [],
   "source": []
  },
  {
   "cell_type": "markdown",
   "metadata": {
    "ExecuteTime": {
     "end_time": "2019-12-20T14:59:04.931064Z",
     "start_time": "2019-12-20T14:59:04.925082Z"
    }
   },
   "source": [
    "### statistics"
   ]
  },
  {
   "cell_type": "code",
   "execution_count": 63,
   "metadata": {
    "ExecuteTime": {
     "end_time": "2019-12-21T14:22:03.793101Z",
     "start_time": "2019-12-21T14:22:03.620663Z"
    }
   },
   "outputs": [
    {
     "data": {
      "text/plain": [
       "array([[1, 2, 3],\n",
       "       [4, 5, 6]])"
      ]
     },
     "execution_count": 63,
     "metadata": {},
     "output_type": "execute_result"
    }
   ],
   "source": [
    "stats = np.array([[1, 2, 3], [4, 5,6]])\n",
    "stats"
   ]
  },
  {
   "cell_type": "code",
   "execution_count": 64,
   "metadata": {
    "ExecuteTime": {
     "end_time": "2019-12-21T14:22:03.931492Z",
     "start_time": "2019-12-21T14:22:03.794130Z"
    }
   },
   "outputs": [
    {
     "name": "stdout",
     "output_type": "stream",
     "text": [
      "[1 2 3]\n",
      "[1 4]\n",
      "[4 5 6]\n",
      "[3 6]\n"
     ]
    }
   ],
   "source": [
    "print(np.min(stats, axis=0))\n",
    "print(np.min(stats, axis=1))\n",
    "\n",
    "print(np.max(stats, axis=0))\n",
    "print(np.max(stats, axis=1))"
   ]
  },
  {
   "cell_type": "code",
   "execution_count": 65,
   "metadata": {
    "ExecuteTime": {
     "end_time": "2019-12-21T14:22:04.074031Z",
     "start_time": "2019-12-21T14:22:03.934539Z"
    }
   },
   "outputs": [
    {
     "data": {
      "text/plain": [
       "array([5, 7, 9])"
      ]
     },
     "execution_count": 65,
     "metadata": {},
     "output_type": "execute_result"
    }
   ],
   "source": [
    "np.sum(stats, axis=0)"
   ]
  },
  {
   "cell_type": "markdown",
   "metadata": {},
   "source": [
    "## Miscellaneous - loading data"
   ]
  },
  {
   "cell_type": "markdown",
   "metadata": {},
   "source": [
    "### load data from file\n"
   ]
  },
  {
   "cell_type": "code",
   "execution_count": 66,
   "metadata": {
    "ExecuteTime": {
     "end_time": "2019-12-21T14:22:04.214926Z",
     "start_time": "2019-12-21T14:22:04.076049Z"
    }
   },
   "outputs": [
    {
     "name": "stdout",
     "output_type": "stream",
     "text": [
      "[[  1  13  21  11 196  75   4   3  34   6   7   8   0   1   2   3   4   5]\n",
      " [  3  42  12  33 766  75   4  55   6   4   3   4   5   6   7   0  11  12]\n",
      " [  1  22  33  11 999  11   2   1  78   0   1   2   9   8   7   1  76  88]]\n"
     ]
    }
   ],
   "source": [
    "filedata = np.genfromtxt('data.txt', delimiter=',')\n",
    "filedata = filedata.astype('int32')\n",
    "print(filedata)"
   ]
  },
  {
   "cell_type": "markdown",
   "metadata": {
    "ExecuteTime": {
     "end_time": "2019-12-20T16:00:31.937871Z",
     "start_time": "2019-12-20T16:00:31.928976Z"
    }
   },
   "source": [
    "### boolean masking and advanced indexing"
   ]
  },
  {
   "cell_type": "code",
   "execution_count": 67,
   "metadata": {
    "ExecuteTime": {
     "end_time": "2019-12-21T14:22:04.373429Z",
     "start_time": "2019-12-21T14:22:04.226626Z"
    }
   },
   "outputs": [
    {
     "data": {
      "text/plain": [
       "array([[False, False, False, False,  True,  True, False, False, False,\n",
       "        False, False, False, False, False, False, False, False, False],\n",
       "       [False, False, False, False,  True,  True, False,  True, False,\n",
       "        False, False, False, False, False, False, False, False, False],\n",
       "       [False, False, False, False,  True, False, False, False,  True,\n",
       "        False, False, False, False, False, False, False,  True,  True]])"
      ]
     },
     "execution_count": 67,
     "metadata": {},
     "output_type": "execute_result"
    }
   ],
   "source": [
    "filedata > 50"
   ]
  },
  {
   "cell_type": "code",
   "execution_count": 68,
   "metadata": {
    "ExecuteTime": {
     "end_time": "2019-12-21T14:22:04.508930Z",
     "start_time": "2019-12-21T14:22:04.382583Z"
    }
   },
   "outputs": [
    {
     "data": {
      "text/plain": [
       "array([196,  75, 766,  75,  55, 999,  78,  76,  88])"
      ]
     },
     "execution_count": 68,
     "metadata": {},
     "output_type": "execute_result"
    }
   ],
   "source": [
    "filedata[filedata > 50]"
   ]
  },
  {
   "cell_type": "code",
   "execution_count": 69,
   "metadata": {
    "ExecuteTime": {
     "end_time": "2019-12-21T14:22:04.660920Z",
     "start_time": "2019-12-21T14:22:04.510141Z"
    }
   },
   "outputs": [
    {
     "data": {
      "text/plain": [
       "array([2, 3, 9])"
      ]
     },
     "execution_count": 69,
     "metadata": {},
     "output_type": "execute_result"
    }
   ],
   "source": [
    "# we can index using a list\n",
    "a = np.array([1, 2, 3, 4,5, 6, 7,8,9])\n",
    "a[[1, 2, 8]]"
   ]
  },
  {
   "cell_type": "code",
   "execution_count": 70,
   "metadata": {
    "ExecuteTime": {
     "end_time": "2019-12-21T14:22:04.808682Z",
     "start_time": "2019-12-21T14:22:04.662516Z"
    }
   },
   "outputs": [
    {
     "data": {
      "text/plain": [
       "array([False, False, False, False,  True,  True, False,  True,  True,\n",
       "       False, False, False, False, False, False, False,  True,  True])"
      ]
     },
     "execution_count": 70,
     "metadata": {},
     "output_type": "execute_result"
    }
   ],
   "source": [
    "np.any(filedata > 50, axis= 0)"
   ]
  },
  {
   "cell_type": "code",
   "execution_count": 71,
   "metadata": {
    "ExecuteTime": {
     "end_time": "2019-12-21T14:22:04.983245Z",
     "start_time": "2019-12-21T14:22:04.810619Z"
    }
   },
   "outputs": [
    {
     "data": {
      "text/plain": [
       "array([False, False, False, False,  True, False, False, False, False,\n",
       "       False, False, False, False, False, False, False, False, False])"
      ]
     },
     "execution_count": 71,
     "metadata": {},
     "output_type": "execute_result"
    }
   ],
   "source": [
    "np.all(filedata > 50, axis= 0)   "
   ]
  },
  {
   "cell_type": "code",
   "execution_count": 72,
   "metadata": {
    "ExecuteTime": {
     "end_time": "2019-12-21T14:22:05.144934Z",
     "start_time": "2019-12-21T14:22:04.985272Z"
    }
   },
   "outputs": [
    {
     "data": {
      "text/plain": [
       "array([[False, False, False, False, False,  True, False, False, False,\n",
       "        False, False, False, False, False, False, False, False, False],\n",
       "       [False, False, False, False, False,  True, False,  True, False,\n",
       "        False, False, False, False, False, False, False, False, False],\n",
       "       [False, False, False, False, False, False, False, False,  True,\n",
       "        False, False, False, False, False, False, False,  True,  True]])"
      ]
     },
     "execution_count": 72,
     "metadata": {},
     "output_type": "execute_result"
    }
   ],
   "source": [
    "((filedata > 50) & (filedata < 100))"
   ]
  },
  {
   "cell_type": "code",
   "execution_count": 73,
   "metadata": {
    "ExecuteTime": {
     "end_time": "2019-12-21T14:22:05.283268Z",
     "start_time": "2019-12-21T14:22:05.145650Z"
    }
   },
   "outputs": [
    {
     "data": {
      "text/plain": [
       "array([[ True,  True,  True,  True, False, False,  True,  True,  True,\n",
       "         True,  True,  True,  True,  True,  True,  True,  True,  True],\n",
       "       [ True,  True,  True,  True, False, False,  True, False,  True,\n",
       "         True,  True,  True,  True,  True,  True,  True,  True,  True],\n",
       "       [ True,  True,  True,  True, False,  True,  True,  True, False,\n",
       "         True,  True,  True,  True,  True,  True,  True, False, False]])"
      ]
     },
     "execution_count": 73,
     "metadata": {},
     "output_type": "execute_result"
    }
   ],
   "source": [
    "(~(filedata > 50) & (filedata < 100))"
   ]
  },
  {
   "cell_type": "code",
   "execution_count": 74,
   "metadata": {
    "ExecuteTime": {
     "end_time": "2019-12-21T14:22:05.434820Z",
     "start_time": "2019-12-21T14:22:05.286606Z"
    }
   },
   "outputs": [
    {
     "data": {
      "text/plain": [
       "array([75, 75, 55, 78, 76, 88])"
      ]
     },
     "execution_count": 74,
     "metadata": {},
     "output_type": "execute_result"
    }
   ],
   "source": [
    "filedata[((filedata > 50) & (filedata < 100))]"
   ]
  },
  {
   "cell_type": "code",
   "execution_count": 75,
   "metadata": {
    "ExecuteTime": {
     "end_time": "2019-12-21T14:22:05.593560Z",
     "start_time": "2019-12-21T14:22:05.435815Z"
    }
   },
   "outputs": [
    {
     "name": "stdout",
     "output_type": "stream",
     "text": [
      "[False False  True False  True False  True]\n"
     ]
    }
   ],
   "source": [
    "my_vector = np.array([-17, -4, 0, 2, 21, 37, 105])\n",
    "zero_mod_7_mask = 0 == (my_vector % 7)\n",
    "print(zero_mod_7_mask)"
   ]
  },
  {
   "cell_type": "code",
   "execution_count": 76,
   "metadata": {
    "ExecuteTime": {
     "end_time": "2019-12-21T14:22:05.734697Z",
     "start_time": "2019-12-21T14:22:05.594591Z"
    }
   },
   "outputs": [
    {
     "data": {
      "text/plain": [
       "array([  0,  21, 105])"
      ]
     },
     "execution_count": 76,
     "metadata": {},
     "output_type": "execute_result"
    }
   ],
   "source": [
    "my_vector[zero_mod_7_mask]"
   ]
  },
  {
   "cell_type": "code",
   "execution_count": 77,
   "metadata": {
    "ExecuteTime": {
     "end_time": "2019-12-21T14:22:05.881798Z",
     "start_time": "2019-12-21T14:22:05.736208Z"
    }
   },
   "outputs": [
    {
     "name": "stdout",
     "output_type": "stream",
     "text": [
      "[ 21 105]\n"
     ]
    }
   ],
   "source": [
    "mod_test = 0 == (my_vector % 7)\n",
    "posmask = my_vector > 0\n",
    "combined_mask = np.logical_and(mod_test, posmask)\n",
    "# combined_mask\n",
    "print(my_vector[combined_mask])"
   ]
  },
  {
   "cell_type": "code",
   "execution_count": 78,
   "metadata": {
    "ExecuteTime": {
     "end_time": "2019-12-21T14:22:06.019145Z",
     "start_time": "2019-12-21T14:22:05.883799Z"
    }
   },
   "outputs": [],
   "source": [
    "#  example indexing\n",
    "a = np.arange(1, 11).reshape((2, 5))\n",
    "b = np.arange(11, 21).reshape((2, 5))\n",
    "c = np.arange(21, 31).reshape((2, 5))"
   ]
  },
  {
   "cell_type": "code",
   "execution_count": 79,
   "metadata": {
    "ExecuteTime": {
     "end_time": "2019-12-21T14:22:06.171956Z",
     "start_time": "2019-12-21T14:22:06.021104Z"
    }
   },
   "outputs": [
    {
     "name": "stdout",
     "output_type": "stream",
     "text": [
      "[[ 1  2  3  4  5]\n",
      " [ 6  7  8  9 10]\n",
      " [11 12 13 14 15]\n",
      " [16 17 18 19 20]\n",
      " [21 22 23 24 25]\n",
      " [26 27 28 29 30]]\n"
     ]
    }
   ],
   "source": [
    "final = np.vstack([a, b, c])\n",
    "print(final)"
   ]
  },
  {
   "cell_type": "code",
   "execution_count": 80,
   "metadata": {
    "ExecuteTime": {
     "end_time": "2019-12-21T14:22:06.310283Z",
     "start_time": "2019-12-21T14:22:06.171956Z"
    }
   },
   "outputs": [
    {
     "data": {
      "text/plain": [
       "array([[11, 12],\n",
       "       [16, 17]])"
      ]
     },
     "execution_count": 80,
     "metadata": {},
     "output_type": "execute_result"
    }
   ],
   "source": [
    "final[2:4, :2]"
   ]
  },
  {
   "cell_type": "code",
   "execution_count": 81,
   "metadata": {
    "ExecuteTime": {
     "end_time": "2019-12-21T14:22:06.763757Z",
     "start_time": "2019-12-21T14:22:06.311281Z"
    }
   },
   "outputs": [
    {
     "data": {
      "text/plain": [
       "array([ 2,  8, 14, 20])"
      ]
     },
     "execution_count": 81,
     "metadata": {},
     "output_type": "execute_result"
    }
   ],
   "source": [
    "final[[0, 1, 2, 3], [1, 2, 3, 4]]"
   ]
  },
  {
   "cell_type": "code",
   "execution_count": 82,
   "metadata": {
    "ExecuteTime": {
     "end_time": "2019-12-21T14:22:06.922230Z",
     "start_time": "2019-12-21T14:22:06.765783Z"
    }
   },
   "outputs": [
    {
     "data": {
      "text/plain": [
       "array([[ 4,  5],\n",
       "       [24, 25],\n",
       "       [29, 30]])"
      ]
     },
     "execution_count": 82,
     "metadata": {},
     "output_type": "execute_result"
    }
   ],
   "source": [
    "final[[0, 4, 5], 3:]"
   ]
  },
  {
   "cell_type": "markdown",
   "metadata": {
    "ExecuteTime": {
     "end_time": "2019-12-20T15:43:47.098022Z",
     "start_time": "2019-12-20T15:43:47.088394Z"
    }
   },
   "source": [
    "### Return evenly spaced numbers over a specified interval.\n"
   ]
  },
  {
   "cell_type": "code",
   "execution_count": 83,
   "metadata": {
    "ExecuteTime": {
     "end_time": "2019-12-21T14:22:07.130232Z",
     "start_time": "2019-12-21T14:22:06.923267Z"
    }
   },
   "outputs": [
    {
     "data": {
      "text/plain": [
       "array([ 0.        ,  5.55555556, 11.11111111, 16.66666667, 22.22222222,\n",
       "       27.77777778, 33.33333333, 38.88888889, 44.44444444, 50.        ])"
      ]
     },
     "execution_count": 83,
     "metadata": {},
     "output_type": "execute_result"
    }
   ],
   "source": [
    "np.linspace(start = 0, stop=50, num=10)"
   ]
  },
  {
   "cell_type": "code",
   "execution_count": 84,
   "metadata": {
    "ExecuteTime": {
     "end_time": "2019-12-21T14:22:07.269594Z",
     "start_time": "2019-12-21T14:22:07.131229Z"
    }
   },
   "outputs": [
    {
     "data": {
      "text/plain": [
       "array([ 5.        ,  6.11111111,  7.22222222,  8.33333333,  9.44444444,\n",
       "       10.55555556, 11.66666667, 12.77777778, 13.88888889, 15.        ])"
      ]
     },
     "execution_count": 84,
     "metadata": {},
     "output_type": "execute_result"
    }
   ],
   "source": [
    "np.linspace(5, 15, 10)"
   ]
  },
  {
   "cell_type": "code",
   "execution_count": 85,
   "metadata": {
    "ExecuteTime": {
     "end_time": "2019-12-21T14:22:07.449232Z",
     "start_time": "2019-12-21T14:22:07.270628Z"
    }
   },
   "outputs": [],
   "source": [
    "mylinspace = np.linspace(5, 15, 9, retstep=True)"
   ]
  },
  {
   "cell_type": "code",
   "execution_count": 86,
   "metadata": {
    "ExecuteTime": {
     "end_time": "2019-12-21T14:22:07.592172Z",
     "start_time": "2019-12-21T14:22:07.450772Z"
    }
   },
   "outputs": [
    {
     "data": {
      "text/plain": [
       "(array([ 5.  ,  6.25,  7.5 ,  8.75, 10.  , 11.25, 12.5 , 13.75, 15.  ]), 1.25)"
      ]
     },
     "execution_count": 86,
     "metadata": {},
     "output_type": "execute_result"
    }
   ],
   "source": [
    "mylinspace"
   ]
  },
  {
   "cell_type": "markdown",
   "metadata": {
    "ExecuteTime": {
     "end_time": "2019-12-20T19:31:11.092286Z",
     "start_time": "2019-12-20T19:31:11.085332Z"
    }
   },
   "source": [
    " ##  Creating Structured array\n",
    " \n",
    " used for heterogeneous data while maintaining numpy's requirement that every element in an array use the same amount of memory space"
   ]
  },
  {
   "cell_type": "code",
   "execution_count": 87,
   "metadata": {
    "ExecuteTime": {
     "end_time": "2019-12-21T14:22:07.744526Z",
     "start_time": "2019-12-21T14:22:07.593170Z"
    }
   },
   "outputs": [
    {
     "data": {
      "text/plain": [
       "[('name', '<U6'), ('height', 'f8'), ('weight', 'f8'), ('age', 'i8')]"
      ]
     },
     "execution_count": 87,
     "metadata": {},
     "output_type": "execute_result"
    }
   ],
   "source": [
    "person_data_def = [('name', '<U6'), ('height', 'f8'), ('weight', 'f8'), ('age', 'i8')]\n",
    "person_data_def"
   ]
  },
  {
   "cell_type": "code",
   "execution_count": 88,
   "metadata": {
    "ExecuteTime": {
     "end_time": "2019-12-21T14:22:07.893072Z",
     "start_time": "2019-12-21T14:22:07.746609Z"
    }
   },
   "outputs": [],
   "source": [
    "people_array = np.zeros((4), dtype=person_data_def)\n"
   ]
  },
  {
   "cell_type": "code",
   "execution_count": 89,
   "metadata": {
    "ExecuteTime": {
     "end_time": "2019-12-21T14:22:08.030978Z",
     "start_time": "2019-12-21T14:22:07.896829Z"
    }
   },
   "outputs": [
    {
     "data": {
      "text/plain": [
       "array([('', 0., 0., 0), ('', 0., 0., 0), ('', 0., 0., 0), ('', 0., 0., 0)],\n",
       "      dtype=[('name', '<U6'), ('height', '<f8'), ('weight', '<f8'), ('age', '<i8')])"
      ]
     },
     "execution_count": 89,
     "metadata": {},
     "output_type": "execute_result"
    }
   ],
   "source": [
    "people_array"
   ]
  },
  {
   "cell_type": "code",
   "execution_count": 90,
   "metadata": {
    "ExecuteTime": {
     "end_time": "2019-12-21T14:22:08.186794Z",
     "start_time": "2019-12-21T14:22:08.032293Z"
    }
   },
   "outputs": [],
   "source": [
    "# https://docs.scipy.org/doc/numpy/reference/arrays.dtypes.html\n",
    "# https://jakevdp.github.io/PythonDataScienceHandbook/02.09-structured-data-numpy.html\n",
    "\n",
    "# dt = np.dtype('i4')   # 32-bit signed integer\n",
    "# dt = np.dtype('f8')   # 64-bit floating-point number\n",
    "# dt = np.dtype('c16')  # 128-bit complex floating-point number\n",
    "# dt = np.dtype('a25')  # 25-length zero-terminated bytes\n",
    "# dt = np.dtype('U25')  # 25-character string"
   ]
  },
  {
   "cell_type": "code",
   "execution_count": 91,
   "metadata": {
    "ExecuteTime": {
     "end_time": "2019-12-21T14:22:08.336818Z",
     "start_time": "2019-12-21T14:22:08.190790Z"
    }
   },
   "outputs": [
    {
     "data": {
      "text/plain": [
       "array([('', 0., 0., 0), ('', 0., 0., 0), ('', 0., 0., 0), ('', 0., 0., 0)],\n",
       "      dtype=[('name', '<U6'), ('height', '<f8'), ('weight', '<f8'), ('age', '<i8')])"
      ]
     },
     "execution_count": 91,
     "metadata": {},
     "output_type": "execute_result"
    }
   ],
   "source": [
    "people_array"
   ]
  },
  {
   "cell_type": "code",
   "execution_count": 92,
   "metadata": {
    "ExecuteTime": {
     "end_time": "2019-12-21T14:22:08.485385Z",
     "start_time": "2019-12-21T14:22:08.337851Z"
    }
   },
   "outputs": [],
   "source": [
    "people_array[3] = ('delta', 73, 58, 28)"
   ]
  },
  {
   "cell_type": "code",
   "execution_count": 93,
   "metadata": {
    "ExecuteTime": {
     "end_time": "2019-12-21T14:22:08.655867Z",
     "start_time": "2019-12-21T14:22:08.485385Z"
    }
   },
   "outputs": [
    {
     "data": {
      "text/plain": [
       "('delta', 73., 58., 28)"
      ]
     },
     "execution_count": 93,
     "metadata": {},
     "output_type": "execute_result"
    }
   ],
   "source": [
    "people_array[3]"
   ]
  },
  {
   "cell_type": "code",
   "execution_count": 94,
   "metadata": {
    "ExecuteTime": {
     "end_time": "2019-12-21T14:22:08.798104Z",
     "start_time": "2019-12-21T14:22:08.656915Z"
    }
   },
   "outputs": [],
   "source": [
    "people_array[1] = ('alpha', 83, 38, 48)"
   ]
  },
  {
   "cell_type": "code",
   "execution_count": 95,
   "metadata": {
    "ExecuteTime": {
     "end_time": "2019-12-21T14:22:08.963160Z",
     "start_time": "2019-12-21T14:22:08.799054Z"
    }
   },
   "outputs": [
    {
     "data": {
      "text/plain": [
       "('alpha', 83., 38., 48)"
      ]
     },
     "execution_count": 95,
     "metadata": {},
     "output_type": "execute_result"
    }
   ],
   "source": [
    "people_array[1]"
   ]
  },
  {
   "cell_type": "code",
   "execution_count": 96,
   "metadata": {
    "ExecuteTime": {
     "end_time": "2019-12-21T14:22:09.077858Z",
     "start_time": "2019-12-21T14:22:08.965155Z"
    }
   },
   "outputs": [
    {
     "data": {
      "text/plain": [
       "array([('',  0.,  0.,  0), ('alpha', 83., 38., 48), ('',  0.,  0.,  0),\n",
       "       ('delta', 73., 58., 28)],\n",
       "      dtype=[('name', '<U6'), ('height', '<f8'), ('weight', '<f8'), ('age', '<i8')])"
      ]
     },
     "execution_count": 96,
     "metadata": {},
     "output_type": "execute_result"
    }
   ],
   "source": [
    "people_array"
   ]
  },
  {
   "cell_type": "code",
   "execution_count": 97,
   "metadata": {
    "ExecuteTime": {
     "end_time": "2019-12-21T14:22:09.201878Z",
     "start_time": "2019-12-21T14:22:09.081311Z"
    }
   },
   "outputs": [
    {
     "data": {
      "text/plain": [
       "array([ 0, 48,  0, 28], dtype=int64)"
      ]
     },
     "execution_count": 97,
     "metadata": {},
     "output_type": "execute_result"
    }
   ],
   "source": [
    "people_array['age']"
   ]
  },
  {
   "cell_type": "code",
   "execution_count": 98,
   "metadata": {
    "ExecuteTime": {
     "end_time": "2019-12-21T14:22:09.345489Z",
     "start_time": "2019-12-21T14:22:09.202876Z"
    }
   },
   "outputs": [
    {
     "data": {
      "text/plain": [
       "array([[[('', 0., 0., 0), ('', 0., 0., 0)],\n",
       "        [('', 0., 0., 0), ('', 0., 0., 0)],\n",
       "        [('', 0., 0., 0), ('', 0., 0., 0)]],\n",
       "\n",
       "       [[('', 0., 0., 0), ('', 0., 0., 0)],\n",
       "        [('', 0., 0., 0), ('', 0., 0., 0)],\n",
       "        [('', 0., 0., 0), ('', 0., 0., 0)]],\n",
       "\n",
       "       [[('', 0., 0., 0), ('', 0., 0., 0)],\n",
       "        [('', 0., 0., 0), ('', 0., 0., 0)],\n",
       "        [('', 0., 0., 0), ('', 0., 0., 0)]],\n",
       "\n",
       "       [[('', 0., 0., 0), ('', 0., 0., 0)],\n",
       "        [('', 0., 0., 0), ('', 0., 0., 0)],\n",
       "        [('', 0., 0., 0), ('', 0., 0., 0)]]],\n",
       "      dtype=[('name', '<U6'), ('height', '<f8'), ('weight', '<f8'), ('age', '<i8')])"
      ]
     },
     "execution_count": 98,
     "metadata": {},
     "output_type": "execute_result"
    }
   ],
   "source": [
    "people_big_array = np.zeros((4, 3, 2), dtype=person_data_def)\n",
    "people_big_array"
   ]
  },
  {
   "cell_type": "code",
   "execution_count": 99,
   "metadata": {
    "ExecuteTime": {
     "end_time": "2019-12-21T14:22:09.507679Z",
     "start_time": "2019-12-21T14:22:09.347483Z"
    }
   },
   "outputs": [
    {
     "data": {
      "text/plain": [
       "array([[[('',  0.,  0.,  0), ('',  0.,  0.,  0)],\n",
       "        [('',  0.,  0.,  0), ('',  0.,  0.,  0)],\n",
       "        [('',  0.,  0.,  0), ('',  0.,  0.,  0)]],\n",
       "\n",
       "       [[('',  0.,  0.,  0), ('',  0.,  0.,  0)],\n",
       "        [('',  0.,  0.,  0), ('',  0.,  0.,  0)],\n",
       "        [('',  0.,  0.,  0), ('',  0.,  0.,  0)]],\n",
       "\n",
       "       [[('',  0.,  0.,  0), ('',  0.,  0.,  0)],\n",
       "        [('',  0.,  0.,  0), ('',  0.,  0.,  0)],\n",
       "        [('',  0.,  0.,  0), ('',  0.,  0.,  0)]],\n",
       "\n",
       "       [[('',  0.,  0.,  0), ('',  0.,  0.,  0)],\n",
       "        [('',  0.,  0.,  0), ('',  0.,  0.,  0)],\n",
       "        [('',  0.,  0.,  0), ('echo', 10., 20., 30)]]],\n",
       "      dtype=[('name', '<U6'), ('height', '<f8'), ('weight', '<f8'), ('age', '<i8')])"
      ]
     },
     "execution_count": 99,
     "metadata": {},
     "output_type": "execute_result"
    }
   ],
   "source": [
    "people_big_array[3, 2, 1] = ('echo', 10, 20, 30)\n",
    "people_big_array"
   ]
  },
  {
   "cell_type": "code",
   "execution_count": 100,
   "metadata": {
    "ExecuteTime": {
     "end_time": "2019-12-21T14:22:09.650764Z",
     "start_time": "2019-12-21T14:22:09.511670Z"
    }
   },
   "outputs": [],
   "source": [
    "# creating Record arrays"
   ]
  },
  {
   "cell_type": "code",
   "execution_count": 101,
   "metadata": {
    "ExecuteTime": {
     "end_time": "2019-12-21T14:22:09.801419Z",
     "start_time": "2019-12-21T14:22:09.650764Z"
    }
   },
   "outputs": [
    {
     "data": {
      "text/plain": [
       "rec.array([('Delta', 73., 205., 34), ('alpha', 83.,  38., 48)],\n",
       "          dtype=[('name', '<U6'), ('height', '<f8'), ('weight', '<f8'), ('age', '<i8')])"
      ]
     },
     "execution_count": 101,
     "metadata": {},
     "output_type": "execute_result"
    }
   ],
   "source": [
    "person_record_array = np.rec.array([('Delta', 73, 205, 34), ('alpha', 83, 38, 48)], dtype=person_data_def)\n",
    "person_record_array"
   ]
  },
  {
   "cell_type": "code",
   "execution_count": 102,
   "metadata": {
    "ExecuteTime": {
     "end_time": "2019-12-21T14:22:09.956984Z",
     "start_time": "2019-12-21T14:22:09.803453Z"
    }
   },
   "outputs": [
    {
     "data": {
      "text/plain": [
       "34"
      ]
     },
     "execution_count": 102,
     "metadata": {},
     "output_type": "execute_result"
    }
   ],
   "source": [
    "person_record_array[0].age \n",
    "# using attributes instead of index"
   ]
  },
  {
   "cell_type": "markdown",
   "metadata": {},
   "source": [
    "## Rearranging array elements"
   ]
  },
  {
   "cell_type": "code",
   "execution_count": 103,
   "metadata": {
    "ExecuteTime": {
     "end_time": "2019-12-21T14:22:10.112239Z",
     "start_time": "2019-12-21T14:22:09.956984Z"
    }
   },
   "outputs": [],
   "source": [
    "import numpy as np"
   ]
  },
  {
   "cell_type": "code",
   "execution_count": 104,
   "metadata": {
    "ExecuteTime": {
     "end_time": "2019-12-21T14:22:10.263814Z",
     "start_time": "2019-12-21T14:22:10.116232Z"
    }
   },
   "outputs": [
    {
     "name": "stdout",
     "output_type": "stream",
     "text": [
      "[[1 2 3 4]\n",
      " [5 6 7 8]]\n",
      "[[1]\n",
      " [2]\n",
      " [3]\n",
      " [4]\n",
      " [5]\n",
      " [6]\n",
      " [7]\n",
      " [8]]\n"
     ]
    }
   ],
   "source": [
    "before = np.array([[1, 2, 3 , 4], [5, 6, 7, 8]])\n",
    "print(before)\n",
    "\n",
    "print(before.reshape(8,1))"
   ]
  },
  {
   "cell_type": "code",
   "execution_count": 105,
   "metadata": {
    "ExecuteTime": {
     "end_time": "2019-12-21T14:22:10.405741Z",
     "start_time": "2019-12-21T14:22:10.263814Z"
    }
   },
   "outputs": [
    {
     "data": {
      "text/plain": [
       "array([[ 1,  2,  3,  4],\n",
       "       [11, 22, 33, 44],\n",
       "       [11, 22, 33, 44]])"
      ]
     },
     "execution_count": 105,
     "metadata": {},
     "output_type": "execute_result"
    }
   ],
   "source": [
    "# vertically stacking arrays\n",
    "v1 = np.array([1, 2, 3, 4])\n",
    "v2 = np.array([11, 22, 33, 44])\n",
    "\n",
    "np.vstack((v1, v2, v2))"
   ]
  },
  {
   "cell_type": "code",
   "execution_count": 106,
   "metadata": {
    "ExecuteTime": {
     "end_time": "2019-12-21T14:22:10.585961Z",
     "start_time": "2019-12-21T14:22:10.408734Z"
    }
   },
   "outputs": [
    {
     "data": {
      "text/plain": [
       "array([[1., 1., 1., 1., 0., 0.],\n",
       "       [1., 1., 1., 1., 0., 0.]])"
      ]
     },
     "execution_count": 106,
     "metadata": {},
     "output_type": "execute_result"
    }
   ],
   "source": [
    "# horizontal stacking \n",
    "h1 = np.ones((2, 4))\n",
    "h2 = np.zeros((2, 2))\n",
    "np.hstack([h1, h2])"
   ]
  },
  {
   "cell_type": "code",
   "execution_count": 107,
   "metadata": {
    "ExecuteTime": {
     "end_time": "2019-12-21T14:22:10.738408Z",
     "start_time": "2019-12-21T14:22:10.586959Z"
    }
   },
   "outputs": [],
   "source": [
    "my_start_array = np.array(np.arange(24))\n",
    "my_3_8_array = my_start_array.reshape((3, 8))\n",
    "my_2_3_4_array = my_start_array.reshape((2, 3, 4))"
   ]
  },
  {
   "cell_type": "code",
   "execution_count": 108,
   "metadata": {
    "ExecuteTime": {
     "end_time": "2019-12-21T14:22:10.878432Z",
     "start_time": "2019-12-21T14:22:10.741983Z"
    }
   },
   "outputs": [],
   "source": [
    "# fliplr - flip left right"
   ]
  },
  {
   "cell_type": "code",
   "execution_count": 109,
   "metadata": {
    "ExecuteTime": {
     "end_time": "2019-12-21T14:22:11.029643Z",
     "start_time": "2019-12-21T14:22:10.880463Z"
    }
   },
   "outputs": [
    {
     "data": {
      "text/plain": [
       "array([[ 0,  1,  2,  3,  4,  5,  6,  7],\n",
       "       [ 8,  9, 10, 11, 12, 13, 14, 15],\n",
       "       [16, 17, 18, 19, 20, 21, 22, 23]])"
      ]
     },
     "execution_count": 109,
     "metadata": {},
     "output_type": "execute_result"
    }
   ],
   "source": [
    "my_3_8_array"
   ]
  },
  {
   "cell_type": "code",
   "execution_count": 110,
   "metadata": {
    "ExecuteTime": {
     "end_time": "2019-12-21T14:22:11.202761Z",
     "start_time": "2019-12-21T14:22:11.032486Z"
    }
   },
   "outputs": [
    {
     "data": {
      "text/plain": [
       "array([[ 7,  6,  5,  4,  3,  2,  1,  0],\n",
       "       [15, 14, 13, 12, 11, 10,  9,  8],\n",
       "       [23, 22, 21, 20, 19, 18, 17, 16]])"
      ]
     },
     "execution_count": 110,
     "metadata": {},
     "output_type": "execute_result"
    }
   ],
   "source": [
    "np.fliplr(my_3_8_array)"
   ]
  },
  {
   "cell_type": "code",
   "execution_count": 111,
   "metadata": {
    "ExecuteTime": {
     "end_time": "2019-12-21T14:22:11.374182Z",
     "start_time": "2019-12-21T14:22:11.205753Z"
    }
   },
   "outputs": [
    {
     "data": {
      "text/plain": [
       "array([[[ 0,  1,  2,  3],\n",
       "        [ 4,  5,  6,  7],\n",
       "        [ 8,  9, 10, 11]],\n",
       "\n",
       "       [[12, 13, 14, 15],\n",
       "        [16, 17, 18, 19],\n",
       "        [20, 21, 22, 23]]])"
      ]
     },
     "execution_count": 111,
     "metadata": {},
     "output_type": "execute_result"
    }
   ],
   "source": [
    "my_2_3_4_array"
   ]
  },
  {
   "cell_type": "code",
   "execution_count": 112,
   "metadata": {
    "ExecuteTime": {
     "end_time": "2019-12-21T14:22:11.522865Z",
     "start_time": "2019-12-21T14:22:11.375639Z"
    }
   },
   "outputs": [
    {
     "data": {
      "text/plain": [
       "array([[[ 8,  9, 10, 11],\n",
       "        [ 4,  5,  6,  7],\n",
       "        [ 0,  1,  2,  3]],\n",
       "\n",
       "       [[20, 21, 22, 23],\n",
       "        [16, 17, 18, 19],\n",
       "        [12, 13, 14, 15]]])"
      ]
     },
     "execution_count": 112,
     "metadata": {},
     "output_type": "execute_result"
    }
   ],
   "source": [
    "np.fliplr(my_2_3_4_array) # flipping takes place over the last index"
   ]
  },
  {
   "cell_type": "code",
   "execution_count": 113,
   "metadata": {
    "ExecuteTime": {
     "end_time": "2019-12-21T14:22:11.666585Z",
     "start_time": "2019-12-21T14:22:11.523898Z"
    }
   },
   "outputs": [
    {
     "data": {
      "text/plain": [
       "array([[16, 17, 18, 19, 20, 21, 22, 23],\n",
       "       [ 8,  9, 10, 11, 12, 13, 14, 15],\n",
       "       [ 0,  1,  2,  3,  4,  5,  6,  7]])"
      ]
     },
     "execution_count": 113,
     "metadata": {},
     "output_type": "execute_result"
    }
   ],
   "source": [
    "# flip upside down\n",
    "np.flipud(my_3_8_array)"
   ]
  },
  {
   "cell_type": "code",
   "execution_count": 114,
   "metadata": {
    "ExecuteTime": {
     "end_time": "2019-12-21T14:22:11.823467Z",
     "start_time": "2019-12-21T14:22:11.669653Z"
    }
   },
   "outputs": [
    {
     "data": {
      "text/plain": [
       "array([[[12, 13, 14, 15],\n",
       "        [16, 17, 18, 19],\n",
       "        [20, 21, 22, 23]],\n",
       "\n",
       "       [[ 0,  1,  2,  3],\n",
       "        [ 4,  5,  6,  7],\n",
       "        [ 8,  9, 10, 11]]])"
      ]
     },
     "execution_count": 114,
     "metadata": {},
     "output_type": "execute_result"
    }
   ],
   "source": [
    "np.flipud(my_2_3_4_array)"
   ]
  },
  {
   "cell_type": "code",
   "execution_count": 115,
   "metadata": {
    "ExecuteTime": {
     "end_time": "2019-12-21T14:22:11.963945Z",
     "start_time": "2019-12-21T14:22:11.826992Z"
    }
   },
   "outputs": [
    {
     "data": {
      "text/plain": [
       "array([ 0,  1,  2,  3,  4,  5,  6,  7,  8,  9, 10, 11, 12, 13, 14, 15, 16,\n",
       "       17, 18, 19, 20, 21, 22, 23])"
      ]
     },
     "execution_count": 115,
     "metadata": {},
     "output_type": "execute_result"
    }
   ],
   "source": [
    "  my_start_array"
   ]
  },
  {
   "cell_type": "code",
   "execution_count": 116,
   "metadata": {
    "ExecuteTime": {
     "end_time": "2019-12-21T14:22:12.124505Z",
     "start_time": "2019-12-21T14:22:11.966604Z"
    }
   },
   "outputs": [
    {
     "data": {
      "text/plain": [
       "array([19, 20, 21, 22, 23,  0,  1,  2,  3,  4,  5,  6,  7,  8,  9, 10, 11,\n",
       "       12, 13, 14, 15, 16, 17, 18])"
      ]
     },
     "execution_count": 116,
     "metadata": {},
     "output_type": "execute_result"
    }
   ],
   "source": [
    "# roll\n",
    "np.roll(my_start_array, 5)"
   ]
  },
  {
   "cell_type": "code",
   "execution_count": 117,
   "metadata": {
    "ExecuteTime": {
     "end_time": "2019-12-21T14:22:12.333774Z",
     "start_time": "2019-12-21T14:22:12.126499Z"
    }
   },
   "outputs": [
    {
     "data": {
      "text/plain": [
       "array([ 5,  6,  7,  8,  9, 10, 11, 12, 13, 14, 15, 16, 17, 18, 19, 20, 21,\n",
       "       22, 23,  0,  1,  2,  3,  4])"
      ]
     },
     "execution_count": 117,
     "metadata": {},
     "output_type": "execute_result"
    }
   ],
   "source": [
    "np.roll(my_start_array, -5)"
   ]
  },
  {
   "cell_type": "code",
   "execution_count": 118,
   "metadata": {
    "ExecuteTime": {
     "end_time": "2019-12-21T14:22:12.449243Z",
     "start_time": "2019-12-21T14:22:12.334863Z"
    }
   },
   "outputs": [
    {
     "data": {
      "text/plain": [
       "array([[[22, 23,  0,  1],\n",
       "        [ 2,  3,  4,  5],\n",
       "        [ 6,  7,  8,  9]],\n",
       "\n",
       "       [[10, 11, 12, 13],\n",
       "        [14, 15, 16, 17],\n",
       "        [18, 19, 20, 21]]])"
      ]
     },
     "execution_count": 118,
     "metadata": {},
     "output_type": "execute_result"
    }
   ],
   "source": [
    "np.roll(my_2_3_4_array, 2)"
   ]
  },
  {
   "cell_type": "code",
   "execution_count": 119,
   "metadata": {
    "ExecuteTime": {
     "end_time": "2019-12-21T14:22:12.596957Z",
     "start_time": "2019-12-21T14:22:12.450239Z"
    }
   },
   "outputs": [
    {
     "data": {
      "text/plain": [
       "array([[ 0,  1,  2,  3,  4,  5,  6,  7],\n",
       "       [ 8,  9, 10, 11, 12, 13, 14, 15],\n",
       "       [16, 17, 18, 19, 20, 21, 22, 23]])"
      ]
     },
     "execution_count": 119,
     "metadata": {},
     "output_type": "execute_result"
    }
   ],
   "source": [
    "my_3_8_array"
   ]
  },
  {
   "cell_type": "code",
   "execution_count": 120,
   "metadata": {
    "ExecuteTime": {
     "end_time": "2019-12-21T14:22:12.739419Z",
     "start_time": "2019-12-21T14:22:12.597954Z"
    }
   },
   "outputs": [
    {
     "data": {
      "text/plain": [
       "array([[ 7, 15, 23],\n",
       "       [ 6, 14, 22],\n",
       "       [ 5, 13, 21],\n",
       "       [ 4, 12, 20],\n",
       "       [ 3, 11, 19],\n",
       "       [ 2, 10, 18],\n",
       "       [ 1,  9, 17],\n",
       "       [ 0,  8, 16]])"
      ]
     },
     "execution_count": 120,
     "metadata": {},
     "output_type": "execute_result"
    }
   ],
   "source": [
    "# rotate 90 degree\n",
    "\n",
    "np.rot90(my_3_8_array) # rotate in +ve direction (counter-clockwise)"
   ]
  },
  {
   "cell_type": "code",
   "execution_count": 121,
   "metadata": {
    "ExecuteTime": {
     "end_time": "2019-12-21T14:22:12.876522Z",
     "start_time": "2019-12-21T14:22:12.743013Z"
    }
   },
   "outputs": [
    {
     "data": {
      "text/plain": [
       "array([[16,  8,  0],\n",
       "       [17,  9,  1],\n",
       "       [18, 10,  2],\n",
       "       [19, 11,  3],\n",
       "       [20, 12,  4],\n",
       "       [21, 13,  5],\n",
       "       [22, 14,  6],\n",
       "       [23, 15,  7]])"
      ]
     },
     "execution_count": 121,
     "metadata": {},
     "output_type": "execute_result"
    }
   ],
   "source": [
    "np.rot90(my_3_8_array, k=-1) # rotate in -ve direction (clockwise)"
   ]
  },
  {
   "cell_type": "markdown",
   "metadata": {},
   "source": [
    "## Transpose-like operations"
   ]
  },
  {
   "cell_type": "code",
   "execution_count": 122,
   "metadata": {
    "ExecuteTime": {
     "end_time": "2019-12-21T14:22:13.024577Z",
     "start_time": "2019-12-21T14:22:12.879532Z"
    }
   },
   "outputs": [],
   "source": [
    "my_start_array = np.array(np.arange(24))\n",
    "my_3_8_array = my_start_array.reshape((3, 8))\n",
    "my_2_3_4_array = my_start_array.reshape((2, 3, 4))"
   ]
  },
  {
   "cell_type": "code",
   "execution_count": 123,
   "metadata": {
    "ExecuteTime": {
     "end_time": "2019-12-21T14:22:13.152728Z",
     "start_time": "2019-12-21T14:22:13.026606Z"
    }
   },
   "outputs": [
    {
     "name": "stdout",
     "output_type": "stream",
     "text": [
      "[ 0  1  2  3  4  5  6  7  8  9 10 11 12 13 14 15 16 17 18 19 20 21 22 23]\n",
      "-----\n",
      "[ 0  1  2  3  4  5  6  7  8  9 10 11 12 13 14 15 16 17 18 19 20 21 22 23]\n"
     ]
    }
   ],
   "source": [
    "print(my_start_array)\n",
    "print('-----')\n",
    "print(my_start_array.T)\n",
    "# or\n",
    "# print(np.transpose(my_start_array))"
   ]
  },
  {
   "cell_type": "code",
   "execution_count": 124,
   "metadata": {
    "ExecuteTime": {
     "end_time": "2019-12-21T14:22:13.331298Z",
     "start_time": "2019-12-21T14:22:13.154781Z"
    }
   },
   "outputs": [
    {
     "name": "stdout",
     "output_type": "stream",
     "text": [
      "[[ 0  1  2  3  4  5  6  7]\n",
      " [ 8  9 10 11 12 13 14 15]\n",
      " [16 17 18 19 20 21 22 23]]\n",
      "-----\n",
      "[[ 0  8 16]\n",
      " [ 1  9 17]\n",
      " [ 2 10 18]\n",
      " [ 3 11 19]\n",
      " [ 4 12 20]\n",
      " [ 5 13 21]\n",
      " [ 6 14 22]\n",
      " [ 7 15 23]]\n"
     ]
    }
   ],
   "source": [
    "print(my_3_8_array)\n",
    "print('-----')\n",
    "print(my_3_8_array.T)"
   ]
  },
  {
   "cell_type": "code",
   "execution_count": 125,
   "metadata": {
    "ExecuteTime": {
     "end_time": "2019-12-21T14:22:13.470211Z",
     "start_time": "2019-12-21T14:22:13.333293Z"
    }
   },
   "outputs": [
    {
     "name": "stdout",
     "output_type": "stream",
     "text": [
      "[[[ 0  1  2  3]\n",
      "  [ 4  5  6  7]\n",
      "  [ 8  9 10 11]]\n",
      "\n",
      " [[12 13 14 15]\n",
      "  [16 17 18 19]\n",
      "  [20 21 22 23]]]\n",
      "-----\n",
      "[[[ 0  4  8]\n",
      "  [ 1  5  9]\n",
      "  [ 2  6 10]\n",
      "  [ 3  7 11]]\n",
      "\n",
      " [[12 16 20]\n",
      "  [13 17 21]\n",
      "  [14 18 22]\n",
      "  [15 19 23]]]\n"
     ]
    }
   ],
   "source": [
    "print(my_2_3_4_array)\n",
    "print('-----')\n",
    "print(np.transpose(my_2_3_4_array, axes=(0,2,1)))\n",
    "# transpose over axes index by 2 and axes index by  1\n",
    "# axes = By default, reverse the dimensions, \n",
    "# otherwise permute the axes according to the values given."
   ]
  },
  {
   "cell_type": "code",
   "execution_count": 126,
   "metadata": {
    "ExecuteTime": {
     "end_time": "2019-12-21T14:22:13.623525Z",
     "start_time": "2019-12-21T14:22:13.471659Z"
    }
   },
   "outputs": [
    {
     "name": "stdout",
     "output_type": "stream",
     "text": [
      "[[[ 0  1  2  3]\n",
      "  [ 4  5  6  7]\n",
      "  [ 8  9 10 11]]\n",
      "\n",
      " [[12 13 14 15]\n",
      "  [16 17 18 19]\n",
      "  [20 21 22 23]]]\n",
      "-----\n",
      "[[[ 0  1  2  3]\n",
      "  [12 13 14 15]]\n",
      "\n",
      " [[ 4  5  6  7]\n",
      "  [16 17 18 19]]\n",
      "\n",
      " [[ 8  9 10 11]\n",
      "  [20 21 22 23]]]\n"
     ]
    }
   ],
   "source": [
    "# swapaxes(a, axis1, axis2) - interchange two axes of an array\n",
    "print(my_2_3_4_array)\n",
    "print('-----')\n",
    "print(np.swapaxes(my_2_3_4_array, 1, 0) )"
   ]
  },
  {
   "cell_type": "code",
   "execution_count": 127,
   "metadata": {
    "ExecuteTime": {
     "end_time": "2019-12-21T14:22:13.784408Z",
     "start_time": "2019-12-21T14:22:13.624956Z"
    }
   },
   "outputs": [
    {
     "name": "stdout",
     "output_type": "stream",
     "text": [
      "(2, 3, 4)\n",
      "-----\n",
      "(2, 4, 3)\n"
     ]
    }
   ],
   "source": [
    "# np.rollaxis - roll the specified axis backwards, until it lies in a given position\n",
    "print(my_2_3_4_array.shape)\n",
    "print('-----')\n",
    "print(np.rollaxis(my_2_3_4_array, axis=1, start=3).shape)\n",
    "# axis 3 is not present but theoretically will be after axis 2 so axis\n",
    "# 1 is rolled till it is behind axis 3\n"
   ]
  },
  {
   "cell_type": "code",
   "execution_count": 128,
   "metadata": {
    "ExecuteTime": {
     "end_time": "2019-12-21T14:22:13.949498Z",
     "start_time": "2019-12-21T14:22:13.786920Z"
    }
   },
   "outputs": [
    {
     "name": "stdout",
     "output_type": "stream",
     "text": [
      "(2, 3, 4)\n",
      "-----\n",
      "(3, 2, 4)\n",
      "(2, 4, 3)\n"
     ]
    }
   ],
   "source": [
    "print(my_2_3_4_array.shape)\n",
    "print('-----')\n",
    "print(np.rollaxis(my_2_3_4_array, axis=1).shape)\n",
    "print(np.rollaxis(my_2_3_4_array, axis=2, start=1).shape)\n"
   ]
  },
  {
   "cell_type": "markdown",
   "metadata": {},
   "source": [
    "* use np.transpose to permute all the axes at once\n",
    "* use np.swapaxes to swap any two axes\n",
    "* use np.rollaxis to \"rotate\" the axes"
   ]
  },
  {
   "cell_type": "code",
   "execution_count": 129,
   "metadata": {
    "ExecuteTime": {
     "end_time": "2019-12-21T14:22:14.075963Z",
     "start_time": "2019-12-21T14:22:13.951280Z"
    }
   },
   "outputs": [
    {
     "name": "stdout",
     "output_type": "stream",
     "text": [
      "(2, 3, 4)\n",
      "-----\n",
      "(3, 4, 2)\n",
      "(4, 2, 3)\n"
     ]
    }
   ],
   "source": [
    "# np.moveaxis(a, source, destination)\n",
    "# Move axes of an array to new positions.\n",
    "# Other axes remain in their original order.\n",
    "\n",
    "print(my_2_3_4_array.shape)\n",
    "print('-----')\n",
    "print(np.moveaxis(my_2_3_4_array, 0, -1).shape)\n",
    "print(np.moveaxis(my_2_3_4_array, -1, 0).shape)"
   ]
  },
  {
   "cell_type": "markdown",
   "metadata": {},
   "source": [
    "## Universal Functions\n",
    "\n",
    "* [Info](https://docs.scipy.org/doc/numpy/reference/ufuncs.html)"
   ]
  },
  {
   "cell_type": "code",
   "execution_count": 130,
   "metadata": {
    "ExecuteTime": {
     "end_time": "2019-12-21T14:22:14.214216Z",
     "start_time": "2019-12-21T14:22:14.078983Z"
    }
   },
   "outputs": [],
   "source": [
    "# truncated binomial: returns (x+1) ** 3 - (x) ** 3\n",
    "def truncated_binomial(x):\n",
    "    return (x+1) ** 3 - (x) ** 3"
   ]
  },
  {
   "cell_type": "code",
   "execution_count": 131,
   "metadata": {
    "ExecuteTime": {
     "end_time": "2019-12-21T14:22:14.353970Z",
     "start_time": "2019-12-21T14:22:14.216709Z"
    }
   },
   "outputs": [],
   "source": [
    "np.testing.assert_equal(truncated_binomial(4), 61)"
   ]
  },
  {
   "cell_type": "code",
   "execution_count": 132,
   "metadata": {
    "ExecuteTime": {
     "end_time": "2019-12-21T14:22:14.574391Z",
     "start_time": "2019-12-21T14:22:14.356517Z"
    }
   },
   "outputs": [
    {
     "ename": "AssertionError",
     "evalue": "\nItems are not equal:\n ACTUAL: 61\n DESIRED: 65",
     "output_type": "error",
     "traceback": [
      "\u001b[1;31m---------------------------------------------------------------------------\u001b[0m",
      "\u001b[1;31mAssertionError\u001b[0m                            Traceback (most recent call last)",
      "\u001b[1;32m<ipython-input-132-c7c9431d1595>\u001b[0m in \u001b[0;36m<module>\u001b[1;34m\u001b[0m\n\u001b[1;32m----> 1\u001b[1;33m \u001b[0mnp\u001b[0m\u001b[1;33m.\u001b[0m\u001b[0mtesting\u001b[0m\u001b[1;33m.\u001b[0m\u001b[0massert_equal\u001b[0m\u001b[1;33m(\u001b[0m\u001b[0mtruncated_binomial\u001b[0m\u001b[1;33m(\u001b[0m\u001b[1;36m4\u001b[0m\u001b[1;33m)\u001b[0m\u001b[1;33m,\u001b[0m \u001b[1;36m65\u001b[0m\u001b[1;33m)\u001b[0m\u001b[1;33m\u001b[0m\u001b[1;33m\u001b[0m\u001b[0m\n\u001b[0m",
      "\u001b[1;32m~\\Anaconda3\\lib\\site-packages\\numpy\\testing\\_private\\utils.py\u001b[0m in \u001b[0;36massert_equal\u001b[1;34m(actual, desired, err_msg, verbose)\u001b[0m\n\u001b[0;32m    415\u001b[0m         \u001b[1;31m# Explicitly use __eq__ for comparison, gh-2552\u001b[0m\u001b[1;33m\u001b[0m\u001b[1;33m\u001b[0m\u001b[1;33m\u001b[0m\u001b[0m\n\u001b[0;32m    416\u001b[0m         \u001b[1;32mif\u001b[0m \u001b[1;32mnot\u001b[0m \u001b[1;33m(\u001b[0m\u001b[0mdesired\u001b[0m \u001b[1;33m==\u001b[0m \u001b[0mactual\u001b[0m\u001b[1;33m)\u001b[0m\u001b[1;33m:\u001b[0m\u001b[1;33m\u001b[0m\u001b[1;33m\u001b[0m\u001b[0m\n\u001b[1;32m--> 417\u001b[1;33m             \u001b[1;32mraise\u001b[0m \u001b[0mAssertionError\u001b[0m\u001b[1;33m(\u001b[0m\u001b[0mmsg\u001b[0m\u001b[1;33m)\u001b[0m\u001b[1;33m\u001b[0m\u001b[1;33m\u001b[0m\u001b[0m\n\u001b[0m\u001b[0;32m    418\u001b[0m \u001b[1;33m\u001b[0m\u001b[0m\n\u001b[0;32m    419\u001b[0m     \u001b[1;32mexcept\u001b[0m \u001b[1;33m(\u001b[0m\u001b[0mDeprecationWarning\u001b[0m\u001b[1;33m,\u001b[0m \u001b[0mFutureWarning\u001b[0m\u001b[1;33m)\u001b[0m \u001b[1;32mas\u001b[0m \u001b[0me\u001b[0m\u001b[1;33m:\u001b[0m\u001b[1;33m\u001b[0m\u001b[1;33m\u001b[0m\u001b[0m\n",
      "\u001b[1;31mAssertionError\u001b[0m: \nItems are not equal:\n ACTUAL: 61\n DESIRED: 65"
     ]
    }
   ],
   "source": [
    "np.testing.assert_equal(truncated_binomial(4), 65)"
   ]
  },
  {
   "cell_type": "code",
   "execution_count": 133,
   "metadata": {
    "ExecuteTime": {
     "end_time": "2019-12-21T14:22:22.971244Z",
     "start_time": "2019-12-21T14:22:22.963411Z"
    }
   },
   "outputs": [
    {
     "data": {
      "text/plain": [
       "<ufunc '? (vectorized)'>"
      ]
     },
     "execution_count": 133,
     "metadata": {},
     "output_type": "execute_result"
    }
   ],
   "source": [
    "my_numpy_function = np.frompyfunc(truncated_binomial, 1, 1)\n",
    "my_numpy_function"
   ]
  },
  {
   "cell_type": "code",
   "execution_count": 134,
   "metadata": {
    "ExecuteTime": {
     "end_time": "2019-12-21T14:22:23.487279Z",
     "start_time": "2019-12-21T14:22:23.483252Z"
    }
   },
   "outputs": [],
   "source": [
    "test_array = np.arange(10)"
   ]
  },
  {
   "cell_type": "code",
   "execution_count": 135,
   "metadata": {
    "ExecuteTime": {
     "end_time": "2019-12-21T14:22:23.635501Z",
     "start_time": "2019-12-21T14:22:23.572084Z"
    }
   },
   "outputs": [
    {
     "data": {
      "text/plain": [
       "array([1, 7, 19, 37, 61, 91, 127, 169, 217, 271], dtype=object)"
      ]
     },
     "execution_count": 135,
     "metadata": {},
     "output_type": "execute_result"
    }
   ],
   "source": [
    "my_numpy_function(test_array)"
   ]
  },
  {
   "cell_type": "code",
   "execution_count": 136,
   "metadata": {
    "ExecuteTime": {
     "end_time": "2019-12-21T14:22:23.781086Z",
     "start_time": "2019-12-21T14:22:23.644535Z"
    }
   },
   "outputs": [
    {
     "data": {
      "text/plain": [
       "array([[ 0,  0,  0,  0,  0,  0,  0,  0,  0,  0],\n",
       "       [ 0,  1,  2,  3,  4,  5,  6,  7,  8,  9],\n",
       "       [ 0,  2,  4,  6,  8, 10, 12, 14, 16, 18],\n",
       "       [ 0,  3,  6,  9, 12, 15, 18, 21, 24, 27],\n",
       "       [ 0,  4,  8, 12, 16, 20, 24, 28, 32, 36],\n",
       "       [ 0,  5, 10, 15, 20, 25, 30, 35, 40, 45],\n",
       "       [ 0,  6, 12, 18, 24, 30, 36, 42, 48, 54],\n",
       "       [ 0,  7, 14, 21, 28, 35, 42, 49, 56, 63],\n",
       "       [ 0,  8, 16, 24, 32, 40, 48, 56, 64, 72],\n",
       "       [ 0,  9, 18, 27, 36, 45, 54, 63, 72, 81]])"
      ]
     },
     "execution_count": 136,
     "metadata": {},
     "output_type": "execute_result"
    }
   ],
   "source": [
    "big_test_array = np.outer(test_array, test_array)\n",
    "big_test_array"
   ]
  },
  {
   "cell_type": "code",
   "execution_count": 137,
   "metadata": {
    "ExecuteTime": {
     "end_time": "2019-12-21T14:22:23.902843Z",
     "start_time": "2019-12-21T14:22:23.781086Z"
    }
   },
   "outputs": [
    {
     "data": {
      "text/plain": [
       "array([[1, 1, 1, 1, 1, 1, 1, 1, 1, 1],\n",
       "       [1, 7, 19, 37, 61, 91, 127, 169, 217, 271],\n",
       "       [1, 19, 61, 127, 217, 331, 469, 631, 817, 1027],\n",
       "       [1, 37, 127, 271, 469, 721, 1027, 1387, 1801, 2269],\n",
       "       [1, 61, 217, 469, 817, 1261, 1801, 2437, 3169, 3997],\n",
       "       [1, 91, 331, 721, 1261, 1951, 2791, 3781, 4921, 6211],\n",
       "       [1, 127, 469, 1027, 1801, 2791, 3997, 5419, 7057, 8911],\n",
       "       [1, 169, 631, 1387, 2437, 3781, 5419, 7351, 9577, 12097],\n",
       "       [1, 217, 817, 1801, 3169, 4921, 7057, 9577, 12481, 15769],\n",
       "       [1, 271, 1027, 2269, 3997, 6211, 8911, 12097, 15769, 19927]],\n",
       "      dtype=object)"
      ]
     },
     "execution_count": 137,
     "metadata": {},
     "output_type": "execute_result"
    }
   ],
   "source": [
    "my_numpy_function(big_test_array)"
   ]
  },
  {
   "cell_type": "markdown",
   "metadata": {
    "ExecuteTime": {
     "end_time": "2019-12-21T14:03:08.018276Z",
     "start_time": "2019-12-21T14:03:08.014889Z"
    }
   },
   "source": [
    "* pythogorean triplets\n",
    "\n",
    "$X^n + Y^n = Z ^n$"
   ]
  },
  {
   "cell_type": "code",
   "execution_count": 138,
   "metadata": {
    "ExecuteTime": {
     "end_time": "2019-12-21T14:22:24.051475Z",
     "start_time": "2019-12-21T14:22:23.903843Z"
    }
   },
   "outputs": [],
   "source": [
    "def is_integer(x):\n",
    "    return np.equal(np.mod(x, 1), 0)"
   ]
  },
  {
   "cell_type": "code",
   "execution_count": 139,
   "metadata": {
    "ExecuteTime": {
     "end_time": "2019-12-21T14:22:24.190531Z",
     "start_time": "2019-12-21T14:22:24.051475Z"
    }
   },
   "outputs": [],
   "source": [
    "numpy_is_integer = np.frompyfunc(is_integer, 1, 1)"
   ]
  },
  {
   "cell_type": "code",
   "execution_count": 140,
   "metadata": {
    "ExecuteTime": {
     "end_time": "2019-12-21T14:22:24.343069Z",
     "start_time": "2019-12-21T14:22:24.190531Z"
    }
   },
   "outputs": [
    {
     "data": {
      "text/plain": [
       "array([[False, False, False, False, False, False, False, False, False],\n",
       "       [False, False, False, False, False, False, False, False, False],\n",
       "       [False, False, False, True, False, False, False, False, False],\n",
       "       [False, False, True, False, False, False, False, False, False],\n",
       "       [False, False, False, False, False, False, False, False, False],\n",
       "       [False, False, False, False, False, False, False, True, False],\n",
       "       [False, False, False, False, False, False, False, False, False],\n",
       "       [False, False, False, False, False, True, False, False, False],\n",
       "       [False, False, False, False, False, False, False, False, False]],\n",
       "      dtype=object)"
      ]
     },
     "execution_count": 140,
     "metadata": {},
     "output_type": "execute_result"
    }
   ],
   "source": [
    "number_of_triangles = 9\n",
    "\n",
    "base = np.arange(number_of_triangles) + 1\n",
    "height = np.arange(number_of_triangles) + 1\n",
    "\n",
    "# https://docs.scipy.org/doc/numpy/reference/generated/numpy.ufunc.outer.html\n",
    "hypotenuse_squared = np.add.outer(base ** 2, height ** 2)\n",
    "hypotenuse = np.sqrt(hypotenuse_squared)\n",
    "\n",
    "numpy_is_integer(hypotenuse)"
   ]
  },
  {
   "cell_type": "markdown",
   "metadata": {},
   "source": [
    "Another method\n",
    "\n",
    "for $m$ and $n$ $+ve$ integers, and m $\\geq$ n:\n",
    "                $X = m^2 - n^2; Y= 2mn; Z = m^2 + n^2$"
   ]
  }
 ],
 "metadata": {
  "kernelspec": {
   "display_name": "Python 3",
   "language": "python",
   "name": "python3"
  },
  "language_info": {
   "codemirror_mode": {
    "name": "ipython",
    "version": 3
   },
   "file_extension": ".py",
   "mimetype": "text/x-python",
   "name": "python",
   "nbconvert_exporter": "python",
   "pygments_lexer": "ipython3",
   "version": "3.7.4"
  },
  "toc": {
   "base_numbering": 1,
   "nav_menu": {},
   "number_sections": true,
   "sideBar": true,
   "skip_h1_title": false,
   "title_cell": "Table of Contents",
   "title_sidebar": "Contents",
   "toc_cell": true,
   "toc_position": {
    "height": "calc(100% - 180px)",
    "left": "10px",
    "top": "150px",
    "width": "165px"
   },
   "toc_section_display": true,
   "toc_window_display": false
  },
  "varInspector": {
   "cols": {
    "lenName": 16,
    "lenType": 16,
    "lenVar": 40
   },
   "kernels_config": {
    "python": {
     "delete_cmd_postfix": "",
     "delete_cmd_prefix": "del ",
     "library": "var_list.py",
     "varRefreshCmd": "print(var_dic_list())"
    },
    "r": {
     "delete_cmd_postfix": ") ",
     "delete_cmd_prefix": "rm(",
     "library": "var_list.r",
     "varRefreshCmd": "cat(var_dic_list()) "
    }
   },
   "types_to_exclude": [
    "module",
    "function",
    "builtin_function_or_method",
    "instance",
    "_Feature"
   ],
   "window_display": false
  }
 },
 "nbformat": 4,
 "nbformat_minor": 2
}
